{
  "cells": [
    {
      "cell_type": "markdown",
      "id": "9e4bcb5a",
      "metadata": {},
      "source": [
        "# Testing notebook\n",
        "In this notebook, we load our 9 trained models that has been saved on Kaggle collection, to test on `testset` and compare their performance"
      ]
    },
    {
      "cell_type": "markdown",
      "id": "3db8ec25",
      "metadata": {
        "id": "3db8ec25",
        "papermill": {
          "duration": 0.041734,
          "end_time": "2025-05-16T05:33:13.167552",
          "exception": false,
          "start_time": "2025-05-16T05:33:13.125818",
          "status": "completed"
        },
        "tags": []
      },
      "source": [
        "# 1. Download resource"
      ]
    },
    {
      "cell_type": "code",
      "execution_count": null,
      "id": "679d147b",
      "metadata": {
        "colab": {
          "base_uri": "https://localhost:8080/"
        },
        "execution": {
          "iopub.execute_input": "2025-05-16T05:33:13.244187Z",
          "iopub.status.busy": "2025-05-16T05:33:13.243577Z",
          "iopub.status.idle": "2025-05-16T05:33:13.690173Z",
          "shell.execute_reply": "2025-05-16T05:33:13.689451Z"
        },
        "id": "679d147b",
        "outputId": "46404225-7d8b-45f9-f41d-75d8640ab6fc",
        "papermill": {
          "duration": 0.485887,
          "end_time": "2025-05-16T05:33:13.691289",
          "exception": false,
          "start_time": "2025-05-16T05:33:13.205402",
          "status": "completed"
        },
        "tags": []
      },
      "outputs": [
        {
          "name": "stdout",
          "output_type": "stream",
          "text": [
            "Path to dataset files: /kaggle/input/imdb-dataset-of-50k-movie-reviews\n"
          ]
        }
      ],
      "source": [
        "import kagglehub\n",
        "\n",
        "# Download latest version\n",
        "path = kagglehub.dataset_download(\"lakshmi25npathi/imdb-dataset-of-50k-movie-reviews\")\n",
        "\n",
        "print(\"Path to dataset files:\", path)"
      ]
    },
    {
      "cell_type": "markdown",
      "id": "9a6dafbe",
      "metadata": {
        "id": "9a6dafbe",
        "papermill": {
          "duration": 0.03687,
          "end_time": "2025-05-16T05:33:15.399982",
          "exception": false,
          "start_time": "2025-05-16T05:33:15.363112",
          "status": "completed"
        },
        "tags": []
      },
      "source": [
        "## Download library"
      ]
    },
    {
      "cell_type": "code",
      "execution_count": null,
      "id": "2d07ecbb",
      "metadata": {
        "colab": {
          "base_uri": "https://localhost:8080/"
        },
        "execution": {
          "iopub.execute_input": "2025-05-16T05:33:15.475599Z",
          "iopub.status.busy": "2025-05-16T05:33:15.475195Z",
          "iopub.status.idle": "2025-05-16T05:33:19.852598Z",
          "shell.execute_reply": "2025-05-16T05:33:19.851640Z"
        },
        "id": "2d07ecbb",
        "outputId": "529c81d3-233f-44cd-8810-038d7667445a",
        "papermill": {
          "duration": 4.417139,
          "end_time": "2025-05-16T05:33:19.854281",
          "exception": false,
          "start_time": "2025-05-16T05:33:15.437142",
          "status": "completed"
        },
        "tags": []
      },
      "outputs": [
        {
          "name": "stdout",
          "output_type": "stream",
          "text": [
            "Requirement already satisfied: datasets in /usr/local/lib/python3.11/dist-packages (2.14.4)\n",
            "Requirement already satisfied: numpy>=1.17 in /usr/local/lib/python3.11/dist-packages (from datasets) (1.26.4)\n",
            "Requirement already satisfied: pyarrow>=8.0.0 in /usr/local/lib/python3.11/dist-packages (from datasets) (18.1.0)\n",
            "Requirement already satisfied: dill<0.3.8,>=0.3.0 in /usr/local/lib/python3.11/dist-packages (from datasets) (0.3.7)\n",
            "Requirement already satisfied: pandas in /usr/local/lib/python3.11/dist-packages (from datasets) (2.2.2)\n",
            "Requirement already satisfied: requests>=2.19.0 in /usr/local/lib/python3.11/dist-packages (from datasets) (2.32.3)\n",
            "Requirement already satisfied: tqdm>=4.62.1 in /usr/local/lib/python3.11/dist-packages (from datasets) (4.67.1)\n",
            "Requirement already satisfied: xxhash in /usr/local/lib/python3.11/dist-packages (from datasets) (3.5.0)\n",
            "Requirement already satisfied: multiprocess in /usr/local/lib/python3.11/dist-packages (from datasets) (0.70.15)\n",
            "Requirement already satisfied: fsspec>=2021.11.1 in /usr/local/lib/python3.11/dist-packages (from fsspec[http]>=2021.11.1->datasets) (2025.3.2)\n",
            "Requirement already satisfied: aiohttp in /usr/local/lib/python3.11/dist-packages (from datasets) (3.11.15)\n",
            "Requirement already satisfied: huggingface-hub<1.0.0,>=0.14.0 in /usr/local/lib/python3.11/dist-packages (from datasets) (0.31.2)\n",
            "Requirement already satisfied: packaging in /usr/local/lib/python3.11/dist-packages (from datasets) (24.2)\n",
            "Requirement already satisfied: pyyaml>=5.1 in /usr/local/lib/python3.11/dist-packages (from datasets) (6.0.2)\n",
            "Requirement already satisfied: aiohappyeyeballs>=2.3.0 in /usr/local/lib/python3.11/dist-packages (from aiohttp->datasets) (2.6.1)\n",
            "Requirement already satisfied: aiosignal>=1.1.2 in /usr/local/lib/python3.11/dist-packages (from aiohttp->datasets) (1.3.2)\n",
            "Requirement already satisfied: attrs>=17.3.0 in /usr/local/lib/python3.11/dist-packages (from aiohttp->datasets) (25.3.0)\n",
            "Requirement already satisfied: frozenlist>=1.1.1 in /usr/local/lib/python3.11/dist-packages (from aiohttp->datasets) (1.6.0)\n",
            "Requirement already satisfied: multidict<7.0,>=4.5 in /usr/local/lib/python3.11/dist-packages (from aiohttp->datasets) (6.4.3)\n",
            "Requirement already satisfied: propcache>=0.2.0 in /usr/local/lib/python3.11/dist-packages (from aiohttp->datasets) (0.3.1)\n",
            "Requirement already satisfied: yarl<2.0,>=1.17.0 in /usr/local/lib/python3.11/dist-packages (from aiohttp->datasets) (1.20.0)\n",
            "Requirement already satisfied: filelock in /usr/local/lib/python3.11/dist-packages (from huggingface-hub<1.0.0,>=0.14.0->datasets) (3.18.0)\n",
            "Requirement already satisfied: typing-extensions>=3.7.4.3 in /usr/local/lib/python3.11/dist-packages (from huggingface-hub<1.0.0,>=0.14.0->datasets) (4.13.2)\n",
            "Requirement already satisfied: charset-normalizer<4,>=2 in /usr/local/lib/python3.11/dist-packages (from requests>=2.19.0->datasets) (3.4.2)\n",
            "Requirement already satisfied: idna<4,>=2.5 in /usr/local/lib/python3.11/dist-packages (from requests>=2.19.0->datasets) (3.10)\n",
            "Requirement already satisfied: urllib3<3,>=1.21.1 in /usr/local/lib/python3.11/dist-packages (from requests>=2.19.0->datasets) (2.4.0)\n",
            "Requirement already satisfied: certifi>=2017.4.17 in /usr/local/lib/python3.11/dist-packages (from requests>=2.19.0->datasets) (2025.4.26)\n",
            "Requirement already satisfied: python-dateutil>=2.8.2 in /usr/local/lib/python3.11/dist-packages (from pandas->datasets) (2.9.0.post0)\n",
            "Requirement already satisfied: pytz>=2020.1 in /usr/local/lib/python3.11/dist-packages (from pandas->datasets) (2025.2)\n",
            "Requirement already satisfied: tzdata>=2022.7 in /usr/local/lib/python3.11/dist-packages (from pandas->datasets) (2025.2)\n",
            "Requirement already satisfied: six>=1.5 in /usr/local/lib/python3.11/dist-packages (from python-dateutil>=2.8.2->pandas->datasets) (1.17.0)\n"
          ]
        }
      ],
      "source": [
        "!pip install datasets\n",
        "# !pip uninstall numpy\n",
        "# !pip install numpy==1.26.4"
      ]
    },
    {
      "cell_type": "code",
      "execution_count": null,
      "id": "9eWQNiSov4r4",
      "metadata": {
        "colab": {
          "base_uri": "https://localhost:8080/",
          "height": 36
        },
        "id": "9eWQNiSov4r4",
        "outputId": "3c421f6d-fca2-442d-e7bb-f132bfcb0c58"
      },
      "outputs": [
        {
          "data": {
            "application/vnd.google.colaboratory.intrinsic+json": {
              "type": "string"
            },
            "text/plain": [
              "'1.26.4'"
            ]
          },
          "execution_count": 4,
          "metadata": {},
          "output_type": "execute_result"
        }
      ],
      "source": [
        "import numpy as np\n",
        "np.__version__"
      ]
    },
    {
      "cell_type": "code",
      "execution_count": null,
      "id": "c9844b33",
      "metadata": {
        "colab": {
          "base_uri": "https://localhost:8080/"
        },
        "execution": {
          "iopub.execute_input": "2025-05-16T05:33:13.813182Z",
          "iopub.status.busy": "2025-05-16T05:33:13.812894Z",
          "iopub.status.idle": "2025-05-16T05:33:15.323362Z",
          "shell.execute_reply": "2025-05-16T05:33:15.322653Z"
        },
        "id": "c9844b33",
        "outputId": "af650008-b92f-44d1-c401-96c7f36646fb",
        "papermill": {
          "duration": 1.594727,
          "end_time": "2025-05-16T05:33:15.324615",
          "exception": false,
          "start_time": "2025-05-16T05:33:13.729888",
          "status": "completed"
        },
        "tags": []
      },
      "outputs": [
        {
          "name": "stdout",
          "output_type": "stream",
          "text": [
            "/kaggle/input/imdb-dataset-of-50k-movie-reviews/IMDB Dataset.csv\n"
          ]
        }
      ],
      "source": [
        "# This Python 3 environment comes with many helpful analytics libraries installed\n",
        "# It is defined by the kaggle/python Docker image: https://github.com/kaggle/docker-python\n",
        "# For example, here's several helpful packages to load\n",
        "\n",
        "import numpy as np # linear algebra\n",
        "import pandas as pd # data processing, CSV file I/O (e.g. pd.read_csv)\n",
        "\n",
        "# Input data files are available in the read-only \"../input/\" directory\n",
        "# For example, running this (by clicking run or pressing Shift+Enter) will list all files under the input directory\n",
        "\n",
        "import os\n",
        "for dirname, _, filenames in os.walk(path):\n",
        "    for filename in filenames:\n",
        "        print(os.path.join(dirname, filename))\n",
        "\n",
        "# You can write up to 20GB to the current directory (/kaggle/working/) that gets preserved as output when you create a version using \"Save & Run All\"\n",
        "# You can also write temporary files to /kaggle/temp/, but they won't be saved outside of the current session"
      ]
    },
    {
      "cell_type": "code",
      "execution_count": null,
      "id": "1de83071",
      "metadata": {
        "execution": {
          "iopub.execute_input": "2025-05-16T05:33:19.934399Z",
          "iopub.status.busy": "2025-05-16T05:33:19.934126Z",
          "iopub.status.idle": "2025-05-16T05:33:26.630568Z",
          "shell.execute_reply": "2025-05-16T05:33:26.629753Z"
        },
        "id": "1de83071",
        "papermill": {
          "duration": 6.737675,
          "end_time": "2025-05-16T05:33:26.632011",
          "exception": false,
          "start_time": "2025-05-16T05:33:19.894336",
          "status": "completed"
        },
        "tags": []
      },
      "outputs": [],
      "source": [
        "# import pandas as pd\n",
        "import datasets\n",
        "import numpy as np\n",
        "import re,string\n",
        "import torch\n",
        "import torch.nn as nn\n",
        "import math\n",
        "import nltk\n",
        "import pandas as pd\n",
        "from nltk.tokenize import word_tokenize\n",
        "from sklearn.model_selection import train_test_split"
      ]
    },
    {
      "cell_type": "markdown",
      "id": "45caeed5",
      "metadata": {
        "id": "45caeed5",
        "papermill": {
          "duration": 0.037794,
          "end_time": "2025-05-16T05:33:26.710626",
          "exception": false,
          "start_time": "2025-05-16T05:33:26.672832",
          "status": "completed"
        },
        "tags": []
      },
      "source": [
        "## Load dataset"
      ]
    },
    {
      "cell_type": "code",
      "execution_count": null,
      "id": "681e5f34",
      "metadata": {
        "colab": {
          "base_uri": "https://localhost:8080/"
        },
        "execution": {
          "iopub.execute_input": "2025-05-16T05:33:26.788034Z",
          "iopub.status.busy": "2025-05-16T05:33:26.787362Z",
          "iopub.status.idle": "2025-05-16T05:33:28.108710Z",
          "shell.execute_reply": "2025-05-16T05:33:28.107796Z"
        },
        "id": "681e5f34",
        "outputId": "1043338a-8471-465d-ec04-270a5a802975",
        "papermill": {
          "duration": 1.361357,
          "end_time": "2025-05-16T05:33:28.109961",
          "exception": false,
          "start_time": "2025-05-16T05:33:26.748604",
          "status": "completed"
        },
        "tags": []
      },
      "outputs": [
        {
          "name": "stdout",
          "output_type": "stream",
          "text": [
            "<class 'pandas.core.frame.DataFrame'>\n",
            "RangeIndex: 50000 entries, 0 to 49999\n",
            "Data columns (total 2 columns):\n",
            " #   Column     Non-Null Count  Dtype \n",
            "---  ------     --------------  ----- \n",
            " 0   review     50000 non-null  object\n",
            " 1   sentiment  50000 non-null  object\n",
            "dtypes: object(2)\n",
            "memory usage: 781.4+ KB\n"
          ]
        }
      ],
      "source": [
        "data_path = f\"{path}/IMDB Dataset.csv\"\n",
        "\n",
        "df = pd.read_csv(data_path)\n",
        "df.info()"
      ]
    },
    {
      "cell_type": "markdown",
      "id": "a88f3ec7",
      "metadata": {
        "id": "a88f3ec7",
        "papermill": {
          "duration": 0.037751,
          "end_time": "2025-05-16T05:33:28.186683",
          "exception": false,
          "start_time": "2025-05-16T05:33:28.148932",
          "status": "completed"
        },
        "tags": []
      },
      "source": [
        "## Visualize the balance of data"
      ]
    },
    {
      "cell_type": "code",
      "execution_count": null,
      "id": "2badc1eb",
      "metadata": {
        "colab": {
          "base_uri": "https://localhost:8080/",
          "height": 487
        },
        "execution": {
          "iopub.execute_input": "2025-05-16T05:33:28.263332Z",
          "iopub.status.busy": "2025-05-16T05:33:28.263094Z",
          "iopub.status.idle": "2025-05-16T05:33:28.523510Z",
          "shell.execute_reply": "2025-05-16T05:33:28.522871Z"
        },
        "id": "2badc1eb",
        "outputId": "57c9bbb1-94cc-47fa-c28b-3b93b2577e79",
        "papermill": {
          "duration": 0.300631,
          "end_time": "2025-05-16T05:33:28.524980",
          "exception": false,
          "start_time": "2025-05-16T05:33:28.224349",
          "status": "completed"
        },
        "tags": []
      },
      "outputs": [
        {
          "data": {
            "image/png": "[encoded data removed]",
            "text/plain": [
              "<Figure size 640x480 with 1 Axes>"
            ]
          },
          "metadata": {},
          "output_type": "display_data"
        }
      ],
      "source": [
        "import matplotlib.pyplot as plt\n",
        "\n",
        "# Count the number of samples in each label\n",
        "label_counts = df['sentiment'].value_counts()\n",
        "\n",
        "# Plot a column diagram (bar chart)\n",
        "label_counts.plot(kind='bar', color='skyblue', edgecolor='black')\n",
        "\n",
        "plt.title('Number of Samples per Label')\n",
        "plt.xlabel('Label')\n",
        "plt.ylabel('Count')\n",
        "plt.xticks(rotation=45)\n",
        "plt.grid(axis='y', linestyle='--', alpha=0.7)\n",
        "\n",
        "plt.tight_layout()\n",
        "plt.show()"
      ]
    },
    {
      "cell_type": "markdown",
      "id": "c98efd58",
      "metadata": {
        "id": "c98efd58",
        "papermill": {
          "duration": 0.038804,
          "end_time": "2025-05-16T05:33:28.605307",
          "exception": false,
          "start_time": "2025-05-16T05:33:28.566503",
          "status": "completed"
        },
        "tags": []
      },
      "source": [
        "## Load into `Datasets` object"
      ]
    },
    {
      "cell_type": "code",
      "execution_count": null,
      "id": "172a10db",
      "metadata": {
        "colab": {
          "base_uri": "https://localhost:8080/"
        },
        "execution": {
          "iopub.execute_input": "2025-05-16T05:33:28.685465Z",
          "iopub.status.busy": "2025-05-16T05:33:28.685007Z",
          "iopub.status.idle": "2025-05-16T05:33:29.295422Z",
          "shell.execute_reply": "2025-05-16T05:33:29.294674Z"
        },
        "id": "172a10db",
        "outputId": "b3d728b1-a562-4127-af1f-16ef6d6e8f7f",
        "papermill": {
          "duration": 0.652444,
          "end_time": "2025-05-16T05:33:29.296592",
          "exception": false,
          "start_time": "2025-05-16T05:33:28.644148",
          "status": "completed"
        },
        "tags": []
      },
      "outputs": [
        {
          "data": {
            "text/plain": [
              "Dataset({\n",
              "    features: ['review', 'sentiment', 'labels'],\n",
              "    num_rows: 50000\n",
              "})"
            ]
          },
          "execution_count": 9,
          "metadata": {},
          "output_type": "execute_result"
        }
      ],
      "source": [
        "from datasets import Dataset, DatasetDict\n",
        "\n",
        "df['labels'] = df['sentiment'].apply(lambda x: 0 if x == 'negative' else 1)\n",
        "dataset = Dataset.from_pandas(df)\n",
        "\n",
        "dataset"
      ]
    },
    {
      "cell_type": "markdown",
      "id": "26faf6b9",
      "metadata": {
        "id": "26faf6b9",
        "papermill": {
          "duration": 0.038028,
          "end_time": "2025-05-16T05:33:29.374030",
          "exception": false,
          "start_time": "2025-05-16T05:33:29.336002",
          "status": "completed"
        },
        "tags": []
      },
      "source": [
        "## Create `DatasetDict` object"
      ]
    },
    {
      "cell_type": "code",
      "execution_count": null,
      "id": "ad4c416d",
      "metadata": {
        "colab": {
          "base_uri": "https://localhost:8080/"
        },
        "execution": {
          "iopub.execute_input": "2025-05-16T05:33:29.451800Z",
          "iopub.status.busy": "2025-05-16T05:33:29.451015Z",
          "iopub.status.idle": "2025-05-16T05:33:29.492749Z",
          "shell.execute_reply": "2025-05-16T05:33:29.491822Z"
        },
        "id": "ad4c416d",
        "outputId": "f9ca9d77-0b87-4479-82d9-c9eeabd10e12",
        "papermill": {
          "duration": 0.081725,
          "end_time": "2025-05-16T05:33:29.494012",
          "exception": false,
          "start_time": "2025-05-16T05:33:29.412287",
          "status": "completed"
        },
        "tags": []
      },
      "outputs": [
        {
          "name": "stdout",
          "output_type": "stream",
          "text": [
            "DatasetDict({\n",
            "    train: Dataset({\n",
            "        features: ['review', 'sentiment', 'labels'],\n",
            "        num_rows: 35000\n",
            "    })\n",
            "    validation: Dataset({\n",
            "        features: ['review', 'sentiment', 'labels'],\n",
            "        num_rows: 5000\n",
            "    })\n",
            "    test: Dataset({\n",
            "        features: ['review', 'sentiment', 'labels'],\n",
            "        num_rows: 10000\n",
            "    })\n",
            "})\n"
          ]
        }
      ],
      "source": [
        "# First split into train+val and test\n",
        "train_val_split = dataset.train_test_split(test_size=0.2, seed=42)\n",
        "\n",
        "# Then split train+val into train and val\n",
        "train_val = train_val_split['train'].train_test_split(test_size=0.125, seed=42)  # 0.125 x 0.8 = 0.1\n",
        "\n",
        "# Combine everything into a DatasetDict\n",
        "dataset_dict = DatasetDict({\n",
        "    'train': train_val['train'],\n",
        "    'validation': train_val['test'],\n",
        "    'test': train_val_split['test']\n",
        "})\n",
        "\n",
        "print(dataset_dict)"
      ]
    },
    {
      "cell_type": "markdown",
      "id": "a063c660",
      "metadata": {
        "id": "a063c660",
        "papermill": {
          "duration": 0.038164,
          "end_time": "2025-05-16T05:33:29.571294",
          "exception": false,
          "start_time": "2025-05-16T05:33:29.533130",
          "status": "completed"
        },
        "tags": []
      },
      "source": [
        "# 2. Build abstract function"
      ]
    },
    {
      "cell_type": "markdown",
      "id": "ecb74817",
      "metadata": {
        "id": "ecb74817",
        "papermill": {
          "duration": 0.039146,
          "end_time": "2025-05-16T05:33:29.649233",
          "exception": false,
          "start_time": "2025-05-16T05:33:29.610087",
          "status": "completed"
        },
        "tags": []
      },
      "source": [
        "## 2.1 Preprocessing function"
      ]
    },
    {
      "cell_type": "code",
      "execution_count": null,
      "id": "49bbb1f8",
      "metadata": {
        "execution": {
          "iopub.execute_input": "2025-05-16T05:33:29.729416Z",
          "iopub.status.busy": "2025-05-16T05:33:29.729155Z",
          "iopub.status.idle": "2025-05-16T05:33:29.735097Z",
          "shell.execute_reply": "2025-05-16T05:33:29.734582Z"
        },
        "id": "49bbb1f8",
        "papermill": {
          "duration": 0.047109,
          "end_time": "2025-05-16T05:33:29.736144",
          "exception": false,
          "start_time": "2025-05-16T05:33:29.689035",
          "status": "completed"
        },
        "tags": []
      },
      "outputs": [],
      "source": [
        "from torch.utils.data import DataLoader, Dataset\n",
        "\n",
        "# Function to tokenize and include labels\n",
        "def tokenize_function(examples, tokenizer, max_length):\n",
        "    tokenized_output = tokenizer(examples[\"review\"], truncation=True, padding=\"max_length\", max_length=max_length)\n",
        "    return tokenized_output\n",
        "\n",
        "def preprocessing(dataset_dict, tokenizer, batch_size, max_model_length=None):\n",
        "    fn_kwargs = {\n",
        "        \"tokenizer\": tokenizer,\n",
        "        \"max_length\": max_model_length\n",
        "    }\n",
        "\n",
        "    # Apply the tokenize_function to the datasets\n",
        "    train_dataset = dataset_dict[\"train\"].map(tokenize_function, fn_kwargs=fn_kwargs, batched=True)\n",
        "    val_dataset = dataset_dict[\"validation\"].map(tokenize_function, fn_kwargs=fn_kwargs, batched=True)\n",
        "    test_dataset = dataset_dict[\"test\"].map(tokenize_function, fn_kwargs=fn_kwargs, batched=True)\n",
        "\n",
        "    train_dataset.set_format(type=\"torch\", columns=[\"input_ids\", \"attention_mask\", \"labels\"])\n",
        "    val_dataset.set_format(type=\"torch\", columns=[\"input_ids\", \"attention_mask\", \"labels\"]) # changed \"label\" to \"labels\"\n",
        "    test_dataset.set_format(type=\"torch\", columns=[\"input_ids\", \"attention_mask\", \"labels\"]) # changed \"label\" to \"labels\"\n",
        "\n",
        "    train_loader = DataLoader(train_dataset, batch_size=batch_size, shuffle=True)\n",
        "    val_loader = DataLoader(val_dataset, batch_size=batch_size, shuffle=False)\n",
        "    test_loader = DataLoader(test_dataset, batch_size=batch_size, shuffle=False)\n",
        "\n",
        "    return train_loader, val_loader, test_loader"
      ]
    },
    {
      "cell_type": "markdown",
      "id": "d5a7e812",
      "metadata": {
        "id": "d5a7e812",
        "papermill": {
          "duration": 0.038301,
          "end_time": "2025-05-16T05:33:29.813219",
          "exception": false,
          "start_time": "2025-05-16T05:33:29.774918",
          "status": "completed"
        },
        "tags": []
      },
      "source": [
        "## 2.2 Training function"
      ]
    },
    {
      "cell_type": "code",
      "execution_count": null,
      "id": "36be5cc5",
      "metadata": {
        "execution": {
          "iopub.execute_input": "2025-05-16T05:33:29.892362Z",
          "iopub.status.busy": "2025-05-16T05:33:29.892108Z",
          "iopub.status.idle": "2025-05-16T05:33:50.655580Z",
          "shell.execute_reply": "2025-05-16T05:33:50.654752Z"
        },
        "id": "36be5cc5",
        "papermill": {
          "duration": 20.805408,
          "end_time": "2025-05-16T05:33:50.656986",
          "exception": false,
          "start_time": "2025-05-16T05:33:29.851578",
          "status": "completed"
        },
        "tags": []
      },
      "outputs": [],
      "source": [
        "from tqdm import tqdm\n",
        "from torch.optim import AdamW\n",
        "from peft import get_peft_model_state_dict, set_peft_model_state_dict\n",
        "from sklearn.metrics import accuracy_score\n",
        "import time\n",
        "import datetime\n",
        "\n",
        "def count_parameters(model):\n",
        "    return sum(p.numel() for p in model.parameters() if p.requires_grad)\n",
        "\n",
        "def accuracy_score_fn(outputs, labels):\n",
        "    predictions = np.argmax(outputs, axis=1)\n",
        "    return accuracy_score(labels, predictions)\n",
        "\n",
        "def save_model(model, path):\n",
        "    model_state_dict = get_peft_model_state_dict(model)\n",
        "    torch.save(model_state_dict, path)\n",
        "\n",
        "def evaluate_fn(model, val_loader, device):\n",
        "    model.eval()\n",
        "    total_loss = 0.0\n",
        "    all_preds = []\n",
        "    all_labels = []\n",
        "\n",
        "    with torch.no_grad():\n",
        "        progress_bar = tqdm(val_loader, desc=\"Evaluate model\", leave=False)\n",
        "\n",
        "        for batch in progress_bar:\n",
        "            input_ids = batch[\"input_ids\"].to(device)\n",
        "            attention_mask = batch[\"attention_mask\"].to(device)\n",
        "            labels = torch.tensor(batch[\"labels\"]).to(device)  # Assuming labels are numerical and can be moved to the device\n",
        "\n",
        "            # Prepare inputs for the model\n",
        "            model_inputs = {\n",
        "                \"input_ids\": input_ids,\n",
        "                \"attention_mask\": attention_mask,\n",
        "                \"labels\": labels,\n",
        "            }\n",
        "\n",
        "            outputs = model(**model_inputs)\n",
        "            loss = outputs.loss\n",
        "            total_loss += loss.item()\n",
        "\n",
        "            # Accuracy score\n",
        "            all_preds.extend(outputs.logits.detach().cpu().numpy())\n",
        "            all_labels.extend(labels.detach().cpu().numpy())\n",
        "\n",
        "            ### TODO: DELETE IT\n",
        "            # break\n",
        "\n",
        "    avg_val_loss = total_loss / len(val_loader)\n",
        "    value = accuracy_score_fn(np.array(all_preds), np.array(all_labels))\n",
        "    return avg_val_loss, value\n",
        "\n",
        "def train_and_save(model, train_loader, val_loader, output_dir, device, lr, epochs, save_fn = save_model):\n",
        "    # only update the parameters that require gradients in the case of BitFit or Lora\n",
        "    optimizer = AdamW(filter(lambda p: p.requires_grad, model.parameters()), lr=lr)\n",
        "    best_loss = float('inf')\n",
        "\n",
        "    for epoch in range(1, epochs + 1):\n",
        "        start = time.time()\n",
        "        model.train()\n",
        "        total_loss = 0.0\n",
        "        patience = 0        # Early stopping\n",
        "\n",
        "        progress_bar = tqdm(train_loader, desc=f\"Epoch {epoch} Training\", leave=False)\n",
        "\n",
        "        for batch in progress_bar:\n",
        "            input_ids = batch[\"input_ids\"].to(device)\n",
        "            attention_mask = batch[\"attention_mask\"].to(device)\n",
        "            labels = batch[\"labels\"].to(device)  # Assuming labels are numerical\n",
        "\n",
        "            # Prepare inputs for the model\n",
        "            model_inputs = {\n",
        "                \"input_ids\": input_ids,\n",
        "                \"attention_mask\": attention_mask,\n",
        "                \"labels\": labels,\n",
        "            }\n",
        "\n",
        "            outputs = model(**model_inputs)\n",
        "\n",
        "            loss = outputs.loss # Loss function is provided by the Sentence Classification head\n",
        "            loss.backward()\n",
        "            optimizer.step()\n",
        "            optimizer.zero_grad()\n",
        "            total_loss += loss.item()\n",
        "\n",
        "            progress_bar.set_postfix(loss=loss.item())\n",
        "\n",
        "            ### TODO: DELETE IT\n",
        "            # break\n",
        "\n",
        "        avg_loss = total_loss / len(train_loader)\n",
        "\n",
        "        val_loss, accuracy_score = evaluate_fn(model, val_loader, device)\n",
        "        train_duration = time.time() - start\n",
        "        print(f\"Epoch {epoch} - Average loss: {avg_loss:.4f} - Trainning duration: {str(datetime.timedelta(seconds=int(train_duration)))}\")\n",
        "        print(f\"Average Validation: {val_loss:.4f} - Validation accuracy: {accuracy_score:.4f}\")\n",
        "\n",
        "        if val_loss < best_loss:\n",
        "            patience = 0\n",
        "            best_loss = val_loss\n",
        "            save_fn(model, output_dir)\n",
        "            print(f\"Saved model in {output_dir}\")\n",
        "        else:\n",
        "            patience += 1\n",
        "            if patience == 2:\n",
        "                print(\"Early stopping triggered. No improvement in validation loss.\")\n",
        "                break"
      ]
    },
    {
      "cell_type": "markdown",
      "id": "ca47f92a",
      "metadata": {
        "id": "ca47f92a",
        "papermill": {
          "duration": 0.040202,
          "end_time": "2025-05-16T05:33:50.737316",
          "exception": false,
          "start_time": "2025-05-16T05:33:50.697114",
          "status": "completed"
        },
        "tags": []
      },
      "source": [
        "## 2.3 Path of Trained Model"
      ]
    },
    {
      "cell_type": "markdown",
      "id": "f838c0e5",
      "metadata": {
        "id": "f838c0e5",
        "papermill": {
          "duration": 0.038435,
          "end_time": "2025-05-16T05:33:50.815339",
          "exception": false,
          "start_time": "2025-05-16T05:33:50.776904",
          "status": "completed"
        },
        "tags": []
      },
      "source": [
        "### Download trained model from collection"
      ]
    },
    {
      "cell_type": "code",
      "execution_count": null,
      "id": "4b25f387",
      "metadata": {
        "colab": {
          "base_uri": "https://localhost:8080/",
          "height": 1000,
          "referenced_widgets": [
            "84380cf894fa43b283bf3c26f3fc756c",
            "88d2df178f124d1a80cda8f12ee088fd",
            "ed729d61879f4ef4a4a26652d0dba72e",
            "7bbcadacc54c4c61a74c7b50d4b6c44b",
            "10dfead4f0da4dfaae40ccf765fbcae5",
            "c2540ab25277456cadd3e2e15295fe4f",
            "d6ef94ed562d47659ce25c932b50aded",
            "3917ebe72c574783a69007f11300ceb3",
            "262947e10fb2421d84a960bd72a7982b",
            "7150e14e907f45b5b64769a60880b7dd",
            "2d42d5521f374b7fabdceea3e805c228"
          ]
        },
        "execution": {
          "iopub.execute_input": "2025-05-16T05:33:50.896593Z",
          "iopub.status.busy": "2025-05-16T05:33:50.895467Z",
          "iopub.status.idle": "2025-05-16T05:33:51.297917Z",
          "shell.execute_reply": "2025-05-16T05:33:51.297080Z"
        },
        "id": "4b25f387",
        "outputId": "bdda46f0-464c-456c-d63f-35190715ed33",
        "papermill": {
          "duration": 0.444045,
          "end_time": "2025-05-16T05:33:51.299120",
          "exception": false,
          "start_time": "2025-05-16T05:33:50.855075",
          "status": "completed"
        },
        "tags": []
      },
      "outputs": [
        {
          "data": {
            "application/vnd.jupyter.widget-view+json": {
              "model_id": "84380cf894fa43b283bf3c26f3fc756c",
              "version_major": 2,
              "version_minor": 0
            },
            "text/plain": [
              "Downloading 9 files:   0%|          | 0/9 [00:00<?, ?it/s]"
            ]
          },
          "metadata": {},
          "output_type": "display_data"
        },
        {
          "name": "stdout",
          "output_type": "stream",
          "text": [
            "Downloading from https://www.kaggle.com/api/v1/models/trungtranhcmut/assignment-text-classification-model/pyTorch/default/4/download/bert_prompt_model_v06_05.pt...\n"
          ]
        },
        {
          "name": "stderr",
          "output_type": "stream",
          "text": [
            "\n",
            "100%|██████████| 67.9k/67.9k [00:00<00:00, 1.03MB/s]\n"
          ]
        },
        {
          "name": "stdout",
          "output_type": "stream",
          "text": [
            "Downloading from https://www.kaggle.com/api/v1/models/trungtranhcmut/assignment-text-classification-model/pyTorch/default/4/download/roberta-base_lora_model_v1.pt...\n"
          ]
        },
        {
          "name": "stderr",
          "output_type": "stream",
          "text": [
            "\n",
            "  0%|          | 0.00/3.40M [00:00<?, ?B/s]\u001b[A"
          ]
        },
        {
          "name": "stdout",
          "output_type": "stream",
          "text": [
            "Downloading from https://www.kaggle.com/api/v1/models/trungtranhcmut/assignment-text-classification-model/pyTorch/default/4/download/distilbert-base-uncased_prompt_model_v02_05.pt...\n"
          ]
        },
        {
          "name": "stderr",
          "output_type": "stream",
          "text": [
            "\n",
            "\n",
            "  0%|          | 0.00/2.32M [00:00<?, ?B/s]\u001b[A\u001b[A"
          ]
        },
        {
          "name": "stdout",
          "output_type": "stream",
          "text": [
            "Downloading from https://www.kaggle.com/api/v1/models/trungtranhcmut/assignment-text-classification-model/pyTorch/default/4/download/bert_bitfit_model_v15-05.pt...\n"
          ]
        },
        {
          "name": "stderr",
          "output_type": "stream",
          "text": [
            "\n",
            "\n",
            "\n",
            "  0%|          | 0.00/418M [00:00<?, ?B/s]\u001b[A\u001b[A\u001b[A"
          ]
        },
        {
          "name": "stdout",
          "output_type": "stream",
          "text": [
            "Downloading from https://www.kaggle.com/api/v1/models/trungtranhcmut/assignment-text-classification-model/pyTorch/default/4/download/bert_lora_model_v01_05.pt...\n"
          ]
        },
        {
          "name": "stderr",
          "output_type": "stream",
          "text": [
            "\n",
            "\n",
            "\n",
            "\n",
            "  0%|          | 0.00/1.15M [00:00<?, ?B/s]\u001b[A\u001b[A\u001b[A\u001b[A"
          ]
        },
        {
          "name": "stdout",
          "output_type": "stream",
          "text": [
            "Downloading from https://www.kaggle.com/api/v1/models/trungtranhcmut/assignment-text-classification-model/pyTorch/default/4/download/roberta-base_bitfit_model_v15-05.pt...\n"
          ]
        },
        {
          "name": "stderr",
          "output_type": "stream",
          "text": [
            "\n",
            "\n",
            "\n",
            "\n",
            "\n",
            "  0%|          | 0.00/476M [00:00<?, ?B/s]\u001b[A\u001b[A\u001b[A\u001b[A\u001b[A"
          ]
        },
        {
          "name": "stdout",
          "output_type": "stream",
          "text": [
            "Downloading from https://www.kaggle.com/api/v1/models/trungtranhcmut/assignment-text-classification-model/pyTorch/default/4/download/distilbert-base-uncased_bitfit_model_v15-05.pt...\n"
          ]
        },
        {
          "name": "stderr",
          "output_type": "stream",
          "text": [
            "\n",
            "\n",
            "\n",
            "\n",
            "\n",
            "\n",
            "  0%|          | 0.00/255M [00:00<?, ?B/s]\u001b[A\u001b[A\u001b[A\u001b[A\u001b[A\u001b[A"
          ]
        },
        {
          "name": "stdout",
          "output_type": "stream",
          "text": [
            "Downloading from https://www.kaggle.com/api/v1/models/trungtranhcmut/assignment-text-classification-model/pyTorch/default/4/download/distilbert-base-uncased_lora_model_v06_05.pt...\n"
          ]
        },
        {
          "name": "stderr",
          "output_type": "stream",
          "text": [
            "\n",
            "\n",
            "\n",
            "\n",
            "\n",
            "\n",
            "\n",
            "  0%|          | 0.00/2.55M [00:00<?, ?B/s]\u001b[A\u001b[A\u001b[A\u001b[A\u001b[A\u001b[A\u001b[A\n",
            " 29%|██▉       | 1.00M/3.40M [00:00<00:00, 3.06MB/s]\u001b[A\n",
            "\n",
            "\n",
            "  0%|          | 1.00M/418M [00:00<02:22, 3.06MB/s]\u001b[A\u001b[A\u001b[A\n",
            "\n",
            " 43%|████▎     | 1.00M/2.32M [00:00<00:00, 2.98MB/s]\u001b[A\u001b[A\n",
            "\n",
            "\n",
            "\n",
            "\n",
            "  0%|          | 1.00M/476M [00:00<02:44, 3.02MB/s]\u001b[A\u001b[A\u001b[A\u001b[A\u001b[A\n",
            "\n",
            "\n",
            "\n",
            "\n",
            "\n",
            "  0%|          | 1.00M/255M [00:00<01:27, 3.04MB/s]\u001b[A\u001b[A\u001b[A\u001b[A\u001b[A\u001b[A\n",
            "\n",
            "\n",
            "\n",
            "\n",
            "\n",
            "\n",
            " 39%|███▉      | 1.00M/2.55M [00:00<00:00, 3.03MB/s]"
          ]
        },
        {
          "name": "stdout",
          "output_type": "stream",
          "text": [
            "Downloading from https://www.kaggle.com/api/v1/models/trungtranhcmut/assignment-text-classification-model/pyTorch/default/4/download/roberta-base_prompt_model_v06_05.pt...\n"
          ]
        },
        {
          "name": "stderr",
          "output_type": "stream",
          "text": [
            "\u001b[A\u001b[A\u001b[A\u001b[A\u001b[A\u001b[A\u001b[A\n",
            "\n",
            "\n",
            "\n",
            "100%|██████████| 2.32M/2.32M [00:00<00:00, 5.74MB/s]\n",
            "100%|██████████| 1.15M/1.15M [00:00<00:00, 2.96MB/s]\n",
            "\n",
            "\n",
            "\n",
            "\n",
            "\n",
            "\n",
            "\n",
            "\n",
            "  0%|          | 0.00/2.32M [00:00<?, ?B/s]\u001b[A\u001b[A\u001b[A\u001b[A\u001b[A\u001b[A\u001b[A\u001b[A\n",
            "100%|██████████| 3.40M/3.40M [00:00<00:00, 7.71MB/s]\n",
            "\n",
            "\n",
            "\n",
            "100%|██████████| 2.55M/2.55M [00:00<00:00, 6.31MB/s]\n",
            "\n",
            "\n",
            "\n",
            "\n",
            "\n",
            "  1%|          | 4.00M/476M [00:00<00:45, 10.8MB/s]\u001b[A\u001b[A\u001b[A\u001b[A\u001b[A\n",
            "\n",
            "\n",
            "\n",
            "\n",
            "\n",
            "  2%|▏         | 4.00M/255M [00:00<00:24, 10.8MB/s]\u001b[A\u001b[A\u001b[A\u001b[A\u001b[A\u001b[A\n",
            "\n",
            "\n",
            "  3%|▎         | 11.0M/418M [00:00<00:15, 28.4MB/s]\u001b[A\u001b[A\u001b[A\n",
            "\n",
            "\n",
            "\n",
            "\n",
            "  2%|▏         | 11.0M/476M [00:00<00:17, 27.9MB/s]\u001b[A\u001b[A\u001b[A\u001b[A\u001b[A\n",
            "\n",
            "\n",
            "\n",
            "\n",
            "\n",
            "  4%|▍         | 11.0M/255M [00:00<00:09, 26.9MB/s]\u001b[A\u001b[A\u001b[A\u001b[A\u001b[A\u001b[A\n",
            "\n",
            "\n",
            "  4%|▍         | 16.0M/418M [00:00<00:11, 35.2MB/s]\u001b[A\u001b[A\u001b[A\n",
            "\n",
            "\n",
            "\n",
            "\n",
            "  4%|▍         | 18.0M/476M [00:00<00:12, 39.7MB/s]\u001b[A\u001b[A\u001b[A\u001b[A\u001b[A\n",
            "\n",
            "\n",
            "\n",
            "\n",
            "\n",
            "  7%|▋         | 18.0M/255M [00:00<00:06, 39.5MB/s]\u001b[A\u001b[A\u001b[A\u001b[A\u001b[A\u001b[A\n",
            "\n",
            "\n",
            "\n",
            "\n",
            "\n",
            "\n",
            "\n",
            " 43%|████▎     | 1.00M/2.32M [00:00<00:00, 3.35MB/s]\u001b[A\u001b[A\u001b[A\u001b[A\u001b[A\u001b[A\u001b[A\u001b[A\n",
            "\n",
            "\n",
            "100%|██████████| 2.32M/2.32M [00:00<00:00, 6.35MB/s]\n",
            "\n",
            "\n",
            "\n",
            "\n",
            "\n",
            "  5%|▍         | 23.0M/476M [00:00<00:11, 39.9MB/s]\u001b[A\u001b[A\u001b[A\u001b[A\u001b[A\n",
            "\n",
            "\n",
            "\n",
            "\n",
            "\n",
            " 10%|█         | 26.0M/255M [00:00<00:05, 47.1MB/s]\u001b[A\u001b[A\u001b[A\u001b[A\u001b[A\u001b[A\n",
            "\n",
            "\n",
            "  7%|▋         | 28.0M/418M [00:00<00:09, 41.2MB/s]\u001b[A\u001b[A\u001b[A\n",
            "\n",
            "\n",
            "\n",
            "\n",
            "  6%|▋         | 30.0M/476M [00:00<00:09, 47.7MB/s]\u001b[A\u001b[A\u001b[A\u001b[A\u001b[A\n",
            "\n",
            "\n",
            "\n",
            "\n",
            "\n",
            " 13%|█▎        | 33.0M/255M [00:00<00:04, 53.0MB/s]\u001b[A\u001b[A\u001b[A\u001b[A\u001b[A\u001b[A\n",
            "\n",
            "\n",
            "  8%|▊         | 35.0M/418M [00:01<00:08, 48.5MB/s]\u001b[A\u001b[A\u001b[A\n",
            "\n",
            "\n",
            "\n",
            "\n",
            "  8%|▊         | 37.0M/476M [00:01<00:08, 53.0MB/s]\u001b[A\u001b[A\u001b[A\u001b[A\u001b[A\n",
            "\n",
            "\n",
            "\n",
            "\n",
            "\n",
            " 15%|█▌        | 39.0M/255M [00:01<00:04, 55.0MB/s]\u001b[A\u001b[A\u001b[A\u001b[A\u001b[A\u001b[A\n",
            "\n",
            "\n",
            " 10%|█         | 42.0M/418M [00:01<00:07, 53.0MB/s]\u001b[A\u001b[A\u001b[A\n",
            "\n",
            "\n",
            "\n",
            "\n",
            "  9%|▉         | 45.0M/476M [00:01<00:07, 58.9MB/s]\u001b[A\u001b[A\u001b[A\u001b[A\u001b[A\n",
            "\n",
            "\n",
            "\n",
            "\n",
            "\n",
            " 18%|█▊        | 46.0M/255M [00:01<00:03, 57.3MB/s]\u001b[A\u001b[A\u001b[A\u001b[A\u001b[A\u001b[A\n",
            "\n",
            "\n",
            " 12%|█▏        | 49.0M/418M [00:01<00:06, 57.2MB/s]\u001b[A\u001b[A\u001b[A\n",
            "\n",
            "\n",
            "\n",
            "\n",
            " 11%|█         | 52.0M/476M [00:01<00:07, 61.2MB/s]\u001b[A\u001b[A\u001b[A\u001b[A\u001b[A\n",
            "\n",
            "\n",
            "\n",
            "\n",
            "\n",
            " 21%|██        | 54.0M/255M [00:01<00:03, 59.4MB/s]\u001b[A\u001b[A\u001b[A\u001b[A\u001b[A\u001b[A\n",
            "\n",
            "\n",
            " 13%|█▎        | 56.0M/418M [00:01<00:06, 59.0MB/s]\u001b[A\u001b[A\u001b[A\n",
            "\n",
            "\n",
            "\n",
            "\n",
            " 12%|█▏        | 59.0M/476M [00:01<00:07, 62.4MB/s]\u001b[A\u001b[A\u001b[A\u001b[A\u001b[A\n",
            "\n",
            "\n",
            "\n",
            "\n",
            "\n",
            " 24%|██▍       | 61.0M/255M [00:01<00:03, 62.8MB/s]\u001b[A\u001b[A\u001b[A\u001b[A\u001b[A\u001b[A\n",
            "\n",
            "\n",
            "\n",
            "\n",
            " 14%|█▍        | 66.0M/476M [00:01<00:06, 63.3MB/s]\u001b[A\u001b[A\u001b[A\u001b[A\u001b[A\n",
            "\n",
            "\n",
            " 15%|█▌        | 64.0M/418M [00:01<00:06, 59.0MB/s]\u001b[A\u001b[A\u001b[A\n",
            "\n",
            "\n",
            "\n",
            "\n",
            "\n",
            " 27%|██▋       | 68.0M/255M [00:01<00:03, 61.7MB/s]\u001b[A\u001b[A\u001b[A\u001b[A\u001b[A\u001b[A\n",
            "\n",
            "\n",
            "\n",
            "\n",
            " 15%|█▌        | 73.0M/476M [00:01<00:06, 63.1MB/s]\u001b[A\u001b[A\u001b[A\u001b[A\u001b[A\n",
            "\n",
            "\n",
            " 17%|█▋        | 72.0M/418M [00:01<00:05, 63.3MB/s]\u001b[A\u001b[A\u001b[A\n",
            "\n",
            "\n",
            "\n",
            "\n",
            "\n",
            " 29%|██▉       | 75.0M/255M [00:01<00:02, 63.1MB/s]\u001b[A\u001b[A\u001b[A\u001b[A\u001b[A\u001b[A\n",
            "\n",
            "\n",
            "\n",
            "\n",
            " 17%|█▋        | 80.0M/476M [00:01<00:06, 65.1MB/s]\u001b[A\u001b[A\u001b[A\u001b[A\u001b[A\n",
            "\n",
            "\n",
            " 19%|█▉        | 79.0M/418M [00:01<00:05, 65.1MB/s]\u001b[A\u001b[A\u001b[A\n",
            "\n",
            "\n",
            "\n",
            "\n",
            "\n",
            " 32%|███▏      | 82.0M/255M [00:01<00:02, 63.1MB/s]\u001b[A\u001b[A\u001b[A\u001b[A\u001b[A\u001b[A\n",
            "\n",
            "\n",
            "\n",
            "\n",
            " 18%|█▊        | 87.0M/476M [00:01<00:06, 65.6MB/s]\u001b[A\u001b[A\u001b[A\u001b[A\u001b[A\n",
            "\n",
            "\n",
            " 21%|██        | 86.0M/418M [00:01<00:05, 65.5MB/s]\u001b[A\u001b[A\u001b[A\n",
            "\n",
            "\n",
            "\n",
            "\n",
            "\n",
            " 35%|███▍      | 89.0M/255M [00:01<00:02, 65.1MB/s]\u001b[A\u001b[A\u001b[A\u001b[A\u001b[A\u001b[A\n",
            "\n",
            "\n",
            "\n",
            "\n",
            " 20%|█▉        | 94.0M/476M [00:01<00:06, 64.5MB/s]\u001b[A\u001b[A\u001b[A\u001b[A\u001b[A\n",
            "\n",
            "\n",
            " 22%|██▏       | 93.0M/418M [00:01<00:05, 63.6MB/s]\u001b[A\u001b[A\u001b[A\n",
            "\n",
            "\n",
            "\n",
            "\n",
            "\n",
            " 38%|███▊      | 96.0M/255M [00:01<00:02, 64.3MB/s]\u001b[A\u001b[A\u001b[A\u001b[A\u001b[A\u001b[A\n",
            "\n",
            "\n",
            " 24%|██▍       | 100M/418M [00:02<00:05, 65.1MB/s] \u001b[A\u001b[A\u001b[A\n",
            "\n",
            "\n",
            "\n",
            "\n",
            " 21%|██        | 101M/476M [00:02<00:06, 59.6MB/s] \u001b[A\u001b[A\u001b[A\u001b[A\u001b[A\n",
            "\n",
            "\n",
            "\n",
            "\n",
            "\n",
            " 40%|████      | 103M/255M [00:02<00:02, 64.0MB/s] \u001b[A\u001b[A\u001b[A\u001b[A\u001b[A\u001b[A\n",
            "\n",
            "\n",
            " 26%|██▌       | 107M/418M [00:02<00:05, 64.9MB/s]\u001b[A\u001b[A\u001b[A\n",
            "\n",
            "\n",
            "\n",
            "\n",
            " 23%|██▎       | 108M/476M [00:02<00:06, 62.6MB/s]\u001b[A\u001b[A\u001b[A\u001b[A\u001b[A\n",
            "\n",
            "\n",
            "\n",
            "\n",
            "\n",
            " 43%|████▎     | 110M/255M [00:02<00:02, 62.0MB/s]\u001b[A\u001b[A\u001b[A\u001b[A\u001b[A\u001b[A\n",
            "\n",
            "\n",
            " 27%|██▋       | 114M/418M [00:02<00:04, 66.5MB/s]\u001b[A\u001b[A\u001b[A\n",
            "\n",
            "\n",
            "\n",
            "\n",
            " 24%|██▍       | 116M/476M [00:02<00:05, 67.4MB/s]\u001b[A\u001b[A\u001b[A\u001b[A\u001b[A\n",
            "\n",
            "\n",
            "\n",
            "\n",
            "\n",
            " 46%|████▌     | 117M/255M [00:02<00:02, 62.3MB/s]\u001b[A\u001b[A\u001b[A\u001b[A\u001b[A\u001b[A\n",
            "\n",
            "\n",
            " 29%|██▉       | 121M/418M [00:02<00:04, 64.6MB/s]\u001b[A\u001b[A\u001b[A\n",
            "\n",
            "\n",
            "\n",
            "\n",
            " 26%|██▌       | 123M/476M [00:02<00:05, 67.7MB/s]\u001b[A\u001b[A\u001b[A\u001b[A\u001b[A\n",
            "\n",
            "\n",
            "\n",
            "\n",
            "\n",
            " 49%|████▉     | 125M/255M [00:02<00:02, 63.8MB/s]\u001b[A\u001b[A\u001b[A\u001b[A\u001b[A\u001b[A\n",
            "\n",
            "\n",
            " 31%|███       | 128M/418M [00:02<00:04, 66.3MB/s]\u001b[A\u001b[A\u001b[A\n",
            "\n",
            "\n",
            "\n",
            "\n",
            " 27%|██▋       | 130M/476M [00:02<00:05, 63.2MB/s]\u001b[A\u001b[A\u001b[A\u001b[A\u001b[A\n",
            "\n",
            "\n",
            "\n",
            "\n",
            "\n",
            " 52%|█████▏    | 132M/255M [00:02<00:02, 56.9MB/s]\u001b[A\u001b[A\u001b[A\u001b[A\u001b[A\u001b[A\n",
            "\n",
            "\n",
            "\n",
            "\n",
            " 29%|██▉       | 137M/476M [00:02<00:05, 63.3MB/s]\u001b[A\u001b[A\u001b[A\u001b[A\u001b[A\n",
            "\n",
            "\n",
            " 32%|███▏      | 135M/418M [00:02<00:05, 57.4MB/s]\u001b[A\u001b[A\u001b[A\n",
            "\n",
            "\n",
            "\n",
            "\n",
            "\n",
            " 54%|█████▍    | 139M/255M [00:02<00:02, 59.4MB/s]\u001b[A\u001b[A\u001b[A\u001b[A\u001b[A\u001b[A\n",
            "\n",
            "\n",
            "\n",
            "\n",
            " 30%|███       | 144M/476M [00:02<00:05, 63.2MB/s]\u001b[A\u001b[A\u001b[A\u001b[A\u001b[A\n",
            "\n",
            "\n",
            " 34%|███▍      | 141M/418M [00:02<00:05, 57.7MB/s]\u001b[A\u001b[A\u001b[A\n",
            "\n",
            "\n",
            "\n",
            "\n",
            "\n",
            " 57%|█████▋    | 145M/255M [00:02<00:01, 59.6MB/s]\u001b[A\u001b[A\u001b[A\u001b[A\u001b[A\u001b[A\n",
            "\n",
            "\n",
            "\n",
            "\n",
            " 32%|███▏      | 151M/476M [00:02<00:06, 53.7MB/s]\u001b[A\u001b[A\u001b[A\u001b[A\u001b[A\n",
            "\n",
            "\n",
            " 35%|███▌      | 147M/418M [00:03<00:07, 38.4MB/s]\u001b[A\u001b[A\u001b[A\n",
            "\n",
            "\n",
            "\n",
            "\n",
            "\n",
            " 59%|█████▉    | 151M/255M [00:04<00:07, 14.0MB/s]\u001b[A\u001b[A\u001b[A\u001b[A\u001b[A\u001b[A\n",
            "\n",
            "\n",
            " 36%|███▋      | 152M/418M [00:05<00:42, 6.63MB/s]\u001b[A\u001b[A\u001b[A\n",
            "\n",
            "\n",
            "\n",
            "\n",
            " 33%|███▎      | 157M/476M [00:05<00:46, 7.12MB/s]\u001b[A\u001b[A\u001b[A\u001b[A\u001b[A\n",
            "\n",
            "\n",
            "\n",
            "\n",
            "\n",
            " 61%|██████    | 156M/255M [00:05<00:14, 7.32MB/s]\u001b[A\u001b[A\u001b[A\u001b[A\u001b[A\u001b[A\n",
            "\n",
            "\n",
            " 37%|███▋      | 156M/418M [00:06<00:34, 7.95MB/s]\u001b[A\u001b[A\u001b[A\n",
            "\n",
            "\n",
            "\n",
            "\n",
            " 34%|███▍      | 163M/476M [00:06<00:34, 9.40MB/s]\u001b[A\u001b[A\u001b[A\u001b[A\u001b[A\n",
            "\n",
            "\n",
            "\n",
            "\n",
            "\n",
            " 63%|██████▎   | 162M/255M [00:06<00:09, 9.88MB/s]\u001b[A\u001b[A\u001b[A\u001b[A\u001b[A\u001b[A\n",
            "\n",
            "\n",
            " 39%|███▊      | 161M/418M [00:06<00:25, 10.5MB/s]\u001b[A\u001b[A\u001b[A\n",
            "\n",
            "\n",
            "\n",
            "\n",
            " 36%|███▌      | 170M/476M [00:06<00:24, 12.9MB/s]\u001b[A\u001b[A\u001b[A\u001b[A\u001b[A\n",
            "\n",
            "\n",
            "\n",
            "\n",
            "\n",
            " 66%|██████▌   | 169M/255M [00:06<00:06, 13.8MB/s]\u001b[A\u001b[A\u001b[A\u001b[A\u001b[A\u001b[A\n",
            "\n",
            "\n",
            " 40%|████      | 168M/418M [00:06<00:17, 15.0MB/s]\u001b[A\u001b[A\u001b[A\n",
            "\n",
            "\n",
            "\n",
            "\n",
            "\n",
            " 69%|██████▊   | 175M/255M [00:06<00:04, 17.8MB/s]\u001b[A\u001b[A\u001b[A\u001b[A\u001b[A\u001b[A\n",
            "\n",
            "\n",
            "\n",
            "\n",
            " 37%|███▋      | 177M/476M [00:06<00:18, 17.0MB/s]\u001b[A\u001b[A\u001b[A\u001b[A\u001b[A\n",
            "\n",
            "\n",
            " 42%|████▏     | 174M/418M [00:06<00:13, 19.5MB/s]\u001b[A\u001b[A\u001b[A\n",
            "\n",
            "\n",
            "\n",
            "\n",
            "\n",
            " 71%|███████   | 182M/255M [00:06<00:03, 23.5MB/s]\u001b[A\u001b[A\u001b[A\u001b[A\u001b[A\u001b[A\n",
            "\n",
            "\n",
            "\n",
            "\n",
            " 38%|███▊      | 183M/476M [00:06<00:15, 20.2MB/s]\u001b[A\u001b[A\u001b[A\u001b[A\u001b[A\n",
            "\n",
            "\n",
            "\n",
            "\n",
            "\n",
            " 76%|███████▌  | 193M/255M [00:06<00:01, 35.3MB/s]\u001b[A\u001b[A\u001b[A\u001b[A\u001b[A\u001b[A\n",
            "\n",
            "\n",
            " 44%|████▍     | 184M/418M [00:06<00:08, 27.7MB/s]\u001b[A\u001b[A\u001b[A\n",
            "\n",
            "\n",
            "\n",
            "\n",
            " 40%|███▉      | 188M/476M [00:06<00:12, 23.5MB/s]\u001b[A\u001b[A\u001b[A\u001b[A\u001b[A\n",
            "\n",
            "\n",
            " 45%|████▌     | 190M/418M [00:06<00:07, 31.7MB/s]\u001b[A\u001b[A\u001b[A\n",
            "\n",
            "\n",
            "\n",
            "\n",
            "\n",
            " 79%|███████▊  | 201M/255M [00:06<00:01, 38.6MB/s]\u001b[A\u001b[A\u001b[A\u001b[A\u001b[A\u001b[A\n",
            "\n",
            "\n",
            "\n",
            "\n",
            " 41%|████      | 193M/476M [00:06<00:10, 27.0MB/s]\u001b[A\u001b[A\u001b[A\u001b[A\u001b[A\n",
            "\n",
            "\n",
            " 47%|████▋     | 196M/418M [00:06<00:06, 35.2MB/s]\u001b[A\u001b[A\u001b[A\n",
            "\n",
            "\n",
            "\n",
            "\n",
            " 42%|████▏     | 198M/476M [00:06<00:09, 31.1MB/s]\u001b[A\u001b[A\u001b[A\u001b[A\u001b[A\n",
            "\n",
            "\n",
            "\n",
            "\n",
            "\n",
            " 81%|████████▏ | 208M/255M [00:06<00:01, 41.6MB/s]\u001b[A\u001b[A\u001b[A\u001b[A\u001b[A\u001b[A\n",
            "\n",
            "\n",
            " 48%|████▊     | 202M/418M [00:06<00:05, 38.5MB/s]\u001b[A\u001b[A\u001b[A\n",
            "\n",
            "\n",
            "\n",
            "\n",
            " 43%|████▎     | 204M/476M [00:06<00:07, 36.7MB/s]\u001b[A\u001b[A\u001b[A\u001b[A\u001b[A\n",
            "\n",
            "\n",
            "\n",
            "\n",
            "\n",
            " 84%|████████▍ | 214M/255M [00:06<00:00, 44.1MB/s]\u001b[A\u001b[A\u001b[A\u001b[A\u001b[A\u001b[A\n",
            "\n",
            "\n",
            " 50%|████▉     | 207M/418M [00:07<00:05, 40.2MB/s]\u001b[A\u001b[A\u001b[A\n",
            "\n",
            "\n",
            "\n",
            "\n",
            " 44%|████▍     | 210M/476M [00:07<00:07, 38.8MB/s]\u001b[A\u001b[A\u001b[A\u001b[A\u001b[A\n",
            "\n",
            "\n",
            "\n",
            "\n",
            "\n",
            " 86%|████████▌ | 220M/255M [00:07<00:00, 45.8MB/s]\u001b[A\u001b[A\u001b[A\u001b[A\u001b[A\u001b[A\n",
            "\n",
            "\n",
            " 51%|█████     | 213M/418M [00:07<00:04, 44.7MB/s]\u001b[A\u001b[A\u001b[A\n",
            "\n",
            "\n",
            "\n",
            "\n",
            "\n",
            " 88%|████████▊ | 226M/255M [00:07<00:00, 49.1MB/s]\u001b[A\u001b[A\u001b[A\u001b[A\u001b[A\u001b[A\n",
            "\n",
            "\n",
            "\n",
            "\n",
            " 45%|████▌     | 216M/476M [00:07<00:06, 42.1MB/s]\u001b[A\u001b[A\u001b[A\u001b[A\u001b[A\n",
            "\n",
            "\n",
            " 52%|█████▏    | 219M/418M [00:07<00:04, 47.7MB/s]\u001b[A\u001b[A\u001b[A\n",
            "\n",
            "\n",
            "\n",
            "\n",
            " 47%|████▋     | 222M/476M [00:07<00:05, 45.2MB/s]\u001b[A\u001b[A\u001b[A\u001b[A\u001b[A\n",
            "\n",
            "\n",
            "\n",
            "\n",
            "\n",
            " 91%|█████████ | 232M/255M [00:07<00:00, 50.2MB/s]\u001b[A\u001b[A\u001b[A\u001b[A\u001b[A\u001b[A\n",
            "\n",
            "\n",
            " 54%|█████▍    | 225M/418M [00:07<00:04, 50.0MB/s]\u001b[A\u001b[A\u001b[A\n",
            "\n",
            "\n",
            "\n",
            "\n",
            "\n",
            " 93%|█████████▎| 238M/255M [00:07<00:00, 52.6MB/s]\u001b[A\u001b[A\u001b[A\u001b[A\u001b[A\u001b[A\n",
            "\n",
            "\n",
            "\n",
            "\n",
            " 48%|████▊     | 229M/476M [00:07<00:05, 50.2MB/s]\u001b[A\u001b[A\u001b[A\u001b[A\u001b[A\n",
            "\n",
            "\n",
            " 56%|█████▌    | 232M/418M [00:07<00:03, 54.9MB/s]\u001b[A\u001b[A\u001b[A\n",
            "\n",
            "\n",
            "\n",
            "\n",
            "\n",
            " 96%|█████████▌| 245M/255M [00:07<00:00, 57.2MB/s]\u001b[A\u001b[A\u001b[A\u001b[A\u001b[A\u001b[A\n",
            "\n",
            "\n",
            "\n",
            "\n",
            " 50%|████▉     | 237M/476M [00:07<00:04, 57.7MB/s]\u001b[A\u001b[A\u001b[A\u001b[A\u001b[A\n",
            "\n",
            "\n",
            " 57%|█████▋    | 238M/418M [00:07<00:03, 53.0MB/s]\u001b[A\u001b[A\u001b[A\n",
            "\n",
            "\n",
            "\n",
            "\n",
            "\n",
            " 98%|█████████▊| 251M/255M [00:07<00:00, 55.8MB/s]\u001b[A\u001b[A\u001b[A\u001b[A\u001b[A\u001b[A\n",
            "\n",
            "\n",
            "\n",
            "\n",
            " 51%|█████     | 243M/476M [00:07<00:04, 58.9MB/s]\u001b[A\u001b[A\u001b[A\u001b[A\u001b[A\n",
            "\n",
            "\n",
            "100%|██████████| 255M/255M [00:07<00:00, 34.9MB/s]\n",
            "\n",
            "\n",
            "\n",
            "\n",
            "\n",
            " 52%|█████▏    | 249M/476M [00:07<00:04, 54.7MB/s]\u001b[A\u001b[A\u001b[A\u001b[A\u001b[A\n",
            "\n",
            "\n",
            " 60%|██████    | 251M/418M [00:07<00:03, 57.2MB/s]\u001b[A\u001b[A\u001b[A\n",
            "\n",
            "\n",
            "\n",
            "\n",
            " 55%|█████▍    | 260M/476M [00:07<00:03, 70.2MB/s]\u001b[A\u001b[A\u001b[A\u001b[A\u001b[A\n",
            "\n",
            "\n",
            " 62%|██████▏   | 260M/418M [00:07<00:02, 66.4MB/s]\u001b[A\u001b[A\u001b[A\n",
            "\n",
            "\n",
            "\n",
            "\n",
            " 56%|█████▋    | 268M/476M [00:07<00:02, 73.0MB/s]\u001b[A\u001b[A\u001b[A\u001b[A\u001b[A\n",
            "\n",
            "\n",
            " 64%|██████▍   | 267M/418M [00:08<00:02, 63.7MB/s]\u001b[A\u001b[A\u001b[A\n",
            "\n",
            "\n",
            "\n",
            "\n",
            " 58%|█████▊    | 276M/476M [00:08<00:02, 70.9MB/s]\u001b[A\u001b[A\u001b[A\u001b[A\u001b[A\n",
            "\n",
            "\n",
            " 66%|██████▌   | 274M/418M [00:08<00:02, 63.4MB/s]\u001b[A\u001b[A\u001b[A\n",
            "\n",
            "\n",
            "\n",
            "\n",
            " 60%|█████▉    | 283M/476M [00:08<00:02, 69.1MB/s]\u001b[A\u001b[A\u001b[A\u001b[A\u001b[A\n",
            "\n",
            "\n",
            " 67%|██████▋   | 281M/418M [00:08<00:02, 63.4MB/s]\u001b[A\u001b[A\u001b[A\n",
            "\n",
            "\n",
            "\n",
            "\n",
            " 61%|██████    | 290M/476M [00:08<00:02, 65.1MB/s]\u001b[A\u001b[A\u001b[A\u001b[A\u001b[A\n",
            "\n",
            "\n",
            " 69%|██████▉   | 288M/418M [00:08<00:02, 64.4MB/s]\u001b[A\u001b[A\u001b[A\n",
            "\n",
            "\n",
            "\n",
            "\n",
            " 62%|██████▏   | 297M/476M [00:08<00:02, 63.8MB/s]\u001b[A\u001b[A\u001b[A\u001b[A\u001b[A\n",
            "\n",
            "\n",
            " 71%|███████   | 295M/418M [00:08<00:01, 65.6MB/s]\u001b[A\u001b[A\u001b[A\n",
            "\n",
            "\n",
            "\n",
            "\n",
            " 64%|██████▍   | 304M/476M [00:08<00:02, 65.2MB/s]\u001b[A\u001b[A\u001b[A\u001b[A\u001b[A\n",
            "\n",
            "\n",
            " 72%|███████▏  | 302M/418M [00:08<00:01, 62.8MB/s]\u001b[A\u001b[A\u001b[A\n",
            "\n",
            "\n",
            "\n",
            "\n",
            " 65%|██████▌   | 311M/476M [00:08<00:02, 65.2MB/s]\u001b[A\u001b[A\u001b[A\u001b[A\u001b[A\n",
            "\n",
            "\n",
            " 74%|███████▍  | 309M/418M [00:08<00:01, 63.0MB/s]\u001b[A\u001b[A\u001b[A\n",
            "\n",
            "\n",
            "\n",
            "\n",
            " 67%|██████▋   | 318M/476M [00:08<00:02, 63.1MB/s]\u001b[A\u001b[A\u001b[A\u001b[A\u001b[A\n",
            "\n",
            "\n",
            " 76%|███████▌  | 316M/418M [00:08<00:01, 63.2MB/s]\u001b[A\u001b[A\u001b[A\n",
            "\n",
            "\n",
            "\n",
            "\n",
            " 68%|██████▊   | 325M/476M [00:08<00:02, 60.1MB/s]\u001b[A\u001b[A\u001b[A\u001b[A\u001b[A\n",
            "\n",
            "\n",
            " 77%|███████▋  | 323M/418M [00:08<00:01, 63.4MB/s]\u001b[A\u001b[A\u001b[A\n",
            "\n",
            "\n",
            "\n",
            "\n",
            " 70%|██████▉   | 332M/476M [00:08<00:02, 61.4MB/s]\u001b[A\u001b[A\u001b[A\u001b[A\u001b[A\n",
            "\n",
            "\n",
            " 79%|███████▉  | 330M/418M [00:09<00:01, 63.7MB/s]\u001b[A\u001b[A\u001b[A\n",
            "\n",
            "\n",
            "\n",
            "\n",
            " 71%|███████▏  | 339M/476M [00:09<00:02, 63.6MB/s]\u001b[A\u001b[A\u001b[A\u001b[A\u001b[A\n",
            "\n",
            "\n",
            " 81%|████████  | 337M/418M [00:09<00:01, 64.1MB/s]\u001b[A\u001b[A\u001b[A\n",
            "\n",
            "\n",
            " 82%|████████▏ | 344M/418M [00:09<00:01, 63.5MB/s]\u001b[A\u001b[A\u001b[A\n",
            "\n",
            "\n",
            "\n",
            "\n",
            " 73%|███████▎  | 346M/476M [00:09<00:02, 54.2MB/s]\u001b[A\u001b[A\u001b[A\u001b[A\u001b[A\n",
            "\n",
            "\n",
            "\n",
            "\n",
            " 74%|███████▍  | 353M/476M [00:09<00:02, 56.7MB/s]\u001b[A\u001b[A\u001b[A\u001b[A\u001b[A\n",
            "\n",
            "\n",
            " 84%|████████▍ | 351M/418M [00:09<00:01, 60.5MB/s]\u001b[A\u001b[A\u001b[A\n",
            "\n",
            "\n",
            "\n",
            "\n",
            " 76%|███████▌  | 361M/476M [00:09<00:02, 59.5MB/s]\u001b[A\u001b[A\u001b[A\u001b[A\u001b[A\n",
            "\n",
            "\n",
            " 86%|████████▌ | 358M/418M [00:09<00:01, 59.1MB/s]\u001b[A\u001b[A\u001b[A\n",
            "\n",
            "\n",
            "\n",
            "\n",
            " 77%|███████▋  | 368M/476M [00:09<00:01, 60.9MB/s]\u001b[A\u001b[A\u001b[A\u001b[A\u001b[A\n",
            "\n",
            "\n",
            " 88%|████████▊ | 366M/418M [00:09<00:00, 60.9MB/s]\u001b[A\u001b[A\u001b[A\n",
            "\n",
            "\n",
            "\n",
            "\n",
            " 79%|███████▊  | 374M/476M [00:09<00:01, 61.2MB/s]\u001b[A\u001b[A\u001b[A\u001b[A\u001b[A\n",
            "\n",
            "\n",
            " 89%|████████▉ | 373M/418M [00:09<00:00, 63.4MB/s]\u001b[A\u001b[A\u001b[A\n",
            "\n",
            "\n",
            "\n",
            "\n",
            " 80%|███████▉  | 380M/476M [00:09<00:01, 60.4MB/s]\u001b[A\u001b[A\u001b[A\u001b[A\u001b[A\n",
            "\n",
            "\n",
            " 91%|█████████ | 380M/418M [00:09<00:00, 64.9MB/s]\u001b[A\u001b[A\u001b[A\n",
            "\n",
            "\n",
            "\n",
            "\n",
            " 82%|████████▏ | 388M/476M [00:09<00:01, 62.0MB/s]\u001b[A\u001b[A\u001b[A\u001b[A\u001b[A\n",
            "\n",
            "\n",
            " 93%|█████████▎| 387M/418M [00:10<00:00, 65.1MB/s]\u001b[A\u001b[A\u001b[A\n",
            "\n",
            "\n",
            "\n",
            "\n",
            " 83%|████████▎ | 394M/476M [00:11<00:05, 15.2MB/s]\u001b[A\u001b[A\u001b[A\u001b[A\u001b[A\n",
            "\n",
            "\n",
            " 94%|█████████▍| 394M/418M [00:12<00:02, 10.5MB/s]\u001b[A\u001b[A\u001b[A\n",
            "\n",
            "\n",
            "\n",
            "\n",
            " 84%|████████▍ | 399M/476M [00:12<00:07, 11.2MB/s]\u001b[A\u001b[A\u001b[A\u001b[A\u001b[A\n",
            "\n",
            "\n",
            " 97%|█████████▋| 406M/418M [00:12<00:00, 17.0MB/s]\u001b[A\u001b[A\u001b[A\n",
            "\n",
            "\n",
            "\n",
            "\n",
            " 86%|████████▋ | 411M/476M [00:12<00:03, 19.0MB/s]\u001b[A\u001b[A\u001b[A\u001b[A\u001b[A\n",
            "\n",
            "\n",
            " 99%|█████████▉| 413M/418M [00:12<00:00, 21.0MB/s]\u001b[A\u001b[A\u001b[A\n",
            "\n",
            "\n",
            "\n",
            "\n",
            "100%|██████████| 418M/418M [00:12<00:00, 35.3MB/s]\n",
            "\n",
            "\n",
            "\n",
            "\n",
            "\n",
            " 89%|████████▉ | 424M/476M [00:12<00:01, 27.3MB/s]\u001b[A\u001b[A\u001b[A\u001b[A\u001b[A\n",
            "\n",
            "\n",
            "\n",
            "\n",
            " 90%|█████████ | 430M/476M [00:12<00:01, 31.4MB/s]\u001b[A\u001b[A\u001b[A\u001b[A\u001b[A\n",
            "\n",
            "\n",
            "\n",
            "\n",
            " 92%|█████████▏| 437M/476M [00:12<00:01, 37.3MB/s]\u001b[A\u001b[A\u001b[A\u001b[A\u001b[A\n",
            "\n",
            "\n",
            "\n",
            "\n",
            " 94%|█████████▎| 445M/476M [00:12<00:00, 44.2MB/s]\u001b[A\u001b[A\u001b[A\u001b[A\u001b[A\n",
            "\n",
            "\n",
            "\n",
            "\n",
            " 95%|█████████▌| 452M/476M [00:12<00:00, 48.7MB/s]\u001b[A\u001b[A\u001b[A\u001b[A\u001b[A\n",
            "\n",
            "\n",
            "\n",
            "\n",
            " 97%|█████████▋| 459M/476M [00:13<00:00, 52.5MB/s]\u001b[A\u001b[A\u001b[A\u001b[A\u001b[A\n",
            "\n",
            "\n",
            "\n",
            "\n",
            " 98%|█████████▊| 466M/476M [00:13<00:00, 55.8MB/s]\u001b[A\u001b[A\u001b[A\u001b[A\u001b[A\n",
            "\n",
            "\n",
            "\n",
            "\n",
            "100%|██████████| 476M/476M [00:13<00:00, 37.6MB/s]"
          ]
        },
        {
          "name": "stdout",
          "output_type": "stream",
          "text": [
            "Path to model files: /root/.cache/kagglehub/models/trungtranhcmut/assignment-text-classification-model/pyTorch/default/4\n",
            "/root/.cache/kagglehub/models/trungtranhcmut/assignment-text-classification-model/pyTorch/default/4/distilbert-base-uncased_bitfit_model_v15-05.pt\n",
            "/root/.cache/kagglehub/models/trungtranhcmut/assignment-text-classification-model/pyTorch/default/4/bert_bitfit_model_v15-05.pt\n",
            "/root/.cache/kagglehub/models/trungtranhcmut/assignment-text-classification-model/pyTorch/default/4/roberta-base_prompt_model_v06_05.pt\n",
            "/root/.cache/kagglehub/models/trungtranhcmut/assignment-text-classification-model/pyTorch/default/4/roberta-base_bitfit_model_v15-05.pt\n",
            "/root/.cache/kagglehub/models/trungtranhcmut/assignment-text-classification-model/pyTorch/default/4/roberta-base_lora_model_v1.pt\n",
            "/root/.cache/kagglehub/models/trungtranhcmut/assignment-text-classification-model/pyTorch/default/4/bert_prompt_model_v06_05.pt\n",
            "/root/.cache/kagglehub/models/trungtranhcmut/assignment-text-classification-model/pyTorch/default/4/bert_lora_model_v01_05.pt\n",
            "/root/.cache/kagglehub/models/trungtranhcmut/assignment-text-classification-model/pyTorch/default/4/distilbert-base-uncased_lora_model_v06_05.pt\n",
            "/root/.cache/kagglehub/models/trungtranhcmut/assignment-text-classification-model/pyTorch/default/4/distilbert-base-uncased_prompt_model_v02_05.pt\n"
          ]
        },
        {
          "name": "stderr",
          "output_type": "stream",
          "text": [
            "\n"
          ]
        }
      ],
      "source": [
        "# Download latest version\n",
        "model_path = kagglehub.model_download(\"trungtranhcmut/assignment-text-classification-model/pyTorch/default\")\n",
        "\n",
        "print(\"Path to model files:\", model_path)\n",
        "\n",
        "for dirname, _, filenames in os.walk(model_path):\n",
        "    for filename in filenames:\n",
        "        print(os.path.join(dirname, filename))"
      ]
    },
    {
      "cell_type": "code",
      "execution_count": null,
      "id": "53f55f35",
      "metadata": {
        "execution": {
          "iopub.execute_input": "2025-05-16T05:33:51.378286Z",
          "iopub.status.busy": "2025-05-16T05:33:51.378056Z",
          "iopub.status.idle": "2025-05-16T05:33:51.381944Z",
          "shell.execute_reply": "2025-05-16T05:33:51.381430Z"
        },
        "id": "53f55f35",
        "papermill": {
          "duration": 0.044221,
          "end_time": "2025-05-16T05:33:51.383043",
          "exception": false,
          "start_time": "2025-05-16T05:33:51.338822",
          "status": "completed"
        },
        "tags": []
      },
      "outputs": [],
      "source": [
        "# MODEL_PATH = \"/kaggle/input/assignment-text-classification-model/pytorch/default/3/\"\n",
        "MODEL_PATH = model_path\n",
        "\n",
        "path_bert_lora_model = f\"{MODEL_PATH}/bert_lora_model_v01_05.pt\"\n",
        "path_bert_bitfit_model = f\"{MODEL_PATH}/bert_bitfit_model_v15-05.pt\"\n",
        "path_bert_prompt_model = f\"{MODEL_PATH}/bert_prompt_model_v06_05.pt\"\n",
        "\n",
        "path_roberta_lora_model = f\"{MODEL_PATH}/roberta-base_lora_model_v1.pt\"\n",
        "path_roberta_bitfit_model = f\"{MODEL_PATH}/roberta-base_bitfit_model_v15-05.pt\"\n",
        "path_roberta_prompt_model = f\"{MODEL_PATH}/roberta-base_prompt_model_v06_05.pt\"\n",
        "\n",
        "path_dibert_lora_model = f\"{MODEL_PATH}/distilbert-base-uncased_lora_model_v06_05.pt\"\n",
        "path_dibert_bitfit_model = f\"{MODEL_PATH}/distilbert-base-uncased_bitfit_model_v15-05.pt\"\n",
        "path_dibert_prompt_model = f\"{MODEL_PATH}/distilbert-base-uncased_prompt_model_v02_05.pt\""
      ]
    },
    {
      "cell_type": "markdown",
      "id": "dd28e367",
      "metadata": {
        "id": "dd28e367",
        "papermill": {
          "duration": 0.037859,
          "end_time": "2025-05-16T05:33:51.459697",
          "exception": false,
          "start_time": "2025-05-16T05:33:51.421838",
          "status": "completed"
        },
        "tags": []
      },
      "source": [
        "# 3. `BERT` Model"
      ]
    },
    {
      "cell_type": "markdown",
      "id": "96fd88eb",
      "metadata": {
        "id": "96fd88eb",
        "papermill": {
          "duration": 0.03794,
          "end_time": "2025-05-16T05:33:51.535793",
          "exception": false,
          "start_time": "2025-05-16T05:33:51.497853",
          "status": "completed"
        },
        "tags": []
      },
      "source": [
        "## 3.1 Download model"
      ]
    },
    {
      "cell_type": "code",
      "execution_count": null,
      "id": "4c55eeb3",
      "metadata": {
        "colab": {
          "base_uri": "https://localhost:8080/",
          "height": 371,
          "referenced_widgets": [
            "6acabaa51b0e4f528f77c4a5bd6acecc",
            "99fc1ae302e34d9c8adc582df53dbce8",
            "d1b0c96da3934097a054f118e369f5c9",
            "f4f182a3b85140aea2593ea860311e9d",
            "3b4dcd5d29814b4dab392ebdff4d0143",
            "f07e1706b8d94b26a668afac599700f4",
            "7689e1ee00e34f3988a710a12f17a60a",
            "ff49a22fe6164bfaa5963b1a6d8d318d",
            "cd43b3a800fb48ca835e792b7b9de160",
            "de96627841d84c7d8c29145902a55a04",
            "df08a00ea9504e3fb8d01c1e83b7fb43",
            "61529507947a42cf8264fcb28d8b0cc1",
            "d3ab773a8cc2441d86a987c87f87bb11",
            "09b1dd28c4ed45f2a9f3d64e54e2abde",
            "305b1c1160a54f5e8e7262d7a1ed5194",
            "baf234fff9114419915b1d254ceba4af",
            "f88255f781674871ae9cebc7f79f6258",
            "2ce21f692b3944a58b5f703e37ac5431",
            "bc04e7c011bc4feb9d050bbc6619c032",
            "24a572dd26c0459a92c41865aaf7ecdb",
            "6e9df36c4ffe478682b6056513957b12",
            "129d944b4b904c2b93717adfd911e2f1",
            "86c54e514c964e2d9e2114e43404d94a",
            "60ef8c50eba9460c931d356d4c2b0740",
            "4c5e874bab764ee9bc097e870beeff47",
            "35d025b8aae5417394cb31303eb13385",
            "26aca995d4ac4f6ca3247bc93818770c",
            "8b79ee6bb41b467e92885e19f6dcbb37",
            "597054b26b254507be9c9488384bba53",
            "6f58ae9133d94e4ea3ee7482cee72931",
            "d48905115fc845c6ad34691e3998097f",
            "b51546c91b624a029400677cedc42de4",
            "1bc563c9193f4614807c42b6b557d2cb",
            "04128fe9115d4559bd262cf0afb3a48a",
            "d10bb508be7e49fb82abab37a2c28105",
            "5dea7bd2fae94a4096dc9682602fe004",
            "51da607c1d7b4c3384fbf14229f99ed3",
            "72b8bb5685c44b69a67ce8356129fbaa",
            "769e59b2edb243ec900e039913fde1f0",
            "3d5d7ea1def445b488dbed71d360a446",
            "e6d27da4d9364f51b9fbabe24ce49cd0",
            "ac4b654267df43309660e5535b0f3758",
            "b7d39c4d72c24737a2d902d4e6f7898d",
            "be1726540d2b4b51bae4f64a41b3d782",
            "8872eef83af44d9f85eebdf3567c0adc",
            "3d0c49ff495e4beb8052406521b9e952",
            "927cf03b9a23420c9041f38b3e04cd43",
            "756257bddf5c411984abfb4804a23486",
            "e6accbe6bc344e798dc064c1d4333cce",
            "03358e1db41a495a81d159e50930a897",
            "2fbea00d3e754364acb85470390a08e9",
            "a5527238ee8647918aba0ee7107485de",
            "a10ed126cd454795896e4b6b4bded179",
            "8ed4bdf95f7f48abb1f81fcfb6b4559e",
            "e01533b028f34d51ae4484e7b854d610"
          ]
        },
        "execution": {
          "iopub.execute_input": "2025-05-16T05:33:51.613373Z",
          "iopub.status.busy": "2025-05-16T05:33:51.613107Z",
          "iopub.status.idle": "2025-05-16T05:33:55.595746Z",
          "shell.execute_reply": "2025-05-16T05:33:55.594886Z"
        },
        "id": "4c55eeb3",
        "outputId": "f37071bd-cb11-438a-d550-300236dd13c1",
        "papermill": {
          "duration": 4.02282,
          "end_time": "2025-05-16T05:33:55.597020",
          "exception": false,
          "start_time": "2025-05-16T05:33:51.574200",
          "status": "completed"
        },
        "tags": []
      },
      "outputs": [
        {
          "name": "stderr",
          "output_type": "stream",
          "text": [
            "/usr/local/lib/python3.11/dist-packages/huggingface_hub/utils/_auth.py:94: UserWarning: \n",
            "The secret `HF_TOKEN` does not exist in your Colab secrets.\n",
            "To authenticate with the Hugging Face Hub, create a token in your settings tab (https://huggingface.co/settings/tokens), set it as secret in your Google Colab and restart your session.\n",
            "You will be able to reuse this secret in all of your notebooks.\n",
            "Please note that authentication is recommended but still optional to access public models or datasets.\n",
            "  warnings.warn(\n"
          ]
        },
        {
          "data": {
            "application/vnd.jupyter.widget-view+json": {
              "model_id": "6acabaa51b0e4f528f77c4a5bd6acecc",
              "version_major": 2,
              "version_minor": 0
            },
            "text/plain": [
              "tokenizer_config.json:   0%|          | 0.00/48.0 [00:00<?, ?B/s]"
            ]
          },
          "metadata": {},
          "output_type": "display_data"
        },
        {
          "data": {
            "application/vnd.jupyter.widget-view+json": {
              "model_id": "61529507947a42cf8264fcb28d8b0cc1",
              "version_major": 2,
              "version_minor": 0
            },
            "text/plain": [
              "config.json:   0%|          | 0.00/570 [00:00<?, ?B/s]"
            ]
          },
          "metadata": {},
          "output_type": "display_data"
        },
        {
          "data": {
            "application/vnd.jupyter.widget-view+json": {
              "model_id": "86c54e514c964e2d9e2114e43404d94a",
              "version_major": 2,
              "version_minor": 0
            },
            "text/plain": [
              "vocab.txt:   0%|          | 0.00/232k [00:00<?, ?B/s]"
            ]
          },
          "metadata": {},
          "output_type": "display_data"
        },
        {
          "data": {
            "application/vnd.jupyter.widget-view+json": {
              "model_id": "04128fe9115d4559bd262cf0afb3a48a",
              "version_major": 2,
              "version_minor": 0
            },
            "text/plain": [
              "tokenizer.json:   0%|          | 0.00/466k [00:00<?, ?B/s]"
            ]
          },
          "metadata": {},
          "output_type": "display_data"
        },
        {
          "name": "stderr",
          "output_type": "stream",
          "text": [
            "Xet Storage is enabled for this repo, but the 'hf_xet' package is not installed. Falling back to regular HTTP download. For better performance, install the package with: `pip install huggingface_hub[hf_xet]` or `pip install hf_xet`\n",
            "WARNING:huggingface_hub.file_download:Xet Storage is enabled for this repo, but the 'hf_xet' package is not installed. Falling back to regular HTTP download. For better performance, install the package with: `pip install huggingface_hub[hf_xet]` or `pip install hf_xet`\n"
          ]
        },
        {
          "data": {
            "application/vnd.jupyter.widget-view+json": {
              "model_id": "8872eef83af44d9f85eebdf3567c0adc",
              "version_major": 2,
              "version_minor": 0
            },
            "text/plain": [
              "model.safetensors:   0%|          | 0.00/440M [00:00<?, ?B/s]"
            ]
          },
          "metadata": {},
          "output_type": "display_data"
        },
        {
          "name": "stderr",
          "output_type": "stream",
          "text": [
            "Some weights of BertForSequenceClassification were not initialized from the model checkpoint at bert-base-uncased and are newly initialized: ['classifier.bias', 'classifier.weight']\n",
            "You should probably TRAIN this model on a down-stream task to be able to use it for predictions and inference.\n"
          ]
        }
      ],
      "source": [
        "from transformers import AutoTokenizer, AutoModelForSequenceClassification\n",
        "\n",
        "# Load tokenizer and model\n",
        "checkpoint = \"bert-base-uncased\"\n",
        "bert_tokenizer = AutoTokenizer.from_pretrained(checkpoint)\n",
        "bert_model = AutoModelForSequenceClassification.from_pretrained(checkpoint, num_labels=2)"
      ]
    },
    {
      "cell_type": "markdown",
      "id": "6f163c27",
      "metadata": {
        "id": "6f163c27",
        "papermill": {
          "duration": 0.04107,
          "end_time": "2025-05-16T05:33:55.678746",
          "exception": false,
          "start_time": "2025-05-16T05:33:55.637676",
          "status": "completed"
        },
        "tags": []
      },
      "source": [
        "### Preprocessing dataset"
      ]
    },
    {
      "cell_type": "code",
      "execution_count": null,
      "id": "0be18d84",
      "metadata": {
        "colab": {
          "base_uri": "https://localhost:8080/",
          "height": 113,
          "referenced_widgets": [
            "da594a31cc9142b78dbddf2288c69487",
            "c9b1f100b68142c296f7ee3bbde483fc",
            "8faaa84b94584a948cf802d14c73a99b",
            "1393e755f7d0455ba02c1dc00bb72d24",
            "97a880243f1445e4846ca92452095012",
            "772c1f8700a144e1aeea69a248c7587a",
            "1d5dbfd11e874839824d82af50d5f5fa",
            "99d2e63795e14cc6b850a10e07b64609",
            "0f223d50f8414f0f83b8ae102144863a",
            "7f1f86d4683f482c99538df94eae1176",
            "88a1ef8c4b134da7a7170cacea6b97b0",
            "6ab328b1cbc045e7963a8f6913c46342",
            "cc9ea2e0702d429a8f96f0fb23ff861e",
            "20e0271016934918b8f8784c7f3392d6",
            "2a88d6943e714409a356d8873de15c3c",
            "244806bc1c754757980bed8013140add",
            "b78e467ab8dd40509555c72e58a0faa7",
            "f429d463c2cf46929ee99941f36f60e2",
            "6eb4fd748dd047f8bec587efc09531d8",
            "8df8816e5d014c3ab82e283dab94ec61",
            "9a99415f7c7349f2b8724926509e49c5",
            "7daeda19dca341aabca159fcdd8d591e",
            "3e0b0a0dc4b34f30abfb93cd1413e8cb",
            "cb424b9524c34cc7bfc0936dea245d5d",
            "146310eeed15458e9d18dbb6f9424fab",
            "6ad69fdb98014af196b0e5eb4258a04d",
            "b16aa823e3af4e3ebf6ad19dd9b50b9e",
            "9fe6033d78e3455dae530d93051deea2",
            "71df7ee2b68d4bd2b1546d54d313b9b8",
            "cb682c2cb74b4558b29c7960ce3063f3",
            "52d06c566ab24d0a878273e1b981b839",
            "c507d6da67a84dfab5a71f8e9d98afab",
            "84806f034a24408480ddf0cd39a24e2c"
          ]
        },
        "execution": {
          "iopub.execute_input": "2025-05-16T05:33:55.765328Z",
          "iopub.status.busy": "2025-05-16T05:33:55.765055Z",
          "iopub.status.idle": "2025-05-16T05:34:28.336778Z",
          "shell.execute_reply": "2025-05-16T05:34:28.336021Z"
        },
        "id": "0be18d84",
        "outputId": "7972e213-5656-44ef-8c83-64d15307f9da",
        "papermill": {
          "duration": 32.617593,
          "end_time": "2025-05-16T05:34:28.337931",
          "exception": false,
          "start_time": "2025-05-16T05:33:55.720338",
          "status": "completed"
        },
        "tags": []
      },
      "outputs": [
        {
          "data": {
            "application/vnd.jupyter.widget-view+json": {
              "model_id": "da594a31cc9142b78dbddf2288c69487",
              "version_major": 2,
              "version_minor": 0
            },
            "text/plain": [
              "Map:   0%|          | 0/35000 [00:00<?, ? examples/s]"
            ]
          },
          "metadata": {},
          "output_type": "display_data"
        },
        {
          "data": {
            "application/vnd.jupyter.widget-view+json": {
              "model_id": "6ab328b1cbc045e7963a8f6913c46342",
              "version_major": 2,
              "version_minor": 0
            },
            "text/plain": [
              "Map:   0%|          | 0/5000 [00:00<?, ? examples/s]"
            ]
          },
          "metadata": {},
          "output_type": "display_data"
        },
        {
          "data": {
            "application/vnd.jupyter.widget-view+json": {
              "model_id": "3e0b0a0dc4b34f30abfb93cd1413e8cb",
              "version_major": 2,
              "version_minor": 0
            },
            "text/plain": [
              "Map:   0%|          | 0/10000 [00:00<?, ? examples/s]"
            ]
          },
          "metadata": {},
          "output_type": "display_data"
        }
      ],
      "source": [
        "BATCH_SIZE = 32\n",
        "\n",
        "train_loader, val_loader, test_loader = preprocessing(dataset_dict, bert_tokenizer, BATCH_SIZE)"
      ]
    },
    {
      "cell_type": "markdown",
      "id": "36897b27",
      "metadata": {
        "id": "36897b27",
        "papermill": {
          "duration": 0.039127,
          "end_time": "2025-05-16T05:34:28.417710",
          "exception": false,
          "start_time": "2025-05-16T05:34:28.378583",
          "status": "completed"
        },
        "tags": []
      },
      "source": [
        "## 3.2 LoRA tuning"
      ]
    },
    {
      "cell_type": "markdown",
      "id": "dcc7999f",
      "metadata": {
        "id": "dcc7999f",
        "papermill": {
          "duration": 0.038915,
          "end_time": "2025-05-16T05:34:28.495887",
          "exception": false,
          "start_time": "2025-05-16T05:34:28.456972",
          "status": "completed"
        },
        "tags": []
      },
      "source": [
        "### Load model and config hyperparams"
      ]
    },
    {
      "cell_type": "code",
      "execution_count": null,
      "id": "7907ffa7",
      "metadata": {
        "execution": {
          "iopub.execute_input": "2025-05-16T05:34:28.574784Z",
          "iopub.status.busy": "2025-05-16T05:34:28.574462Z",
          "iopub.status.idle": "2025-05-16T05:34:28.900257Z",
          "shell.execute_reply": "2025-05-16T05:34:28.899330Z"
        },
        "id": "7907ffa7",
        "outputId": "73627c2c-7f3e-4572-e368-904db72a0f3a",
        "papermill": {
          "duration": 0.366936,
          "end_time": "2025-05-16T05:34:28.901575",
          "exception": false,
          "start_time": "2025-05-16T05:34:28.534639",
          "status": "completed"
        },
        "tags": []
      },
      "outputs": [
        {
          "name": "stdout",
          "output_type": "stream",
          "text": [
            "The model has 296,450 trainable parameters\n"
          ]
        }
      ],
      "source": [
        "from peft import LoraConfig, get_peft_model, get_peft_model_state_dict\n",
        "from sklearn.metrics import accuracy_score # Import accuracy_score\n",
        "\n",
        "device = torch.device(\"cuda\") if torch.cuda.is_available() else \"cpu\"\n",
        "LEARNING_RATE = 1e-3\n",
        "EPOCHS = 3\n",
        "\n",
        "lora_config = LoraConfig(\n",
        "    r=8,  # Rank of low-rank matrices => About 5~10M trainable params\n",
        "    lora_alpha=16,\n",
        "    lora_dropout=0.1,\n",
        "    task_type=\"SEQ_CLS\",  # For sequence classification task\n",
        ")\n",
        "\n",
        "lora_bert_model = get_peft_model(bert_model, lora_config)\n",
        "lora_bert_model.to(device)\n",
        "\n",
        "print(f\"The model has {count_parameters(lora_bert_model):,} trainable parameters\")"
      ]
    },
    {
      "cell_type": "markdown",
      "id": "5ce3596e",
      "metadata": {
        "id": "5ce3596e",
        "papermill": {
          "duration": 0.039268,
          "end_time": "2025-05-16T05:34:28.986407",
          "exception": false,
          "start_time": "2025-05-16T05:34:28.947139",
          "status": "completed"
        },
        "tags": []
      },
      "source": [
        "### Load trained params"
      ]
    },
    {
      "cell_type": "code",
      "execution_count": null,
      "id": "8a2cd6c5",
      "metadata": {
        "execution": {
          "iopub.execute_input": "2025-05-16T05:34:29.066536Z",
          "iopub.status.busy": "2025-05-16T05:34:29.066229Z",
          "iopub.status.idle": "2025-05-16T05:34:29.100154Z",
          "shell.execute_reply": "2025-05-16T05:34:29.099527Z"
        },
        "id": "8a2cd6c5",
        "outputId": "7c1956b6-ab0f-4ac6-a4ee-b4aa443884ab",
        "papermill": {
          "duration": 0.075614,
          "end_time": "2025-05-16T05:34:29.101252",
          "exception": false,
          "start_time": "2025-05-16T05:34:29.025638",
          "status": "completed"
        },
        "tags": []
      },
      "outputs": [
        {
          "name": "stdout",
          "output_type": "stream",
          "text": [
            "The model has 296,450 trainable parameters\n"
          ]
        }
      ],
      "source": [
        "# Load the state dictionary into the model\n",
        "state_dict = torch.load(path_bert_lora_model)\n",
        "set_peft_model_state_dict(lora_bert_model, state_dict)\n",
        "\n",
        "# _, acc = evaluate_fn(lora_bert_model, test_loader, device)\n",
        "# print(f\"Test accuracy: \", acc)\n",
        "\n",
        "print(f\"The model has {count_parameters(lora_bert_model):,} trainable parameters\")"
      ]
    },
    {
      "cell_type": "markdown",
      "id": "4a478a10",
      "metadata": {
        "id": "4a478a10",
        "papermill": {
          "duration": 0.03867,
          "end_time": "2025-05-16T05:34:29.353249",
          "exception": false,
          "start_time": "2025-05-16T05:34:29.314579",
          "status": "completed"
        },
        "tags": []
      },
      "source": [
        "### Testing result on Testset"
      ]
    },
    {
      "cell_type": "code",
      "execution_count": null,
      "id": "1d6b1166",
      "metadata": {
        "execution": {
          "iopub.execute_input": "2025-05-16T05:34:29.432542Z",
          "iopub.status.busy": "2025-05-16T05:34:29.432283Z",
          "iopub.status.idle": "2025-05-16T05:37:08.670749Z",
          "shell.execute_reply": "2025-05-16T05:37:08.669862Z"
        },
        "id": "1d6b1166",
        "outputId": "80ac1666-80a7-4c88-a812-67f12ae3cc53",
        "papermill": {
          "duration": 159.27988,
          "end_time": "2025-05-16T05:37:08.671870",
          "exception": false,
          "start_time": "2025-05-16T05:34:29.391990",
          "status": "completed"
        },
        "tags": []
      },
      "outputs": [
        {
          "name": "stderr",
          "output_type": "stream",
          "text": [
            "Evaluate model:   0%|          | 0/313 [00:00<?, ?it/s]/tmp/ipykernel_19/4233296355.py:31: UserWarning: To copy construct from a tensor, it is recommended to use sourceTensor.clone().detach() or sourceTensor.clone().detach().requires_grad_(True), rather than torch.tensor(sourceTensor).\n",
            "  labels = torch.tensor(batch[\"labels\"]).to(device)  # Assuming labels are numerical and can be moved to the device\n",
            "                                                                 "
          ]
        },
        {
          "name": "stdout",
          "output_type": "stream",
          "text": [
            "Model accuracy:  0.9338\n"
          ]
        },
        {
          "name": "stderr",
          "output_type": "stream",
          "text": [
            "\r"
          ]
        }
      ],
      "source": [
        "lora_bert_loss, lora_bert_acc = evaluate_fn(lora_bert_model, test_loader, device)\n",
        "\n",
        "print(\"Model accuracy: \", lora_bert_acc)"
      ]
    },
    {
      "cell_type": "markdown",
      "id": "7f0ae634",
      "metadata": {
        "id": "7f0ae634",
        "papermill": {
          "duration": 0.051056,
          "end_time": "2025-05-16T05:37:08.776068",
          "exception": false,
          "start_time": "2025-05-16T05:37:08.725012",
          "status": "completed"
        },
        "tags": []
      },
      "source": [
        "## 3.3 BitFit Tuning"
      ]
    },
    {
      "cell_type": "code",
      "execution_count": null,
      "id": "d26b3171",
      "metadata": {
        "colab": {
          "base_uri": "https://localhost:8080/"
        },
        "execution": {
          "iopub.execute_input": "2025-05-16T05:37:08.880515Z",
          "iopub.status.busy": "2025-05-16T05:37:08.879855Z",
          "iopub.status.idle": "2025-05-16T05:37:09.243236Z",
          "shell.execute_reply": "2025-05-16T05:37:09.242409Z"
        },
        "id": "d26b3171",
        "outputId": "b8191dca-f7db-489d-d78f-1bcb1298a1a1",
        "papermill": {
          "duration": 0.417366,
          "end_time": "2025-05-16T05:37:09.244393",
          "exception": false,
          "start_time": "2025-05-16T05:37:08.827027",
          "status": "completed"
        },
        "tags": []
      },
      "outputs": [
        {
          "name": "stderr",
          "output_type": "stream",
          "text": [
            "Some weights of BertForSequenceClassification were not initialized from the model checkpoint at bert-base-uncased and are newly initialized: ['classifier.bias', 'classifier.weight']\n",
            "You should probably TRAIN this model on a down-stream task to be able to use it for predictions and inference.\n"
          ]
        },
        {
          "name": "stdout",
          "output_type": "stream",
          "text": [
            "The model has 102,914 trainable parameters\n"
          ]
        }
      ],
      "source": [
        "from transformers import AutoModelForSequenceClassification\n",
        "\n",
        "device = torch.device(\"cuda\") if torch.cuda.is_available() else \"cpu\"\n",
        "LEARNING_RATE = 1e-3\n",
        "EPOCHS = 3\n",
        "\n",
        "# Load the base model (e.g., for text classification)\n",
        "bert_bitfit_model = AutoModelForSequenceClassification.from_pretrained(checkpoint, num_labels=2)\n",
        "bert_bitfit_model = bert_bitfit_model.to(device)\n",
        "\n",
        "# Freeze all parameters\n",
        "for param in bert_bitfit_model.parameters():\n",
        "    param.requires_grad = False\n",
        "\n",
        "# Enable training for bias terms only\n",
        "for name, param in bert_bitfit_model.named_parameters():\n",
        "    if 'bias' in name:\n",
        "        param.requires_grad = True\n",
        "\n",
        "print(f\"The model has {count_parameters(bert_bitfit_model):,} trainable parameters\")"
      ]
    },
    {
      "cell_type": "markdown",
      "id": "9d19dd54",
      "metadata": {
        "id": "9d19dd54",
        "papermill": {
          "duration": 0.050715,
          "end_time": "2025-05-16T05:37:09.349553",
          "exception": false,
          "start_time": "2025-05-16T05:37:09.298838",
          "status": "completed"
        },
        "tags": []
      },
      "source": [
        "### Load trained model"
      ]
    },
    {
      "cell_type": "code",
      "execution_count": null,
      "id": "5dc929c9",
      "metadata": {
        "colab": {
          "base_uri": "https://localhost:8080/"
        },
        "execution": {
          "iopub.execute_input": "2025-05-16T05:37:09.452885Z",
          "iopub.status.busy": "2025-05-16T05:37:09.452178Z",
          "iopub.status.idle": "2025-05-16T05:37:09.455829Z",
          "shell.execute_reply": "2025-05-16T05:37:09.455139Z"
        },
        "id": "5dc929c9",
        "outputId": "73874674-1093-4f9e-db8a-e8b792352e35",
        "papermill": {
          "duration": 0.055981,
          "end_time": "2025-05-16T05:37:09.456908",
          "exception": false,
          "start_time": "2025-05-16T05:37:09.400927",
          "status": "completed"
        },
        "tags": []
      },
      "outputs": [
        {
          "name": "stdout",
          "output_type": "stream",
          "text": [
            "Load complete !\n"
          ]
        }
      ],
      "source": [
        "bias_weights = torch.load(path_bert_bitfit_model)\n",
        "bert_bitfit_model.load_state_dict(bias_weights, strict=True)  # strict=False because not loading all weights\n",
        "\n",
        "print(\"Load complete !\")"
      ]
    },
    {
      "cell_type": "markdown",
      "id": "f389a63a",
      "metadata": {
        "id": "f389a63a",
        "papermill": {
          "duration": 0.674375,
          "end_time": "2025-05-16T08:48:27.679571",
          "exception": false,
          "start_time": "2025-05-16T08:48:27.005196",
          "status": "completed"
        },
        "tags": []
      },
      "source": [
        "### Testing on testset"
      ]
    },
    {
      "cell_type": "code",
      "execution_count": null,
      "id": "82994b42",
      "metadata": {
        "colab": {
          "base_uri": "https://localhost:8080/"
        },
        "execution": {
          "iopub.execute_input": "2025-05-16T08:48:28.855765Z",
          "iopub.status.busy": "2025-05-16T08:48:28.855078Z",
          "iopub.status.idle": "2025-05-16T08:49:46.759797Z",
          "shell.execute_reply": "2025-05-16T08:49:46.759013Z"
        },
        "id": "82994b42",
        "outputId": "400239da-ffcc-4c6b-b465-f7f829c6698c",
        "papermill": {
          "duration": 78.496916,
          "end_time": "2025-05-16T08:49:46.761146",
          "exception": false,
          "start_time": "2025-05-16T08:48:28.264230",
          "status": "completed"
        },
        "tags": []
      },
      "outputs": [
        {
          "name": "stderr",
          "output_type": "stream",
          "text": [
            "\rEvaluate model:   0%|          | 0/157 [00:00<?, ?it/s]<ipython-input-12-67c51f71198e>:31: UserWarning: To copy construct from a tensor, it is recommended to use sourceTensor.clone().detach() or sourceTensor.clone().detach().requires_grad_(True), rather than torch.tensor(sourceTensor).\n",
            "  labels = torch.tensor(batch[\"labels\"]).to(device)  # Assuming labels are numerical and can be moved to the device\n",
            "                                                                 "
          ]
        },
        {
          "name": "stdout",
          "output_type": "stream",
          "text": [
            "Model accuracy:  0.9224\n"
          ]
        },
        {
          "name": "stderr",
          "output_type": "stream",
          "text": [
            "\r"
          ]
        }
      ],
      "source": [
        "bitfit_bert_loss, bitfit_bert_acc = evaluate_fn(bert_bitfit_model, test_loader, device)\n",
        "\n",
        "print(\"Model accuracy: \", bitfit_bert_acc)"
      ]
    },
    {
      "cell_type": "markdown",
      "id": "ba112fe4",
      "metadata": {
        "id": "ba112fe4",
        "papermill": {
          "duration": 0.600645,
          "end_time": "2025-05-16T08:49:48.060843",
          "exception": false,
          "start_time": "2025-05-16T08:49:47.460198",
          "status": "completed"
        },
        "tags": []
      },
      "source": [
        "## 3.4 `Prompt Tuning`"
      ]
    },
    {
      "cell_type": "markdown",
      "id": "e896b01b",
      "metadata": {
        "id": "e896b01b",
        "papermill": {
          "duration": 0.596118,
          "end_time": "2025-05-16T08:49:49.333700",
          "exception": false,
          "start_time": "2025-05-16T08:49:48.737582",
          "status": "completed"
        },
        "tags": []
      },
      "source": [
        "### Load config"
      ]
    },
    {
      "cell_type": "code",
      "execution_count": null,
      "id": "1ca3ac59",
      "metadata": {
        "execution": {
          "iopub.execute_input": "2025-05-16T08:49:50.603662Z",
          "iopub.status.busy": "2025-05-16T08:49:50.603374Z",
          "iopub.status.idle": "2025-05-16T08:49:50.994007Z",
          "shell.execute_reply": "2025-05-16T08:49:50.993275Z"
        },
        "id": "1ca3ac59",
        "outputId": "6a7ddbbe-f70e-4715-d546-2d1286bd6f84",
        "papermill": {
          "duration": 1.06442,
          "end_time": "2025-05-16T08:49:50.995194",
          "exception": false,
          "start_time": "2025-05-16T08:49:49.930774",
          "status": "completed"
        },
        "tags": []
      },
      "outputs": [
        {
          "name": "stderr",
          "output_type": "stream",
          "text": [
            "Some weights of BertForSequenceClassification were not initialized from the model checkpoint at bert-base-uncased and are newly initialized: ['classifier.bias', 'classifier.weight']\n",
            "You should probably TRAIN this model on a down-stream task to be able to use it for predictions and inference.\n"
          ]
        },
        {
          "data": {
            "text/plain": [
              "16898"
            ]
          },
          "execution_count": 23,
          "metadata": {},
          "output_type": "execute_result"
        }
      ],
      "source": [
        "from transformers import AutoModelForSequenceClassification, AutoTokenizer\n",
        "from peft import PromptTuningConfig, get_peft_model, TaskType\n",
        "\n",
        "device = torch.device(\"cuda\") if torch.cuda.is_available() else \"cpu\"\n",
        "NUM_VIRTUAL_TOKEN = 20\n",
        "LEARNING_RATE = 1e-3\n",
        "EPOCHS = 3\n",
        "\n",
        "# Load base model\n",
        "base_model = AutoModelForSequenceClassification.from_pretrained(checkpoint, num_labels=2)\n",
        "\n",
        "# Define Prompt Tuning config\n",
        "peft_config = PromptTuningConfig(\n",
        "    task_type=TaskType.SEQ_CLS,       # Sequence classification\n",
        "    num_virtual_tokens=NUM_VIRTUAL_TOKEN,            # Number of prompt tokens (adjustable)\n",
        "    tokenizer_name_or_path=\"bert-base-uncased\"\n",
        ")\n",
        "\n",
        "bert_prompt_model = get_peft_model(base_model, peft_config)\n",
        "bert_prompt_model.to(device)\n",
        "\n",
        "count_parameters(bert_prompt_model)"
      ]
    },
    {
      "cell_type": "markdown",
      "id": "14b380c9",
      "metadata": {
        "id": "14b380c9",
        "papermill": {
          "duration": 0.679913,
          "end_time": "2025-05-16T08:49:52.276108",
          "exception": false,
          "start_time": "2025-05-16T08:49:51.596195",
          "status": "completed"
        },
        "tags": []
      },
      "source": [
        "### Update dataloader\n",
        "Because in Prompt Tuning, the max size of model's token need to be adjusted due to the change in the"
      ]
    },
    {
      "cell_type": "code",
      "execution_count": null,
      "id": "cff433b2",
      "metadata": {
        "colab": {
          "referenced_widgets": [
            "44259d48dad0415d87feedba295f02eb",
            "c3daf6a8f9fa4971be85a75500b85a1b",
            "16488d48436f4ee1b45e5cf34570554b"
          ]
        },
        "execution": {
          "iopub.execute_input": "2025-05-16T08:49:53.478289Z",
          "iopub.status.busy": "2025-05-16T08:49:53.478009Z",
          "iopub.status.idle": "2025-05-16T08:50:24.725180Z",
          "shell.execute_reply": "2025-05-16T08:50:24.724537Z"
        },
        "id": "cff433b2",
        "outputId": "eadb231d-0463-471d-cfb1-a8e27bbdc322",
        "papermill": {
          "duration": 32.093764,
          "end_time": "2025-05-16T08:50:24.975375",
          "exception": false,
          "start_time": "2025-05-16T08:49:52.881611",
          "status": "completed"
        },
        "tags": []
      },
      "outputs": [
        {
          "data": {
            "application/vnd.jupyter.widget-view+json": {
              "model_id": "44259d48dad0415d87feedba295f02eb",
              "version_major": 2,
              "version_minor": 0
            },
            "text/plain": [
              "Map:   0%|          | 0/35000 [00:00<?, ? examples/s]"
            ]
          },
          "metadata": {},
          "output_type": "display_data"
        },
        {
          "data": {
            "application/vnd.jupyter.widget-view+json": {
              "model_id": "c3daf6a8f9fa4971be85a75500b85a1b",
              "version_major": 2,
              "version_minor": 0
            },
            "text/plain": [
              "Map:   0%|          | 0/5000 [00:00<?, ? examples/s]"
            ]
          },
          "metadata": {},
          "output_type": "display_data"
        },
        {
          "data": {
            "application/vnd.jupyter.widget-view+json": {
              "model_id": "16488d48436f4ee1b45e5cf34570554b",
              "version_major": 2,
              "version_minor": 0
            },
            "text/plain": [
              "Map:   0%|          | 0/10000 [00:00<?, ? examples/s]"
            ]
          },
          "metadata": {},
          "output_type": "display_data"
        }
      ],
      "source": [
        "max_model_length = bert_tokenizer.model_max_length\n",
        "adjusted_length = max_model_length - NUM_VIRTUAL_TOKEN\n",
        "\n",
        "prompt_train_loader, prompt_val_loader, prompt_test_loader = preprocessing(dataset_dict, bert_tokenizer, BATCH_SIZE, adjusted_length)"
      ]
    },
    {
      "cell_type": "markdown",
      "id": "e7ecb883",
      "metadata": {
        "id": "e7ecb883",
        "papermill": {
          "duration": 0.67813,
          "end_time": "2025-05-16T08:50:26.251691",
          "exception": false,
          "start_time": "2025-05-16T08:50:25.573561",
          "status": "completed"
        },
        "tags": []
      },
      "source": [
        "### Load trained params"
      ]
    },
    {
      "cell_type": "code",
      "execution_count": null,
      "id": "68c3c2ca",
      "metadata": {
        "execution": {
          "iopub.execute_input": "2025-05-16T08:50:27.438333Z",
          "iopub.status.busy": "2025-05-16T08:50:27.438054Z",
          "iopub.status.idle": "2025-05-16T08:50:27.463047Z",
          "shell.execute_reply": "2025-05-16T08:50:27.462265Z"
        },
        "id": "68c3c2ca",
        "outputId": "468951a3-69ae-47c6-f319-e60392ed236e",
        "papermill": {
          "duration": 0.619063,
          "end_time": "2025-05-16T08:50:27.464114",
          "exception": false,
          "start_time": "2025-05-16T08:50:26.845051",
          "status": "completed"
        },
        "tags": []
      },
      "outputs": [
        {
          "name": "stdout",
          "output_type": "stream",
          "text": [
            "Load success\n"
          ]
        }
      ],
      "source": [
        "from peft import set_peft_model_state_dict\n",
        "\n",
        "state_dict = torch.load(path_bert_prompt_model)\n",
        "set_peft_model_state_dict(bert_prompt_model, state_dict)\n",
        "\n",
        "print(\"Load success\")"
      ]
    },
    {
      "cell_type": "markdown",
      "id": "9b7791d8",
      "metadata": {
        "id": "9b7791d8",
        "papermill": {
          "duration": 0.604384,
          "end_time": "2025-05-16T08:50:30.030149",
          "exception": false,
          "start_time": "2025-05-16T08:50:29.425765",
          "status": "completed"
        },
        "tags": []
      },
      "source": [
        "### Testing on testset"
      ]
    },
    {
      "cell_type": "code",
      "execution_count": null,
      "id": "20e2ac91",
      "metadata": {
        "execution": {
          "iopub.execute_input": "2025-05-16T08:50:31.299809Z",
          "iopub.status.busy": "2025-05-16T08:50:31.299530Z",
          "iopub.status.idle": "2025-05-16T08:53:07.250571Z",
          "shell.execute_reply": "2025-05-16T08:53:07.249737Z"
        },
        "id": "20e2ac91",
        "outputId": "321c4578-485d-4352-a86c-d273cfbe5608",
        "papermill": {
          "duration": 156.623365,
          "end_time": "2025-05-16T08:53:07.251576",
          "exception": false,
          "start_time": "2025-05-16T08:50:30.628211",
          "status": "completed"
        },
        "tags": []
      },
      "outputs": [
        {
          "name": "stderr",
          "output_type": "stream",
          "text": [
            "Evaluate model:   0%|          | 0/313 [00:00<?, ?it/s]/tmp/ipykernel_19/4233296355.py:31: UserWarning: To copy construct from a tensor, it is recommended to use sourceTensor.clone().detach() or sourceTensor.clone().detach().requires_grad_(True), rather than torch.tensor(sourceTensor).\n",
            "  labels = torch.tensor(batch[\"labels\"]).to(device)  # Assuming labels are numerical and can be moved to the device\n",
            "                                                                 "
          ]
        },
        {
          "name": "stdout",
          "output_type": "stream",
          "text": [
            "Model accuracy:  0.8954\n"
          ]
        },
        {
          "name": "stderr",
          "output_type": "stream",
          "text": [
            "\r"
          ]
        }
      ],
      "source": [
        "prompt_bert_loss, prompt_bert_acc = evaluate_fn(bert_prompt_model, prompt_test_loader, device)\n",
        "\n",
        "print(\"Model accuracy: \", prompt_bert_acc)"
      ]
    },
    {
      "cell_type": "markdown",
      "id": "602c49e8",
      "metadata": {
        "id": "602c49e8",
        "papermill": {
          "duration": 0.681727,
          "end_time": "2025-05-16T08:53:08.555757",
          "exception": false,
          "start_time": "2025-05-16T08:53:07.874030",
          "status": "completed"
        },
        "tags": []
      },
      "source": [
        "# 4. Roberta Base Model"
      ]
    },
    {
      "cell_type": "markdown",
      "id": "aaed57ba",
      "metadata": {
        "id": "aaed57ba",
        "papermill": {
          "duration": 0.68381,
          "end_time": "2025-05-16T08:53:09.846043",
          "exception": false,
          "start_time": "2025-05-16T08:53:09.162233",
          "status": "completed"
        },
        "tags": []
      },
      "source": [
        "## 4.1 Download model"
      ]
    },
    {
      "cell_type": "code",
      "execution_count": null,
      "id": "e375b82f",
      "metadata": {
        "colab": {
          "referenced_widgets": [
            "0988d72a91af4bfb925af9056580e924",
            "763983e045b44332b6ea983ab60e8371",
            "40713d878aab426f99852f981d3eeb3e",
            "70724723dc0445bd822608342f8d4210",
            "4509f1ab4e0545418b1f3e82c8920a37",
            "8c3bf2162022449ebde002629f5e26be"
          ]
        },
        "execution": {
          "iopub.execute_input": "2025-05-16T08:53:11.059265Z",
          "iopub.status.busy": "2025-05-16T08:53:11.058988Z",
          "iopub.status.idle": "2025-05-16T08:53:15.354871Z",
          "shell.execute_reply": "2025-05-16T08:53:15.354217Z"
        },
        "id": "e375b82f",
        "outputId": "9b768ad5-1aa2-47dd-f788-ab9569446547",
        "papermill": {
          "duration": 4.902518,
          "end_time": "2025-05-16T08:53:15.356060",
          "exception": false,
          "start_time": "2025-05-16T08:53:10.453542",
          "status": "completed"
        },
        "tags": []
      },
      "outputs": [
        {
          "data": {
            "application/vnd.jupyter.widget-view+json": {
              "model_id": "0988d72a91af4bfb925af9056580e924",
              "version_major": 2,
              "version_minor": 0
            },
            "text/plain": [
              "tokenizer_config.json:   0%|          | 0.00/25.0 [00:00<?, ?B/s]"
            ]
          },
          "metadata": {},
          "output_type": "display_data"
        },
        {
          "data": {
            "application/vnd.jupyter.widget-view+json": {
              "model_id": "763983e045b44332b6ea983ab60e8371",
              "version_major": 2,
              "version_minor": 0
            },
            "text/plain": [
              "config.json:   0%|          | 0.00/481 [00:00<?, ?B/s]"
            ]
          },
          "metadata": {},
          "output_type": "display_data"
        },
        {
          "data": {
            "application/vnd.jupyter.widget-view+json": {
              "model_id": "40713d878aab426f99852f981d3eeb3e",
              "version_major": 2,
              "version_minor": 0
            },
            "text/plain": [
              "vocab.json:   0%|          | 0.00/899k [00:00<?, ?B/s]"
            ]
          },
          "metadata": {},
          "output_type": "display_data"
        },
        {
          "data": {
            "application/vnd.jupyter.widget-view+json": {
              "model_id": "70724723dc0445bd822608342f8d4210",
              "version_major": 2,
              "version_minor": 0
            },
            "text/plain": [
              "merges.txt:   0%|          | 0.00/456k [00:00<?, ?B/s]"
            ]
          },
          "metadata": {},
          "output_type": "display_data"
        },
        {
          "data": {
            "application/vnd.jupyter.widget-view+json": {
              "model_id": "4509f1ab4e0545418b1f3e82c8920a37",
              "version_major": 2,
              "version_minor": 0
            },
            "text/plain": [
              "tokenizer.json:   0%|          | 0.00/1.36M [00:00<?, ?B/s]"
            ]
          },
          "metadata": {},
          "output_type": "display_data"
        },
        {
          "data": {
            "application/vnd.jupyter.widget-view+json": {
              "model_id": "8c3bf2162022449ebde002629f5e26be",
              "version_major": 2,
              "version_minor": 0
            },
            "text/plain": [
              "model.safetensors:   0%|          | 0.00/499M [00:00<?, ?B/s]"
            ]
          },
          "metadata": {},
          "output_type": "display_data"
        },
        {
          "name": "stderr",
          "output_type": "stream",
          "text": [
            "Some weights of RobertaForSequenceClassification were not initialized from the model checkpoint at roberta-base and are newly initialized: ['classifier.dense.bias', 'classifier.dense.weight', 'classifier.out_proj.bias', 'classifier.out_proj.weight']\n",
            "You should probably TRAIN this model on a down-stream task to be able to use it for predictions and inference.\n"
          ]
        }
      ],
      "source": [
        "from transformers import AutoTokenizer, AutoModelForSequenceClassification\n",
        "\n",
        "# Load tokenizer and model\n",
        "checkpoint = \"roberta-base\"\n",
        "roberta_tokenizer = AutoTokenizer.from_pretrained(checkpoint)\n",
        "roberta_model = AutoModelForSequenceClassification.from_pretrained(checkpoint, num_labels=2)"
      ]
    },
    {
      "cell_type": "markdown",
      "id": "0a978f57",
      "metadata": {
        "id": "0a978f57",
        "papermill": {
          "duration": 0.611686,
          "end_time": "2025-05-16T08:53:16.662815",
          "exception": false,
          "start_time": "2025-05-16T08:53:16.051129",
          "status": "completed"
        },
        "tags": []
      },
      "source": [
        "### Preprocessing dataset"
      ]
    },
    {
      "cell_type": "code",
      "execution_count": null,
      "id": "ab0aa518",
      "metadata": {
        "colab": {
          "referenced_widgets": [
            "ac9cb9644da448eb9f14e973b5352253",
            "e6c00d5ed528453ea5ca400291498de4",
            "a27af0a7e36547faa56404a23b04e020"
          ]
        },
        "execution": {
          "iopub.execute_input": "2025-05-16T08:53:17.967232Z",
          "iopub.status.busy": "2025-05-16T08:53:17.966959Z",
          "iopub.status.idle": "2025-05-16T08:53:46.332652Z",
          "shell.execute_reply": "2025-05-16T08:53:46.331880Z"
        },
        "id": "ab0aa518",
        "outputId": "7cb4659d-8092-4a78-e42a-cf56bd277cb2",
        "papermill": {
          "duration": 28.975621,
          "end_time": "2025-05-16T08:53:46.334132",
          "exception": false,
          "start_time": "2025-05-16T08:53:17.358511",
          "status": "completed"
        },
        "tags": []
      },
      "outputs": [
        {
          "data": {
            "application/vnd.jupyter.widget-view+json": {
              "model_id": "ac9cb9644da448eb9f14e973b5352253",
              "version_major": 2,
              "version_minor": 0
            },
            "text/plain": [
              "Map:   0%|          | 0/35000 [00:00<?, ? examples/s]"
            ]
          },
          "metadata": {},
          "output_type": "display_data"
        },
        {
          "data": {
            "application/vnd.jupyter.widget-view+json": {
              "model_id": "e6c00d5ed528453ea5ca400291498de4",
              "version_major": 2,
              "version_minor": 0
            },
            "text/plain": [
              "Map:   0%|          | 0/5000 [00:00<?, ? examples/s]"
            ]
          },
          "metadata": {},
          "output_type": "display_data"
        },
        {
          "data": {
            "application/vnd.jupyter.widget-view+json": {
              "model_id": "a27af0a7e36547faa56404a23b04e020",
              "version_major": 2,
              "version_minor": 0
            },
            "text/plain": [
              "Map:   0%|          | 0/10000 [00:00<?, ? examples/s]"
            ]
          },
          "metadata": {},
          "output_type": "display_data"
        }
      ],
      "source": [
        "BATCH_SIZE = 32\n",
        "\n",
        "train_loader, val_loader, test_loader = preprocessing(dataset_dict, roberta_tokenizer, BATCH_SIZE)"
      ]
    },
    {
      "cell_type": "markdown",
      "id": "b673c6db",
      "metadata": {
        "id": "b673c6db",
        "papermill": {
          "duration": 0.699478,
          "end_time": "2025-05-16T08:53:47.645624",
          "exception": false,
          "start_time": "2025-05-16T08:53:46.946146",
          "status": "completed"
        },
        "tags": []
      },
      "source": [
        "## 4.2 LoRA tuning"
      ]
    },
    {
      "cell_type": "markdown",
      "id": "718fda0d",
      "metadata": {
        "id": "718fda0d",
        "papermill": {
          "duration": 0.686058,
          "end_time": "2025-05-16T08:53:48.936287",
          "exception": false,
          "start_time": "2025-05-16T08:53:48.250229",
          "status": "completed"
        },
        "tags": []
      },
      "source": [
        "### Load model and config hyperparams"
      ]
    },
    {
      "cell_type": "code",
      "execution_count": null,
      "id": "d677d924",
      "metadata": {
        "execution": {
          "iopub.execute_input": "2025-05-16T08:53:50.231569Z",
          "iopub.status.busy": "2025-05-16T08:53:50.231272Z",
          "iopub.status.idle": "2025-05-16T08:53:50.439667Z",
          "shell.execute_reply": "2025-05-16T08:53:50.439020Z"
        },
        "id": "d677d924",
        "outputId": "943c37ed-5303-4f08-fb2b-32f315884c9e",
        "papermill": {
          "duration": 0.899818,
          "end_time": "2025-05-16T08:53:50.440850",
          "exception": false,
          "start_time": "2025-05-16T08:53:49.541032",
          "status": "completed"
        },
        "tags": []
      },
      "outputs": [
        {
          "name": "stdout",
          "output_type": "stream",
          "text": [
            "The model has 887,042 trainable parameters\n"
          ]
        }
      ],
      "source": [
        "from peft import LoraConfig, get_peft_model, get_peft_model_state_dict\n",
        "from sklearn.metrics import accuracy_score # Import accuracy_score\n",
        "\n",
        "device = torch.device(\"cuda\") if torch.cuda.is_available() else \"cpu\"\n",
        "LEARNING_RATE = 1e-3\n",
        "EPOCHS = 3\n",
        "\n",
        "lora_config = LoraConfig(\n",
        "    r=8,  # Rank of low-rank matrices => About 5~10M trainable params\n",
        "    lora_alpha=16,\n",
        "    lora_dropout=0.1,\n",
        "    task_type=\"SEQ_CLS\",  # For sequence classification task\n",
        ")\n",
        "\n",
        "lora_model = get_peft_model(roberta_model, lora_config)\n",
        "lora_model.to(device)\n",
        "\n",
        "print(f\"The model has {count_parameters(lora_model):,} trainable parameters\")"
      ]
    },
    {
      "cell_type": "markdown",
      "id": "ce53385e",
      "metadata": {
        "id": "ce53385e",
        "papermill": {
          "duration": 0.63544,
          "end_time": "2025-05-16T08:53:51.685627",
          "exception": false,
          "start_time": "2025-05-16T08:53:51.050187",
          "status": "completed"
        },
        "tags": []
      },
      "source": [
        "### Load trained params\n",
        "This is used for non-consecutive training process"
      ]
    },
    {
      "cell_type": "code",
      "execution_count": null,
      "id": "a984cb1c",
      "metadata": {
        "execution": {
          "iopub.execute_input": "2025-05-16T08:53:53.020455Z",
          "iopub.status.busy": "2025-05-16T08:53:53.020192Z",
          "iopub.status.idle": "2025-05-16T08:53:53.083745Z",
          "shell.execute_reply": "2025-05-16T08:53:53.082858Z"
        },
        "id": "a984cb1c",
        "outputId": "4fcac060-01fa-47e6-d46a-87e2b2110f1b",
        "papermill": {
          "duration": 0.681019,
          "end_time": "2025-05-16T08:53:53.085013",
          "exception": false,
          "start_time": "2025-05-16T08:53:52.403994",
          "status": "completed"
        },
        "tags": []
      },
      "outputs": [
        {
          "name": "stdout",
          "output_type": "stream",
          "text": [
            "The model has 887,042 trainable parameters\n"
          ]
        }
      ],
      "source": [
        "# Load the state dictionary into the model\n",
        "state_dict = torch.load(path_roberta_lora_model)\n",
        "set_peft_model_state_dict(lora_model, state_dict)\n",
        "\n",
        "print(f\"The model has {count_parameters(lora_model):,} trainable parameters\")"
      ]
    },
    {
      "cell_type": "markdown",
      "id": "d240fe23",
      "metadata": {
        "id": "d240fe23",
        "papermill": {
          "duration": 0.682908,
          "end_time": "2025-05-16T08:53:57.009354",
          "exception": false,
          "start_time": "2025-05-16T08:53:56.326446",
          "status": "completed"
        },
        "tags": []
      },
      "source": [
        "### Test model on testset"
      ]
    },
    {
      "cell_type": "code",
      "execution_count": null,
      "id": "5c064f4d",
      "metadata": {
        "execution": {
          "iopub.execute_input": "2025-05-16T08:53:58.305837Z",
          "iopub.status.busy": "2025-05-16T08:53:58.305551Z",
          "iopub.status.idle": "2025-05-16T08:56:36.480677Z",
          "shell.execute_reply": "2025-05-16T08:56:36.479904Z"
        },
        "id": "5c064f4d",
        "outputId": "412f4f71-83ed-4b15-d0e5-42a8537c50d7",
        "papermill": {
          "duration": 158.861821,
          "end_time": "2025-05-16T08:56:36.481923",
          "exception": false,
          "start_time": "2025-05-16T08:53:57.620102",
          "status": "completed"
        },
        "tags": []
      },
      "outputs": [
        {
          "name": "stderr",
          "output_type": "stream",
          "text": [
            "Evaluate model:   0%|          | 0/313 [00:00<?, ?it/s]/tmp/ipykernel_19/4233296355.py:31: UserWarning: To copy construct from a tensor, it is recommended to use sourceTensor.clone().detach() or sourceTensor.clone().detach().requires_grad_(True), rather than torch.tensor(sourceTensor).\n",
            "  labels = torch.tensor(batch[\"labels\"]).to(device)  # Assuming labels are numerical and can be moved to the device\n",
            "                                                                 "
          ]
        },
        {
          "name": "stdout",
          "output_type": "stream",
          "text": [
            "Model accuracy:  0.9338\n"
          ]
        },
        {
          "name": "stderr",
          "output_type": "stream",
          "text": [
            "\r"
          ]
        }
      ],
      "source": [
        "lora_roberta_loss, lora_roberta_acc = evaluate_fn(lora_model, test_loader, device)\n",
        "\n",
        "print(\"Model accuracy: \", lora_bert_acc)"
      ]
    },
    {
      "cell_type": "markdown",
      "id": "e68de8f9",
      "metadata": {
        "id": "e68de8f9",
        "papermill": {
          "duration": 0.717405,
          "end_time": "2025-05-16T08:56:37.849065",
          "exception": false,
          "start_time": "2025-05-16T08:56:37.131660",
          "status": "completed"
        },
        "tags": []
      },
      "source": [
        "## 4.3 BitFit Tuning"
      ]
    },
    {
      "cell_type": "code",
      "execution_count": null,
      "id": "9ad8cfd4",
      "metadata": {
        "execution": {
          "iopub.execute_input": "2025-05-16T08:56:39.201958Z",
          "iopub.status.busy": "2025-05-16T08:56:39.201662Z",
          "iopub.status.idle": "2025-05-16T08:56:39.611905Z",
          "shell.execute_reply": "2025-05-16T08:56:39.611057Z"
        },
        "id": "9ad8cfd4",
        "outputId": "ebc9013e-7435-4ae3-8d22-658507df1f02",
        "papermill": {
          "duration": 1.117728,
          "end_time": "2025-05-16T08:56:39.613134",
          "exception": false,
          "start_time": "2025-05-16T08:56:38.495406",
          "status": "completed"
        },
        "tags": []
      },
      "outputs": [
        {
          "name": "stderr",
          "output_type": "stream",
          "text": [
            "Some weights of RobertaForSequenceClassification were not initialized from the model checkpoint at roberta-base and are newly initialized: ['classifier.dense.bias', 'classifier.dense.weight', 'classifier.out_proj.bias', 'classifier.out_proj.weight']\n",
            "You should probably TRAIN this model on a down-stream task to be able to use it for predictions and inference.\n"
          ]
        },
        {
          "name": "stdout",
          "output_type": "stream",
          "text": [
            "The model has 102,914 trainable parameters\n"
          ]
        }
      ],
      "source": [
        "from transformers import AutoModelForSequenceClassification\n",
        "\n",
        "device = torch.device(\"cuda\") if torch.cuda.is_available() else \"cpu\"\n",
        "LEARNING_RATE = 1e-3\n",
        "EPOCHS = 3\n",
        "\n",
        "# Load the base model (e.g., for text classification)\n",
        "bitfit_model = AutoModelForSequenceClassification.from_pretrained(checkpoint, num_labels=2)\n",
        "bitfit_model = bitfit_model.to(device)\n",
        "\n",
        "# Freeze all parameters\n",
        "for param in bitfit_model.parameters():\n",
        "    param.requires_grad = False\n",
        "\n",
        "# Enable training for bias terms only\n",
        "for name, param in bitfit_model.named_parameters():\n",
        "    if 'bias' in name:\n",
        "        param.requires_grad = True\n",
        "\n",
        "print(f\"The model has {count_parameters(bitfit_model):,} trainable parameters\")"
      ]
    },
    {
      "cell_type": "markdown",
      "id": "3ddb70c5",
      "metadata": {
        "id": "3ddb70c5",
        "papermill": {
          "duration": 0.701809,
          "end_time": "2025-05-16T08:56:40.939924",
          "exception": false,
          "start_time": "2025-05-16T08:56:40.238115",
          "status": "completed"
        },
        "tags": []
      },
      "source": [
        "### Load trained model"
      ]
    },
    {
      "cell_type": "code",
      "execution_count": null,
      "id": "f9c9761c",
      "metadata": {
        "execution": {
          "iopub.execute_input": "2025-05-16T08:56:42.189625Z",
          "iopub.status.busy": "2025-05-16T08:56:42.188918Z",
          "iopub.status.idle": "2025-05-16T08:56:42.192320Z",
          "shell.execute_reply": "2025-05-16T08:56:42.191796Z"
        },
        "id": "f9c9761c",
        "papermill": {
          "duration": 0.629255,
          "end_time": "2025-05-16T08:56:42.193273",
          "exception": false,
          "start_time": "2025-05-16T08:56:41.564018",
          "status": "completed"
        },
        "tags": []
      },
      "outputs": [],
      "source": [
        "bias_weights = torch.load(path_roberta_bitfit_model)\n",
        "bitfit_model.load_state_dict(bias_weights, strict=True)  # strict=False because not loading all weights\n",
        "\n",
        "print(\"Load complete !\")"
      ]
    },
    {
      "cell_type": "markdown",
      "id": "5a783db5",
      "metadata": {
        "id": "5a783db5",
        "papermill": {
          "duration": 1.289134,
          "end_time": "2025-05-16T12:07:23.836422",
          "exception": false,
          "start_time": "2025-05-16T12:07:22.547288",
          "status": "completed"
        },
        "tags": []
      },
      "source": [
        "### Test on testset"
      ]
    },
    {
      "cell_type": "code",
      "execution_count": null,
      "id": "da6cfcf7",
      "metadata": {
        "execution": {
          "iopub.execute_input": "2025-05-16T12:07:26.335583Z",
          "iopub.status.busy": "2025-05-16T12:07:26.335289Z",
          "iopub.status.idle": "2025-05-16T12:09:59.526333Z",
          "shell.execute_reply": "2025-05-16T12:09:59.525523Z"
        },
        "id": "da6cfcf7",
        "outputId": "cbb3b12c-725c-47f2-ec9a-9d33be76075a",
        "papermill": {
          "duration": 154.48227,
          "end_time": "2025-05-16T12:09:59.527457",
          "exception": false,
          "start_time": "2025-05-16T12:07:25.045187",
          "status": "completed"
        },
        "tags": []
      },
      "outputs": [
        {
          "name": "stderr",
          "output_type": "stream",
          "text": [
            "Evaluate model:   0%|          | 0/313 [00:00<?, ?it/s]/tmp/ipykernel_19/4233296355.py:31: UserWarning: To copy construct from a tensor, it is recommended to use sourceTensor.clone().detach() or sourceTensor.clone().detach().requires_grad_(True), rather than torch.tensor(sourceTensor).\n",
            "  labels = torch.tensor(batch[\"labels\"]).to(device)  # Assuming labels are numerical and can be moved to the device\n",
            "                                                                 "
          ]
        },
        {
          "name": "stdout",
          "output_type": "stream",
          "text": [
            "Model accuracy:  0.9219\n"
          ]
        },
        {
          "name": "stderr",
          "output_type": "stream",
          "text": [
            "\r"
          ]
        }
      ],
      "source": [
        "bitfit_roberta_loss, bitfit_roberta_acc = evaluate_fn(bitfit_model, test_loader, device)\n",
        "\n",
        "print(\"Model accuracy: \", bitfit_roberta_acc)"
      ]
    },
    {
      "cell_type": "markdown",
      "id": "8ead63a9",
      "metadata": {
        "id": "8ead63a9",
        "papermill": {
          "duration": 1.193852,
          "end_time": "2025-05-16T12:10:02.052732",
          "exception": false,
          "start_time": "2025-05-16T12:10:00.858880",
          "status": "completed"
        },
        "tags": []
      },
      "source": [
        "## 4.4 `Prompt Tuning`"
      ]
    },
    {
      "cell_type": "markdown",
      "id": "4a4a7e08",
      "metadata": {
        "id": "4a4a7e08",
        "papermill": {
          "duration": 1.340001,
          "end_time": "2025-05-16T12:10:04.713563",
          "exception": false,
          "start_time": "2025-05-16T12:10:03.373562",
          "status": "completed"
        },
        "tags": []
      },
      "source": [
        "### Load config"
      ]
    },
    {
      "cell_type": "code",
      "execution_count": null,
      "id": "cf71f03f",
      "metadata": {
        "execution": {
          "iopub.execute_input": "2025-05-16T12:10:07.252756Z",
          "iopub.status.busy": "2025-05-16T12:10:07.252213Z",
          "iopub.status.idle": "2025-05-16T12:10:07.642033Z",
          "shell.execute_reply": "2025-05-16T12:10:07.641337Z"
        },
        "id": "cf71f03f",
        "outputId": "d86c4569-8052-4447-c777-15ef278e7d49",
        "papermill": {
          "duration": 1.711478,
          "end_time": "2025-05-16T12:10:07.643154",
          "exception": false,
          "start_time": "2025-05-16T12:10:05.931676",
          "status": "completed"
        },
        "tags": []
      },
      "outputs": [
        {
          "name": "stderr",
          "output_type": "stream",
          "text": [
            "Some weights of RobertaForSequenceClassification were not initialized from the model checkpoint at roberta-base and are newly initialized: ['classifier.dense.bias', 'classifier.dense.weight', 'classifier.out_proj.bias', 'classifier.out_proj.weight']\n",
            "You should probably TRAIN this model on a down-stream task to be able to use it for predictions and inference.\n"
          ]
        },
        {
          "name": "stdout",
          "output_type": "stream",
          "text": [
            "The model has 607,490 trainable parameters\n"
          ]
        },
        {
          "data": {
            "text/plain": [
              "'roberta-base'"
            ]
          },
          "execution_count": 38,
          "metadata": {},
          "output_type": "execute_result"
        }
      ],
      "source": [
        "from transformers import AutoModelForSequenceClassification, AutoTokenizer\n",
        "from peft import PromptTuningConfig, get_peft_model, TaskType\n",
        "\n",
        "device = torch.device(\"cuda\") if torch.cuda.is_available() else \"cpu\"\n",
        "LEARNING_RATE = 1e-3\n",
        "EPOCHS = 3\n",
        "NUM_VIRTUAL_TOKEN = 20\n",
        "BATCH_SIZE = 32\n",
        "\n",
        "# Load base model\n",
        "base_model = AutoModelForSequenceClassification.from_pretrained(checkpoint, num_labels=2)\n",
        "\n",
        "# Define Prompt Tuning config\n",
        "peft_config = PromptTuningConfig(\n",
        "    task_type=TaskType.SEQ_CLS,       # Sequence classification\n",
        "    num_virtual_tokens=NUM_VIRTUAL_TOKEN,            # Number of prompt tokens (adjustable)\n",
        "    tokenizer_name_or_path=checkpoint\n",
        ")\n",
        "\n",
        "prompt_model = get_peft_model(base_model, peft_config)\n",
        "prompt_model.to(device)\n",
        "\n",
        "print(f\"The model has {count_parameters(prompt_model):,} trainable parameters\")\n",
        "checkpoint"
      ]
    },
    {
      "cell_type": "markdown",
      "id": "12e9109c",
      "metadata": {
        "id": "12e9109c",
        "papermill": {
          "duration": 1.308564,
          "end_time": "2025-05-16T12:10:10.137645",
          "exception": false,
          "start_time": "2025-05-16T12:10:08.829081",
          "status": "completed"
        },
        "tags": []
      },
      "source": [
        "### Update dataloader\n",
        "Because in Prompt Tuning, the max size of model's token need to be adjusted due to the change in the"
      ]
    },
    {
      "cell_type": "code",
      "execution_count": null,
      "id": "1ba34270",
      "metadata": {
        "colab": {
          "referenced_widgets": [
            "de84b9889afb4108a630afebfb37de19",
            "6ee57f566e9947e6a1b4d5c1a50fb904",
            "4420167b0e944683a1829fbdef42f36f"
          ]
        },
        "execution": {
          "iopub.execute_input": "2025-05-16T12:10:12.632111Z",
          "iopub.status.busy": "2025-05-16T12:10:12.631847Z",
          "iopub.status.idle": "2025-05-16T12:10:39.797173Z",
          "shell.execute_reply": "2025-05-16T12:10:39.796636Z"
        },
        "id": "1ba34270",
        "outputId": "d7c33389-10c1-47d8-a17c-ffc6e5978f0f",
        "papermill": {
          "duration": 28.470025,
          "end_time": "2025-05-16T12:10:39.798221",
          "exception": false,
          "start_time": "2025-05-16T12:10:11.328196",
          "status": "completed"
        },
        "tags": []
      },
      "outputs": [
        {
          "data": {
            "application/vnd.jupyter.widget-view+json": {
              "model_id": "de84b9889afb4108a630afebfb37de19",
              "version_major": 2,
              "version_minor": 0
            },
            "text/plain": [
              "Map:   0%|          | 0/35000 [00:00<?, ? examples/s]"
            ]
          },
          "metadata": {},
          "output_type": "display_data"
        },
        {
          "data": {
            "application/vnd.jupyter.widget-view+json": {
              "model_id": "6ee57f566e9947e6a1b4d5c1a50fb904",
              "version_major": 2,
              "version_minor": 0
            },
            "text/plain": [
              "Map:   0%|          | 0/5000 [00:00<?, ? examples/s]"
            ]
          },
          "metadata": {},
          "output_type": "display_data"
        },
        {
          "data": {
            "application/vnd.jupyter.widget-view+json": {
              "model_id": "4420167b0e944683a1829fbdef42f36f",
              "version_major": 2,
              "version_minor": 0
            },
            "text/plain": [
              "Map:   0%|          | 0/10000 [00:00<?, ? examples/s]"
            ]
          },
          "metadata": {},
          "output_type": "display_data"
        }
      ],
      "source": [
        "max_model_length = roberta_tokenizer.model_max_length\n",
        "adjusted_length = max_model_length - NUM_VIRTUAL_TOKEN\n",
        "\n",
        "prompt_train_loader, prompt_val_loader, prompt_test_loader = preprocessing(dataset_dict, roberta_tokenizer, BATCH_SIZE, adjusted_length)"
      ]
    },
    {
      "cell_type": "markdown",
      "id": "a29de4cf",
      "metadata": {
        "id": "a29de4cf",
        "papermill": {
          "duration": 1.185167,
          "end_time": "2025-05-16T12:10:42.309724",
          "exception": false,
          "start_time": "2025-05-16T12:10:41.124557",
          "status": "completed"
        },
        "tags": []
      },
      "source": [
        "### Load trained params"
      ]
    },
    {
      "cell_type": "code",
      "execution_count": null,
      "id": "d73011fb",
      "metadata": {
        "execution": {
          "iopub.execute_input": "2025-05-16T12:10:44.965532Z",
          "iopub.status.busy": "2025-05-16T12:10:44.965027Z",
          "iopub.status.idle": "2025-05-16T12:10:45.030350Z",
          "shell.execute_reply": "2025-05-16T12:10:45.029720Z"
        },
        "id": "d73011fb",
        "outputId": "a48daa3b-b074-4717-da1e-1c6d23f30a11",
        "papermill": {
          "duration": 1.407574,
          "end_time": "2025-05-16T12:10:45.031459",
          "exception": false,
          "start_time": "2025-05-16T12:10:43.623885",
          "status": "completed"
        },
        "tags": []
      },
      "outputs": [
        {
          "name": "stdout",
          "output_type": "stream",
          "text": [
            "Load success\n"
          ]
        }
      ],
      "source": [
        "from peft import set_peft_model_state_dict\n",
        "model_path = path_roberta_prompt_model\n",
        "\n",
        "state_dict = torch.load(model_path)\n",
        "set_peft_model_state_dict(prompt_model, state_dict)\n",
        "\n",
        "print(\"Load success\")"
      ]
    },
    {
      "cell_type": "markdown",
      "id": "a7e1a0bb",
      "metadata": {
        "id": "a7e1a0bb",
        "papermill": {
          "duration": 1.197527,
          "end_time": "2025-05-16T12:10:52.579819",
          "exception": false,
          "start_time": "2025-05-16T12:10:51.382292",
          "status": "completed"
        },
        "tags": []
      },
      "source": [
        "### Testing in testset"
      ]
    },
    {
      "cell_type": "code",
      "execution_count": null,
      "id": "2033711a",
      "metadata": {
        "execution": {
          "iopub.execute_input": "2025-05-16T12:10:55.114161Z",
          "iopub.status.busy": "2025-05-16T12:10:55.113920Z",
          "iopub.status.idle": "2025-05-16T12:13:28.391951Z",
          "shell.execute_reply": "2025-05-16T12:13:28.391135Z"
        },
        "id": "2033711a",
        "outputId": "2ae66bdb-7716-4c4e-a99a-530783635bf2",
        "papermill": {
          "duration": 154.501367,
          "end_time": "2025-05-16T12:13:28.393152",
          "exception": false,
          "start_time": "2025-05-16T12:10:53.891785",
          "status": "completed"
        },
        "tags": []
      },
      "outputs": [
        {
          "name": "stderr",
          "output_type": "stream",
          "text": [
            "Evaluate model:   0%|          | 0/313 [00:00<?, ?it/s]/tmp/ipykernel_19/4233296355.py:31: UserWarning: To copy construct from a tensor, it is recommended to use sourceTensor.clone().detach() or sourceTensor.clone().detach().requires_grad_(True), rather than torch.tensor(sourceTensor).\n",
            "  labels = torch.tensor(batch[\"labels\"]).to(device)  # Assuming labels are numerical and can be moved to the device\n",
            "                                                                 "
          ]
        },
        {
          "name": "stdout",
          "output_type": "stream",
          "text": [
            "Model accuracy:  0.933\n"
          ]
        },
        {
          "name": "stderr",
          "output_type": "stream",
          "text": [
            "\r"
          ]
        }
      ],
      "source": [
        "prompt_roberta_loss, prompt_roberta_acc = evaluate_fn(prompt_model, prompt_test_loader, device)\n",
        "\n",
        "print(\"Model accuracy: \", prompt_roberta_acc)"
      ]
    },
    {
      "cell_type": "markdown",
      "id": "3637ba76",
      "metadata": {
        "id": "3637ba76",
        "papermill": {
          "duration": 1.211031,
          "end_time": "2025-05-16T12:13:30.953408",
          "exception": false,
          "start_time": "2025-05-16T12:13:29.742377",
          "status": "completed"
        },
        "tags": []
      },
      "source": [
        "# 5. DistillBERT model"
      ]
    },
    {
      "cell_type": "markdown",
      "id": "7e572f13",
      "metadata": {
        "id": "7e572f13",
        "papermill": {
          "duration": 1.216651,
          "end_time": "2025-05-16T12:13:33.521829",
          "exception": false,
          "start_time": "2025-05-16T12:13:32.305178",
          "status": "completed"
        },
        "tags": []
      },
      "source": [
        "## 5.1 Download model"
      ]
    },
    {
      "cell_type": "code",
      "execution_count": null,
      "id": "19bb14ea",
      "metadata": {
        "colab": {
          "referenced_widgets": [
            "c2418e5b99604282ac562ec36b0bad2f",
            "31e31435c8b94ab3abcbd30aa2b329dd",
            "c523dbe86b0543e0a900ab3425cd2b68",
            "eb88f22d0bd441c48f27c0fc27072993",
            "8d4eb83f593d48d9bb22504aaaf5e4e3"
          ]
        },
        "execution": {
          "iopub.execute_input": "2025-05-16T12:13:36.261334Z",
          "iopub.status.busy": "2025-05-16T12:13:36.261065Z",
          "iopub.status.idle": "2025-05-16T12:13:40.726984Z",
          "shell.execute_reply": "2025-05-16T12:13:40.726170Z"
        },
        "id": "19bb14ea",
        "outputId": "f0e9c351-769d-4077-ad83-92610a6a6906",
        "papermill": {
          "duration": 5.833186,
          "end_time": "2025-05-16T12:13:40.728215",
          "exception": false,
          "start_time": "2025-05-16T12:13:34.895029",
          "status": "completed"
        },
        "tags": []
      },
      "outputs": [
        {
          "data": {
            "application/vnd.jupyter.widget-view+json": {
              "model_id": "c2418e5b99604282ac562ec36b0bad2f",
              "version_major": 2,
              "version_minor": 0
            },
            "text/plain": [
              "tokenizer_config.json:   0%|          | 0.00/48.0 [00:00<?, ?B/s]"
            ]
          },
          "metadata": {},
          "output_type": "display_data"
        },
        {
          "data": {
            "application/vnd.jupyter.widget-view+json": {
              "model_id": "31e31435c8b94ab3abcbd30aa2b329dd",
              "version_major": 2,
              "version_minor": 0
            },
            "text/plain": [
              "config.json:   0%|          | 0.00/483 [00:00<?, ?B/s]"
            ]
          },
          "metadata": {},
          "output_type": "display_data"
        },
        {
          "data": {
            "application/vnd.jupyter.widget-view+json": {
              "model_id": "c523dbe86b0543e0a900ab3425cd2b68",
              "version_major": 2,
              "version_minor": 0
            },
            "text/plain": [
              "vocab.txt:   0%|          | 0.00/232k [00:00<?, ?B/s]"
            ]
          },
          "metadata": {},
          "output_type": "display_data"
        },
        {
          "data": {
            "application/vnd.jupyter.widget-view+json": {
              "model_id": "eb88f22d0bd441c48f27c0fc27072993",
              "version_major": 2,
              "version_minor": 0
            },
            "text/plain": [
              "tokenizer.json:   0%|          | 0.00/466k [00:00<?, ?B/s]"
            ]
          },
          "metadata": {},
          "output_type": "display_data"
        },
        {
          "data": {
            "application/vnd.jupyter.widget-view+json": {
              "model_id": "8d4eb83f593d48d9bb22504aaaf5e4e3",
              "version_major": 2,
              "version_minor": 0
            },
            "text/plain": [
              "model.safetensors:   0%|          | 0.00/268M [00:00<?, ?B/s]"
            ]
          },
          "metadata": {},
          "output_type": "display_data"
        },
        {
          "name": "stderr",
          "output_type": "stream",
          "text": [
            "Some weights of DistilBertForSequenceClassification were not initialized from the model checkpoint at distilbert-base-uncased and are newly initialized: ['classifier.bias', 'classifier.weight', 'pre_classifier.bias', 'pre_classifier.weight']\n",
            "You should probably TRAIN this model on a down-stream task to be able to use it for predictions and inference.\n"
          ]
        }
      ],
      "source": [
        "from transformers import AutoTokenizer, AutoModelForSequenceClassification\n",
        "\n",
        "# Load tokenizer and model\n",
        "checkpoint = \"distilbert-base-uncased\"\n",
        "distillbert_tokenizer = AutoTokenizer.from_pretrained(checkpoint)\n",
        "distillbert_model = AutoModelForSequenceClassification.from_pretrained(checkpoint, num_labels=2)"
      ]
    },
    {
      "cell_type": "markdown",
      "id": "f6709983",
      "metadata": {
        "id": "f6709983",
        "papermill": {
          "duration": 1.339831,
          "end_time": "2025-05-16T12:13:43.283758",
          "exception": false,
          "start_time": "2025-05-16T12:13:41.943927",
          "status": "completed"
        },
        "tags": []
      },
      "source": [
        "### Preprocessing dataset"
      ]
    },
    {
      "cell_type": "code",
      "execution_count": null,
      "id": "8783f294",
      "metadata": {
        "colab": {
          "referenced_widgets": [
            "d67a510bb6644365aff809ce4cd97cb5",
            "de90c8aafec542dbaea8f1ae2b6a530e",
            "24ad6b986fc84c749d6b04b928253eb0"
          ]
        },
        "execution": {
          "iopub.execute_input": "2025-05-16T12:13:46.032153Z",
          "iopub.status.busy": "2025-05-16T12:13:46.031775Z",
          "iopub.status.idle": "2025-05-16T12:14:14.826307Z",
          "shell.execute_reply": "2025-05-16T12:14:14.825431Z"
        },
        "id": "8783f294",
        "outputId": "b3e5cfdf-33d9-4641-9b45-59adefd2c171",
        "papermill": {
          "duration": 30.160778,
          "end_time": "2025-05-16T12:14:14.827573",
          "exception": false,
          "start_time": "2025-05-16T12:13:44.666795",
          "status": "completed"
        },
        "tags": []
      },
      "outputs": [
        {
          "data": {
            "application/vnd.jupyter.widget-view+json": {
              "model_id": "d67a510bb6644365aff809ce4cd97cb5",
              "version_major": 2,
              "version_minor": 0
            },
            "text/plain": [
              "Map:   0%|          | 0/35000 [00:00<?, ? examples/s]"
            ]
          },
          "metadata": {},
          "output_type": "display_data"
        },
        {
          "data": {
            "application/vnd.jupyter.widget-view+json": {
              "model_id": "de90c8aafec542dbaea8f1ae2b6a530e",
              "version_major": 2,
              "version_minor": 0
            },
            "text/plain": [
              "Map:   0%|          | 0/5000 [00:00<?, ? examples/s]"
            ]
          },
          "metadata": {},
          "output_type": "display_data"
        },
        {
          "data": {
            "application/vnd.jupyter.widget-view+json": {
              "model_id": "24ad6b986fc84c749d6b04b928253eb0",
              "version_major": 2,
              "version_minor": 0
            },
            "text/plain": [
              "Map:   0%|          | 0/10000 [00:00<?, ? examples/s]"
            ]
          },
          "metadata": {},
          "output_type": "display_data"
        }
      ],
      "source": [
        "BATCH_SIZE = 32\n",
        "\n",
        "train_loader, val_loader, test_loader = preprocessing(dataset_dict, distillbert_tokenizer, BATCH_SIZE)"
      ]
    },
    {
      "cell_type": "markdown",
      "id": "e17e42c1",
      "metadata": {
        "id": "e17e42c1",
        "papermill": {
          "duration": 1.215999,
          "end_time": "2025-05-16T12:14:17.394816",
          "exception": false,
          "start_time": "2025-05-16T12:14:16.178817",
          "status": "completed"
        },
        "tags": []
      },
      "source": [
        "## 5.2 LoRA tuning"
      ]
    },
    {
      "cell_type": "code",
      "execution_count": null,
      "id": "8ee0e8ac",
      "metadata": {
        "execution": {
          "iopub.execute_input": "2025-05-16T12:14:19.953648Z",
          "iopub.status.busy": "2025-05-16T12:14:19.952762Z",
          "iopub.status.idle": "2025-05-16T12:14:20.061370Z",
          "shell.execute_reply": "2025-05-16T12:14:20.060523Z"
        },
        "id": "8ee0e8ac",
        "outputId": "5b9fbcc3-e58d-497a-eb0c-2226440d5273",
        "papermill": {
          "duration": 1.325518,
          "end_time": "2025-05-16T12:14:20.062885",
          "exception": false,
          "start_time": "2025-05-16T12:14:18.737367",
          "status": "completed"
        },
        "tags": []
      },
      "outputs": [
        {
          "name": "stdout",
          "output_type": "stream",
          "text": [
            "The model has 665,858 trainable parameters\n"
          ]
        }
      ],
      "source": [
        "### Load model and config hyperparams\n",
        "from peft import LoraConfig, get_peft_model, get_peft_model_state_dict\n",
        "from sklearn.metrics import accuracy_score # Import accuracy_score\n",
        "\n",
        "device = torch.device(\"cuda\") if torch.cuda.is_available() else \"cpu\"\n",
        "LEARNING_RATE = 1e-3\n",
        "\n",
        "lora_config = LoraConfig(\n",
        "    r=8,  # Rank of low-rank matrices => About 5~10M trainable params\n",
        "    lora_alpha=16,\n",
        "    lora_dropout=0.1,\n",
        "    task_type=\"SEQ_CLS\",  # For sequence classification task\n",
        "    target_modules=[\"out_lin\"]   # ← tell PEFT which layers to adapt\n",
        ")\n",
        "\n",
        "lora_model = get_peft_model(distillbert_model, lora_config)\n",
        "lora_model.to(device)\n",
        "\n",
        "print(f\"The model has {count_parameters(lora_model):,} trainable parameters\")"
      ]
    },
    {
      "cell_type": "markdown",
      "id": "e03b578e",
      "metadata": {
        "id": "e03b578e",
        "papermill": {
          "duration": 1.345677,
          "end_time": "2025-05-16T12:14:22.739227",
          "exception": false,
          "start_time": "2025-05-16T12:14:21.393550",
          "status": "completed"
        },
        "tags": []
      },
      "source": [
        "### Load trained params\n",
        "This is used for non-consecutive training process"
      ]
    },
    {
      "cell_type": "code",
      "execution_count": null,
      "id": "39faa48b",
      "metadata": {
        "execution": {
          "iopub.execute_input": "2025-05-16T12:14:25.400219Z",
          "iopub.status.busy": "2025-05-16T12:14:25.399879Z",
          "iopub.status.idle": "2025-05-16T12:14:25.475295Z",
          "shell.execute_reply": "2025-05-16T12:14:25.474489Z"
        },
        "id": "39faa48b",
        "outputId": "65f9baf2-3a33-4973-b3a9-08f804743263",
        "papermill": {
          "duration": 1.528725,
          "end_time": "2025-05-16T12:14:25.476704",
          "exception": false,
          "start_time": "2025-05-16T12:14:23.947979",
          "status": "completed"
        },
        "tags": []
      },
      "outputs": [
        {
          "name": "stdout",
          "output_type": "stream",
          "text": [
            "The model has 665,858 trainable parameters\n"
          ]
        }
      ],
      "source": [
        "from peft import set_peft_model_state_dict\n",
        "\n",
        "state_dict = torch.load(path_dibert_lora_model)\n",
        "set_peft_model_state_dict(lora_model, state_dict)\n",
        "\n",
        "print(f\"The model has {count_parameters(lora_model):,} trainable parameters\")"
      ]
    },
    {
      "cell_type": "markdown",
      "id": "5ab2c185",
      "metadata": {
        "id": "5ab2c185",
        "papermill": {
          "duration": 1.206247,
          "end_time": "2025-05-16T12:14:33.099547",
          "exception": false,
          "start_time": "2025-05-16T12:14:31.893300",
          "status": "completed"
        },
        "tags": []
      },
      "source": [
        "### Test on testset"
      ]
    },
    {
      "cell_type": "code",
      "execution_count": null,
      "id": "dc6652e0",
      "metadata": {
        "execution": {
          "iopub.execute_input": "2025-05-16T12:14:35.670338Z",
          "iopub.status.busy": "2025-05-16T12:14:35.670064Z",
          "iopub.status.idle": "2025-05-16T12:15:55.189284Z",
          "shell.execute_reply": "2025-05-16T12:15:55.188525Z"
        },
        "id": "dc6652e0",
        "outputId": "346e86ca-9996-4c61-a9c3-2f474f71c077",
        "papermill": {
          "duration": 80.759745,
          "end_time": "2025-05-16T12:15:55.190442",
          "exception": false,
          "start_time": "2025-05-16T12:14:34.430697",
          "status": "completed"
        },
        "tags": []
      },
      "outputs": [
        {
          "name": "stderr",
          "output_type": "stream",
          "text": [
            "Evaluate model:   0%|          | 0/313 [00:00<?, ?it/s]/tmp/ipykernel_19/4233296355.py:31: UserWarning: To copy construct from a tensor, it is recommended to use sourceTensor.clone().detach() or sourceTensor.clone().detach().requires_grad_(True), rather than torch.tensor(sourceTensor).\n",
            "  labels = torch.tensor(batch[\"labels\"]).to(device)  # Assuming labels are numerical and can be moved to the device\n",
            "                                                                 "
          ]
        },
        {
          "name": "stdout",
          "output_type": "stream",
          "text": [
            "Model accuracy:  0.9283\n"
          ]
        },
        {
          "name": "stderr",
          "output_type": "stream",
          "text": [
            "\r"
          ]
        }
      ],
      "source": [
        "lora_disbert_loss, lora_disbert_acc = evaluate_fn(lora_model, test_loader, device)\n",
        "\n",
        "print(\"Model accuracy: \", lora_disbert_acc)"
      ]
    },
    {
      "cell_type": "markdown",
      "id": "f25c52bf",
      "metadata": {
        "id": "f25c52bf",
        "papermill": {
          "duration": 1.227814,
          "end_time": "2025-05-16T12:15:57.787676",
          "exception": false,
          "start_time": "2025-05-16T12:15:56.559862",
          "status": "completed"
        },
        "tags": []
      },
      "source": [
        "## 5.3 BitFit Tuning"
      ]
    },
    {
      "cell_type": "code",
      "execution_count": null,
      "id": "aaa518e8",
      "metadata": {
        "execution": {
          "iopub.execute_input": "2025-05-16T12:16:00.465325Z",
          "iopub.status.busy": "2025-05-16T12:16:00.464497Z",
          "iopub.status.idle": "2025-05-16T12:16:00.706782Z",
          "shell.execute_reply": "2025-05-16T12:16:00.705963Z"
        },
        "id": "aaa518e8",
        "outputId": "af88d5fe-622e-4be2-b49a-f6c780108890",
        "papermill": {
          "duration": 1.477089,
          "end_time": "2025-05-16T12:16:00.707921",
          "exception": false,
          "start_time": "2025-05-16T12:15:59.230832",
          "status": "completed"
        },
        "tags": []
      },
      "outputs": [
        {
          "name": "stderr",
          "output_type": "stream",
          "text": [
            "Some weights of DistilBertForSequenceClassification were not initialized from the model checkpoint at distilbert-base-uncased and are newly initialized: ['classifier.bias', 'classifier.weight', 'pre_classifier.bias', 'pre_classifier.weight']\n",
            "You should probably TRAIN this model on a down-stream task to be able to use it for predictions and inference.\n"
          ]
        },
        {
          "name": "stdout",
          "output_type": "stream",
          "text": [
            "The model has 52,226 trainable parameters\n"
          ]
        }
      ],
      "source": [
        "from transformers import AutoModelForSequenceClassification\n",
        "\n",
        "device = torch.device(\"cuda\") if torch.cuda.is_available() else \"cpu\"\n",
        "LEARNING_RATE = 1e-3\n",
        "EPOCHS = 3\n",
        "\n",
        "# Load the base model (e.g., for text classification)\n",
        "bitfit_model = AutoModelForSequenceClassification.from_pretrained(checkpoint, num_labels=2)\n",
        "bitfit_model = bitfit_model.to(device)\n",
        "\n",
        "# Freeze all parameters\n",
        "for param in bitfit_model.parameters():\n",
        "    param.requires_grad = False\n",
        "\n",
        "# Enable training for bias terms only\n",
        "for name, param in bitfit_model.named_parameters():\n",
        "    if 'bias' in name:\n",
        "        param.requires_grad = True\n",
        "\n",
        "print(f\"The model has {count_parameters(bitfit_model):,} trainable parameters\")"
      ]
    },
    {
      "cell_type": "markdown",
      "id": "285f2a93",
      "metadata": {
        "id": "285f2a93",
        "papermill": {
          "duration": 1.389502,
          "end_time": "2025-05-16T12:16:03.473071",
          "exception": false,
          "start_time": "2025-05-16T12:16:02.083569",
          "status": "completed"
        },
        "tags": []
      },
      "source": [
        "### Load trained model before training"
      ]
    },
    {
      "cell_type": "code",
      "execution_count": null,
      "id": "ec4621c4",
      "metadata": {
        "execution": {
          "iopub.execute_input": "2025-05-16T12:16:06.087277Z",
          "iopub.status.busy": "2025-05-16T12:16:06.086591Z",
          "iopub.status.idle": "2025-05-16T12:16:06.090543Z",
          "shell.execute_reply": "2025-05-16T12:16:06.089886Z"
        },
        "id": "ec4621c4",
        "outputId": "f1ad8cc9-fb57-4dc9-b168-1162dce9fd4d",
        "papermill": {
          "duration": 1.384263,
          "end_time": "2025-05-16T12:16:06.091813",
          "exception": false,
          "start_time": "2025-05-16T12:16:04.707550",
          "status": "completed"
        },
        "tags": []
      },
      "outputs": [
        {
          "name": "stdout",
          "output_type": "stream",
          "text": [
            "Load complete !\n"
          ]
        }
      ],
      "source": [
        "bias_weights = torch.load(path_dibert_bitfit_model)\n",
        "bitfit_model.load_state_dict(bias_weights, strict=True)  # strict=False because not loading all weights\n",
        "\n",
        "print(\"Load complete !\")"
      ]
    },
    {
      "cell_type": "markdown",
      "id": "c8abafd3",
      "metadata": {
        "id": "c8abafd3",
        "papermill": {
          "duration": 2.000755,
          "end_time": "2025-05-16T13:51:56.582855",
          "exception": false,
          "start_time": "2025-05-16T13:51:54.582100",
          "status": "completed"
        },
        "tags": []
      },
      "source": [
        "### Test on testset"
      ]
    },
    {
      "cell_type": "code",
      "execution_count": null,
      "id": "f5c30eea",
      "metadata": {
        "execution": {
          "iopub.execute_input": "2025-05-16T13:52:00.520224Z",
          "iopub.status.busy": "2025-05-16T13:52:00.519767Z",
          "iopub.status.idle": "2025-05-16T13:53:19.070304Z",
          "shell.execute_reply": "2025-05-16T13:53:19.069395Z"
        },
        "id": "f5c30eea",
        "outputId": "b56105aa-24bd-4945-e965-7d840dfca550",
        "papermill": {
          "duration": 80.513759,
          "end_time": "2025-05-16T13:53:19.071603",
          "exception": false,
          "start_time": "2025-05-16T13:51:58.557844",
          "status": "completed"
        },
        "tags": []
      },
      "outputs": [
        {
          "name": "stderr",
          "output_type": "stream",
          "text": [
            "Evaluate model:   0%|          | 0/313 [00:00<?, ?it/s]/tmp/ipykernel_19/4233296355.py:31: UserWarning: To copy construct from a tensor, it is recommended to use sourceTensor.clone().detach() or sourceTensor.clone().detach().requires_grad_(True), rather than torch.tensor(sourceTensor).\n",
            "  labels = torch.tensor(batch[\"labels\"]).to(device)  # Assuming labels are numerical and can be moved to the device\n",
            "                                                                 "
          ]
        },
        {
          "name": "stdout",
          "output_type": "stream",
          "text": [
            "Model accuracy:  0.9108\n"
          ]
        },
        {
          "name": "stderr",
          "output_type": "stream",
          "text": [
            "\r"
          ]
        }
      ],
      "source": [
        "bitfit_disbert_loss, bitfit_disbert_acc = evaluate_fn(bitfit_model, test_loader, device)\n",
        "\n",
        "print(\"Model accuracy: \", bitfit_disbert_acc)"
      ]
    },
    {
      "cell_type": "markdown",
      "id": "301df27d",
      "metadata": {
        "id": "301df27d",
        "papermill": {
          "duration": 1.957905,
          "end_time": "2025-05-16T13:53:22.980437",
          "exception": false,
          "start_time": "2025-05-16T13:53:21.022532",
          "status": "completed"
        },
        "tags": []
      },
      "source": [
        "## 5.4 `Prompt Tuning`"
      ]
    },
    {
      "cell_type": "markdown",
      "id": "5ad5d3f8",
      "metadata": {
        "id": "5ad5d3f8",
        "papermill": {
          "duration": 1.79817,
          "end_time": "2025-05-16T13:53:26.749438",
          "exception": false,
          "start_time": "2025-05-16T13:53:24.951268",
          "status": "completed"
        },
        "tags": []
      },
      "source": [
        "### Load config"
      ]
    },
    {
      "cell_type": "code",
      "execution_count": null,
      "id": "f35fe633",
      "metadata": {
        "execution": {
          "iopub.execute_input": "2025-05-16T13:53:30.612624Z",
          "iopub.status.busy": "2025-05-16T13:53:30.612088Z",
          "iopub.status.idle": "2025-05-16T13:53:30.940211Z",
          "shell.execute_reply": "2025-05-16T13:53:30.939403Z"
        },
        "id": "f35fe633",
        "outputId": "4066e5a7-fc87-4512-9b9f-a7772a8a4267",
        "papermill": {
          "duration": 2.267627,
          "end_time": "2025-05-16T13:53:30.941518",
          "exception": false,
          "start_time": "2025-05-16T13:53:28.673891",
          "status": "completed"
        },
        "tags": []
      },
      "outputs": [
        {
          "name": "stderr",
          "output_type": "stream",
          "text": [
            "Some weights of DistilBertForSequenceClassification were not initialized from the model checkpoint at distilbert-base-uncased and are newly initialized: ['classifier.bias', 'classifier.weight', 'pre_classifier.bias', 'pre_classifier.weight']\n",
            "You should probably TRAIN this model on a down-stream task to be able to use it for predictions and inference.\n"
          ]
        },
        {
          "name": "stdout",
          "output_type": "stream",
          "text": [
            "The model has 607,490 trainable parameters\n"
          ]
        }
      ],
      "source": [
        "from transformers import AutoModelForSequenceClassification, AutoTokenizer\n",
        "from peft import PromptTuningConfig, get_peft_model, TaskType\n",
        "\n",
        "device = torch.device(\"cuda\") if torch.cuda.is_available() else \"cpu\"\n",
        "LEARNING_RATE = 1e-3\n",
        "EPOCHS = 3\n",
        "NUM_VIRTUAL_TOKEN = 20\n",
        "BATCH_SIZE = 32\n",
        "\n",
        "# Load base model\n",
        "base_model = AutoModelForSequenceClassification.from_pretrained(checkpoint, num_labels=2)\n",
        "config = base_model.config\n",
        "\n",
        "# Define Prompt Tuning config\n",
        "peft_config = PromptTuningConfig(\n",
        "    task_type=TaskType.SEQ_CLS,       # Sequence classification\n",
        "    num_virtual_tokens=NUM_VIRTUAL_TOKEN,            # Number of prompt tokens (adjustable)\n",
        "    tokenizer_name_or_path=checkpoint,\n",
        "    num_layers = 6,                             # BERT-base: 12\n",
        "    token_dim = config.hidden_size,                            # BERT-base: 768\n",
        "    num_attention_heads = 6,                    # BERT-base: 12\n",
        ")\n",
        "\n",
        "prompt_model = get_peft_model(base_model, peft_config)\n",
        "prompt_model.to(device)\n",
        "\n",
        "print(f\"The model has {count_parameters(prompt_model):,} trainable parameters\")"
      ]
    },
    {
      "cell_type": "markdown",
      "id": "24f4ac19",
      "metadata": {
        "id": "24f4ac19",
        "papermill": {
          "duration": 1.969232,
          "end_time": "2025-05-16T13:53:34.923317",
          "exception": false,
          "start_time": "2025-05-16T13:53:32.954085",
          "status": "completed"
        },
        "tags": []
      },
      "source": [
        "### Update dataloader\n",
        "Because in Prompt Tuning, the max size of model's token need to be adjusted due to the change in the"
      ]
    },
    {
      "cell_type": "code",
      "execution_count": null,
      "id": "1d05c3f4",
      "metadata": {
        "colab": {
          "referenced_widgets": [
            "ee9404dd93d94d87b89b1156f9165e06",
            "024769456ed7473c8767242af36ead51",
            "f5cb1d5a4fc24bf3a91f4543d12f5569"
          ]
        },
        "execution": {
          "iopub.execute_input": "2025-05-16T13:53:38.643324Z",
          "iopub.status.busy": "2025-05-16T13:53:38.643060Z",
          "iopub.status.idle": "2025-05-16T13:54:06.220054Z",
          "shell.execute_reply": "2025-05-16T13:54:06.219517Z"
        },
        "id": "1d05c3f4",
        "outputId": "43e14a43-32e0-4e94-cf91-5d3741bb2a0b",
        "papermill": {
          "duration": 29.504186,
          "end_time": "2025-05-16T13:54:06.221276",
          "exception": false,
          "start_time": "2025-05-16T13:53:36.717090",
          "status": "completed"
        },
        "tags": []
      },
      "outputs": [
        {
          "data": {
            "application/vnd.jupyter.widget-view+json": {
              "model_id": "ee9404dd93d94d87b89b1156f9165e06",
              "version_major": 2,
              "version_minor": 0
            },
            "text/plain": [
              "Map:   0%|          | 0/35000 [00:00<?, ? examples/s]"
            ]
          },
          "metadata": {},
          "output_type": "display_data"
        },
        {
          "data": {
            "application/vnd.jupyter.widget-view+json": {
              "model_id": "024769456ed7473c8767242af36ead51",
              "version_major": 2,
              "version_minor": 0
            },
            "text/plain": [
              "Map:   0%|          | 0/5000 [00:00<?, ? examples/s]"
            ]
          },
          "metadata": {},
          "output_type": "display_data"
        },
        {
          "data": {
            "application/vnd.jupyter.widget-view+json": {
              "model_id": "f5cb1d5a4fc24bf3a91f4543d12f5569",
              "version_major": 2,
              "version_minor": 0
            },
            "text/plain": [
              "Map:   0%|          | 0/10000 [00:00<?, ? examples/s]"
            ]
          },
          "metadata": {},
          "output_type": "display_data"
        }
      ],
      "source": [
        "max_model_length = distillbert_tokenizer.model_max_length\n",
        "adjusted_length = max_model_length - NUM_VIRTUAL_TOKEN\n",
        "\n",
        "prompt_train_loader, prompt_val_loader, prompt_test_loader = preprocessing(dataset_dict, distillbert_tokenizer, BATCH_SIZE, adjusted_length)"
      ]
    },
    {
      "cell_type": "markdown",
      "id": "b21f5a58",
      "metadata": {
        "id": "b21f5a58",
        "papermill": {
          "duration": 1.927015,
          "end_time": "2025-05-16T13:54:10.075424",
          "exception": false,
          "start_time": "2025-05-16T13:54:08.148409",
          "status": "completed"
        },
        "tags": []
      },
      "source": [
        "### Load trained params"
      ]
    },
    {
      "cell_type": "code",
      "execution_count": null,
      "id": "a67cf955",
      "metadata": {
        "execution": {
          "iopub.execute_input": "2025-05-16T13:54:13.989088Z",
          "iopub.status.busy": "2025-05-16T13:54:13.988555Z",
          "iopub.status.idle": "2025-05-16T13:54:14.136593Z",
          "shell.execute_reply": "2025-05-16T13:54:14.135806Z"
        },
        "id": "a67cf955",
        "outputId": "e921cea0-ccb3-4f6c-dec2-6d2627ae72af",
        "papermill": {
          "duration": 2.11997,
          "end_time": "2025-05-16T13:54:14.137876",
          "exception": false,
          "start_time": "2025-05-16T13:54:12.017906",
          "status": "completed"
        },
        "tags": []
      },
      "outputs": [
        {
          "name": "stdout",
          "output_type": "stream",
          "text": [
            "Load success\n"
          ]
        }
      ],
      "source": [
        "from peft import set_peft_model_state_dict\n",
        "\n",
        "state_dict = torch.load(path_dibert_prompt_model)\n",
        "set_peft_model_state_dict(prompt_model, state_dict)\n",
        "\n",
        "print(\"Load success\")"
      ]
    },
    {
      "cell_type": "markdown",
      "id": "221e62ee",
      "metadata": {
        "id": "221e62ee",
        "papermill": {
          "duration": 1.833358,
          "end_time": "2025-05-16T13:54:25.526070",
          "exception": false,
          "start_time": "2025-05-16T13:54:23.692712",
          "status": "completed"
        },
        "tags": []
      },
      "source": [
        "### Testing on testset"
      ]
    },
    {
      "cell_type": "code",
      "execution_count": null,
      "id": "63d92a14",
      "metadata": {
        "execution": {
          "iopub.execute_input": "2025-05-16T13:54:29.371989Z",
          "iopub.status.busy": "2025-05-16T13:54:29.371717Z",
          "iopub.status.idle": "2025-05-16T13:55:47.769491Z",
          "shell.execute_reply": "2025-05-16T13:55:47.768682Z"
        },
        "id": "63d92a14",
        "outputId": "3b78313a-30a6-4f7a-9e4f-337ea67b6e77",
        "papermill": {
          "duration": 80.323026,
          "end_time": "2025-05-16T13:55:47.770572",
          "exception": false,
          "start_time": "2025-05-16T13:54:27.447546",
          "status": "completed"
        },
        "tags": []
      },
      "outputs": [
        {
          "name": "stderr",
          "output_type": "stream",
          "text": [
            "Evaluate model:   0%|          | 0/313 [00:00<?, ?it/s]/tmp/ipykernel_19/4233296355.py:31: UserWarning: To copy construct from a tensor, it is recommended to use sourceTensor.clone().detach() or sourceTensor.clone().detach().requires_grad_(True), rather than torch.tensor(sourceTensor).\n",
            "  labels = torch.tensor(batch[\"labels\"]).to(device)  # Assuming labels are numerical and can be moved to the device\n",
            "                                                                 "
          ]
        },
        {
          "name": "stdout",
          "output_type": "stream",
          "text": [
            "Model accuracy:  0.8878\n"
          ]
        },
        {
          "name": "stderr",
          "output_type": "stream",
          "text": [
            "\r"
          ]
        }
      ],
      "source": [
        "prompt_disbert_loss, prompt_disbert_acc = evaluate_fn(prompt_model, prompt_test_loader, device)\n",
        "\n",
        "print(\"Model accuracy: \", prompt_disbert_acc)"
      ]
    },
    {
      "cell_type": "markdown",
      "id": "e486c1bd",
      "metadata": {
        "id": "e486c1bd",
        "papermill": {
          "duration": 1.980239,
          "end_time": "2025-05-16T13:55:51.584438",
          "exception": false,
          "start_time": "2025-05-16T13:55:49.604199",
          "status": "completed"
        },
        "tags": []
      },
      "source": [
        "# 6. Conclusion"
      ]
    },
    {
      "cell_type": "code",
      "execution_count": null,
      "id": "b2a99653",
      "metadata": {
        "execution": {
          "iopub.execute_input": "2025-05-16T13:55:55.585328Z",
          "iopub.status.busy": "2025-05-16T13:55:55.585064Z",
          "iopub.status.idle": "2025-05-16T13:55:55.590343Z",
          "shell.execute_reply": "2025-05-16T13:55:55.589732Z"
        },
        "id": "b2a99653",
        "outputId": "46112e32-5694-4796-ae31-83572e367b6d",
        "papermill": {
          "duration": 2.019734,
          "end_time": "2025-05-16T13:55:55.591554",
          "exception": false,
          "start_time": "2025-05-16T13:55:53.571820",
          "status": "completed"
        },
        "tags": []
      },
      "outputs": [
        {
          "name": "stdout",
          "output_type": "stream",
          "text": [
            "Result: \n",
            "BERT - Lora: test loss 0.182897 - accuracy: 0.933800\n",
            "BERT - BitFit: test loss 0.203926 - accuracy: 0.916000\n",
            "BERT - Prompt: test loss 0.258426 - accuracy: 0.895400\n",
            "Roberta - Lora: test loss 0.142645 - accuracy: 0.949700\n",
            "Roberta - BitFit: test loss 0.207773 - accuracy: 0.921900\n",
            "Roberta - Prompt: test loss 0.181592 - accuracy: 0.933000\n",
            "Distilled BERT - Lora: test loss 0.197290 - accuracy: 0.928300\n",
            "Distilled BERT - BitFit: test loss 0.225548 - accuracy: 0.910800\n",
            "Distilled BERT - Prompt: test loss 0.270865 - accuracy: 0.887800\n"
          ]
        }
      ],
      "source": [
        "print(\"Result: \")\n",
        "print(f\"BERT - Lora: test loss {lora_bert_loss:4f} - accuracy: {lora_bert_acc:4f}\")\n",
        "print(f\"BERT - BitFit: test loss {bitfit_bert_loss:4f} - accuracy: {bitfit_bert_acc:4f}\")\n",
        "print(f\"BERT - Prompt: test loss {prompt_bert_loss:4f} - accuracy: {prompt_bert_acc:4f}\")\n",
        "print(f\"Roberta - Lora: test loss {lora_roberta_loss:4f} - accuracy: {lora_roberta_acc:4f}\")\n",
        "print(f\"Roberta - BitFit: test loss {bitfit_roberta_loss:4f} - accuracy: {bitfit_roberta_acc:4f}\")\n",
        "print(f\"Roberta - Prompt: test loss {prompt_roberta_loss:4f} - accuracy: {prompt_roberta_acc:4f}\")\n",
        "print(f\"Distilled BERT - Lora: test loss {lora_disbert_loss:4f} - accuracy: {lora_disbert_acc:4f}\")\n",
        "print(f\"Distilled BERT - BitFit: test loss {bitfit_disbert_loss:4f} - accuracy: {bitfit_disbert_acc:4f}\")\n",
        "print(f\"Distilled BERT - Prompt: test loss {prompt_disbert_loss:4f} - accuracy: {prompt_disbert_acc:4f}\")"
      ]
    }
  ],
  "metadata": {
    "accelerator": "GPU",
    "colab": {
      "gpuType": "T4",
      "provenance": []
    },
    "kaggle": {
      "accelerator": "gpu",
      "dataSources": [
        {
          "databundleVersionId": 333307,
          "datasetId": 134715,
          "sourceId": 320111,
          "sourceType": "datasetVersion"
        },
        {
          "databundleVersionId": 12317185,
          "modelInstanceId": 304594,
          "sourceId": 394387,
          "sourceType": "modelInstanceVersion"
        }
      ],
      "dockerImageVersionId": 31041,
      "isGpuEnabled": true,
      "isInternetEnabled": true,
      "language": "python",
      "sourceType": "notebook"
    },
    "kernelspec": {
      "display_name": "Python 3",
      "language": "python",
      "name": "python3"
    },
    "language_info": {
      "codemirror_mode": {
        "name": "ipython",
        "version": 3
      },
      "file_extension": ".py",
      "mimetype": "text/x-python",
      "name": "python",
      "nbconvert_exporter": "python",
      "pygments_lexer": "ipython3",
      "version": "3.11.11"
    },
    "papermill": {
      "default_parameters": {},
      "duration": 30171.571836,
      "end_time": "2025-05-16T13:56:00.575928",
      "environment_variables": {},
      "exception": null,
      "input_path": "__notebook__.ipynb",
      "output_path": "__notebook__.ipynb",
      "parameters": {},
      "start_time": "2025-05-16T05:33:09.004092",
      "version": "2.6.0"
    },
    "widgets": {
      "application/vnd.jupyter.widget-state+json": {
        "03358e1db41a495a81d159e50930a897": {
          "model_module": "@jupyter-widgets/base",
          "model_module_version": "1.2.0",
          "model_name": "LayoutModel",
          "state": {
            "_model_module": "@jupyter-widgets/base",
            "_model_module_version": "1.2.0",
            "_model_name": "LayoutModel",
            "_view_count": null,
            "_view_module": "@jupyter-widgets/base",
            "_view_module_version": "1.2.0",
            "_view_name": "LayoutView",
            "align_content": null,
            "align_items": null,
            "align_self": null,
            "border": null,
            "bottom": null,
            "display": null,
            "flex": null,
            "flex_flow": null,
            "grid_area": null,
            "grid_auto_columns": null,
            "grid_auto_flow": null,
            "grid_auto_rows": null,
            "grid_column": null,
            "grid_gap": null,
            "grid_row": null,
            "grid_template_areas": null,
            "grid_template_columns": null,
            "grid_template_rows": null,
            "height": null,
            "justify_content": null,
            "justify_items": null,
            "left": null,
            "margin": null,
            "max_height": null,
            "max_width": null,
            "min_height": null,
            "min_width": null,
            "object_fit": null,
            "object_position": null,
            "order": null,
            "overflow": null,
            "overflow_x": null,
            "overflow_y": null,
            "padding": null,
            "right": null,
            "top": null,
            "visibility": null,
            "width": null
          }
        },
        "04128fe9115d4559bd262cf0afb3a48a": {
          "model_module": "@jupyter-widgets/controls",
          "model_module_version": "1.5.0",
          "model_name": "HBoxModel",
          "state": {
            "_dom_classes": [],
            "_model_module": "@jupyter-widgets/controls",
            "_model_module_version": "1.5.0",
            "_model_name": "HBoxModel",
            "_view_count": null,
            "_view_module": "@jupyter-widgets/controls",
            "_view_module_version": "1.5.0",
            "_view_name": "HBoxView",
            "box_style": "",
            "children": [
              "IPY_MODEL_d10bb508be7e49fb82abab37a2c28105",
              "IPY_MODEL_5dea7bd2fae94a4096dc9682602fe004",
              "IPY_MODEL_51da607c1d7b4c3384fbf14229f99ed3"
            ],
            "layout": "IPY_MODEL_72b8bb5685c44b69a67ce8356129fbaa"
          }
        },
        "09b1dd28c4ed45f2a9f3d64e54e2abde": {
          "model_module": "@jupyter-widgets/controls",
          "model_module_version": "1.5.0",
          "model_name": "FloatProgressModel",
          "state": {
            "_dom_classes": [],
            "_model_module": "@jupyter-widgets/controls",
            "_model_module_version": "1.5.0",
            "_model_name": "FloatProgressModel",
            "_view_count": null,
            "_view_module": "@jupyter-widgets/controls",
            "_view_module_version": "1.5.0",
            "_view_name": "ProgressView",
            "bar_style": "success",
            "description": "",
            "description_tooltip": null,
            "layout": "IPY_MODEL_bc04e7c011bc4feb9d050bbc6619c032",
            "max": 570,
            "min": 0,
            "orientation": "horizontal",
            "style": "IPY_MODEL_24a572dd26c0459a92c41865aaf7ecdb",
            "value": 570
          }
        },
        "0f223d50f8414f0f83b8ae102144863a": {
          "model_module": "@jupyter-widgets/controls",
          "model_module_version": "1.5.0",
          "model_name": "ProgressStyleModel",
          "state": {
            "_model_module": "@jupyter-widgets/controls",
            "_model_module_version": "1.5.0",
            "_model_name": "ProgressStyleModel",
            "_view_count": null,
            "_view_module": "@jupyter-widgets/base",
            "_view_module_version": "1.2.0",
            "_view_name": "StyleView",
            "bar_color": null,
            "description_width": ""
          }
        },
        "10dfead4f0da4dfaae40ccf765fbcae5": {
          "model_module": "@jupyter-widgets/base",
          "model_module_version": "1.2.0",
          "model_name": "LayoutModel",
          "state": {
            "_model_module": "@jupyter-widgets/base",
            "_model_module_version": "1.2.0",
            "_model_name": "LayoutModel",
            "_view_count": null,
            "_view_module": "@jupyter-widgets/base",
            "_view_module_version": "1.2.0",
            "_view_name": "LayoutView",
            "align_content": null,
            "align_items": null,
            "align_self": null,
            "border": null,
            "bottom": null,
            "display": null,
            "flex": null,
            "flex_flow": null,
            "grid_area": null,
            "grid_auto_columns": null,
            "grid_auto_flow": null,
            "grid_auto_rows": null,
            "grid_column": null,
            "grid_gap": null,
            "grid_row": null,
            "grid_template_areas": null,
            "grid_template_columns": null,
            "grid_template_rows": null,
            "height": null,
            "justify_content": null,
            "justify_items": null,
            "left": null,
            "margin": null,
            "max_height": null,
            "max_width": null,
            "min_height": null,
            "min_width": null,
            "object_fit": null,
            "object_position": null,
            "order": null,
            "overflow": null,
            "overflow_x": null,
            "overflow_y": null,
            "padding": null,
            "right": null,
            "top": null,
            "visibility": null,
            "width": null
          }
        },
        "129d944b4b904c2b93717adfd911e2f1": {
          "model_module": "@jupyter-widgets/controls",
          "model_module_version": "1.5.0",
          "model_name": "DescriptionStyleModel",
          "state": {
            "_model_module": "@jupyter-widgets/controls",
            "_model_module_version": "1.5.0",
            "_model_name": "DescriptionStyleModel",
            "_view_count": null,
            "_view_module": "@jupyter-widgets/base",
            "_view_module_version": "1.2.0",
            "_view_name": "StyleView",
            "description_width": ""
          }
        },
        "1393e755f7d0455ba02c1dc00bb72d24": {
          "model_module": "@jupyter-widgets/controls",
          "model_module_version": "1.5.0",
          "model_name": "HTMLModel",
          "state": {
            "_dom_classes": [],
            "_model_module": "@jupyter-widgets/controls",
            "_model_module_version": "1.5.0",
            "_model_name": "HTMLModel",
            "_view_count": null,
            "_view_module": "@jupyter-widgets/controls",
            "_view_module_version": "1.5.0",
            "_view_name": "HTMLView",
            "description": "",
            "description_tooltip": null,
            "layout": "IPY_MODEL_7f1f86d4683f482c99538df94eae1176",
            "placeholder": "​",
            "style": "IPY_MODEL_88a1ef8c4b134da7a7170cacea6b97b0",
            "value": " 35000/35000 [00:37&lt;00:00, 1044.39 examples/s]"
          }
        },
        "146310eeed15458e9d18dbb6f9424fab": {
          "model_module": "@jupyter-widgets/controls",
          "model_module_version": "1.5.0",
          "model_name": "FloatProgressModel",
          "state": {
            "_dom_classes": [],
            "_model_module": "@jupyter-widgets/controls",
            "_model_module_version": "1.5.0",
            "_model_name": "FloatProgressModel",
            "_view_count": null,
            "_view_module": "@jupyter-widgets/controls",
            "_view_module_version": "1.5.0",
            "_view_name": "ProgressView",
            "bar_style": "success",
            "description": "",
            "description_tooltip": null,
            "layout": "IPY_MODEL_cb682c2cb74b4558b29c7960ce3063f3",
            "max": 10000,
            "min": 0,
            "orientation": "horizontal",
            "style": "IPY_MODEL_52d06c566ab24d0a878273e1b981b839",
            "value": 10000
          }
        },
        "1bc563c9193f4614807c42b6b557d2cb": {
          "model_module": "@jupyter-widgets/controls",
          "model_module_version": "1.5.0",
          "model_name": "DescriptionStyleModel",
          "state": {
            "_model_module": "@jupyter-widgets/controls",
            "_model_module_version": "1.5.0",
            "_model_name": "DescriptionStyleModel",
            "_view_count": null,
            "_view_module": "@jupyter-widgets/base",
            "_view_module_version": "1.2.0",
            "_view_name": "StyleView",
            "description_width": ""
          }
        },
        "1d5dbfd11e874839824d82af50d5f5fa": {
          "model_module": "@jupyter-widgets/controls",
          "model_module_version": "1.5.0",
          "model_name": "DescriptionStyleModel",
          "state": {
            "_model_module": "@jupyter-widgets/controls",
            "_model_module_version": "1.5.0",
            "_model_name": "DescriptionStyleModel",
            "_view_count": null,
            "_view_module": "@jupyter-widgets/base",
            "_view_module_version": "1.2.0",
            "_view_name": "StyleView",
            "description_width": ""
          }
        },
        "20e0271016934918b8f8784c7f3392d6": {
          "model_module": "@jupyter-widgets/controls",
          "model_module_version": "1.5.0",
          "model_name": "FloatProgressModel",
          "state": {
            "_dom_classes": [],
            "_model_module": "@jupyter-widgets/controls",
            "_model_module_version": "1.5.0",
            "_model_name": "FloatProgressModel",
            "_view_count": null,
            "_view_module": "@jupyter-widgets/controls",
            "_view_module_version": "1.5.0",
            "_view_name": "ProgressView",
            "bar_style": "success",
            "description": "",
            "description_tooltip": null,
            "layout": "IPY_MODEL_6eb4fd748dd047f8bec587efc09531d8",
            "max": 5000,
            "min": 0,
            "orientation": "horizontal",
            "style": "IPY_MODEL_8df8816e5d014c3ab82e283dab94ec61",
            "value": 5000
          }
        },
        "244806bc1c754757980bed8013140add": {
          "model_module": "@jupyter-widgets/base",
          "model_module_version": "1.2.0",
          "model_name": "LayoutModel",
          "state": {
            "_model_module": "@jupyter-widgets/base",
            "_model_module_version": "1.2.0",
            "_model_name": "LayoutModel",
            "_view_count": null,
            "_view_module": "@jupyter-widgets/base",
            "_view_module_version": "1.2.0",
            "_view_name": "LayoutView",
            "align_content": null,
            "align_items": null,
            "align_self": null,
            "border": null,
            "bottom": null,
            "display": null,
            "flex": null,
            "flex_flow": null,
            "grid_area": null,
            "grid_auto_columns": null,
            "grid_auto_flow": null,
            "grid_auto_rows": null,
            "grid_column": null,
            "grid_gap": null,
            "grid_row": null,
            "grid_template_areas": null,
            "grid_template_columns": null,
            "grid_template_rows": null,
            "height": null,
            "justify_content": null,
            "justify_items": null,
            "left": null,
            "margin": null,
            "max_height": null,
            "max_width": null,
            "min_height": null,
            "min_width": null,
            "object_fit": null,
            "object_position": null,
            "order": null,
            "overflow": null,
            "overflow_x": null,
            "overflow_y": null,
            "padding": null,
            "right": null,
            "top": null,
            "visibility": null,
            "width": null
          }
        },
        "24a572dd26c0459a92c41865aaf7ecdb": {
          "model_module": "@jupyter-widgets/controls",
          "model_module_version": "1.5.0",
          "model_name": "ProgressStyleModel",
          "state": {
            "_model_module": "@jupyter-widgets/controls",
            "_model_module_version": "1.5.0",
            "_model_name": "ProgressStyleModel",
            "_view_count": null,
            "_view_module": "@jupyter-widgets/base",
            "_view_module_version": "1.2.0",
            "_view_name": "StyleView",
            "bar_color": null,
            "description_width": ""
          }
        },
        "262947e10fb2421d84a960bd72a7982b": {
          "model_module": "@jupyter-widgets/controls",
          "model_module_version": "1.5.0",
          "model_name": "ProgressStyleModel",
          "state": {
            "_model_module": "@jupyter-widgets/controls",
            "_model_module_version": "1.5.0",
            "_model_name": "ProgressStyleModel",
            "_view_count": null,
            "_view_module": "@jupyter-widgets/base",
            "_view_module_version": "1.2.0",
            "_view_name": "StyleView",
            "bar_color": null,
            "description_width": ""
          }
        },
        "26aca995d4ac4f6ca3247bc93818770c": {
          "model_module": "@jupyter-widgets/base",
          "model_module_version": "1.2.0",
          "model_name": "LayoutModel",
          "state": {
            "_model_module": "@jupyter-widgets/base",
            "_model_module_version": "1.2.0",
            "_model_name": "LayoutModel",
            "_view_count": null,
            "_view_module": "@jupyter-widgets/base",
            "_view_module_version": "1.2.0",
            "_view_name": "LayoutView",
            "align_content": null,
            "align_items": null,
            "align_self": null,
            "border": null,
            "bottom": null,
            "display": null,
            "flex": null,
            "flex_flow": null,
            "grid_area": null,
            "grid_auto_columns": null,
            "grid_auto_flow": null,
            "grid_auto_rows": null,
            "grid_column": null,
            "grid_gap": null,
            "grid_row": null,
            "grid_template_areas": null,
            "grid_template_columns": null,
            "grid_template_rows": null,
            "height": null,
            "justify_content": null,
            "justify_items": null,
            "left": null,
            "margin": null,
            "max_height": null,
            "max_width": null,
            "min_height": null,
            "min_width": null,
            "object_fit": null,
            "object_position": null,
            "order": null,
            "overflow": null,
            "overflow_x": null,
            "overflow_y": null,
            "padding": null,
            "right": null,
            "top": null,
            "visibility": null,
            "width": null
          }
        },
        "2a88d6943e714409a356d8873de15c3c": {
          "model_module": "@jupyter-widgets/controls",
          "model_module_version": "1.5.0",
          "model_name": "HTMLModel",
          "state": {
            "_dom_classes": [],
            "_model_module": "@jupyter-widgets/controls",
            "_model_module_version": "1.5.0",
            "_model_name": "HTMLModel",
            "_view_count": null,
            "_view_module": "@jupyter-widgets/controls",
            "_view_module_version": "1.5.0",
            "_view_name": "HTMLView",
            "description": "",
            "description_tooltip": null,
            "layout": "IPY_MODEL_9a99415f7c7349f2b8724926509e49c5",
            "placeholder": "​",
            "style": "IPY_MODEL_7daeda19dca341aabca159fcdd8d591e",
            "value": " 5000/5000 [00:05&lt;00:00, 816.54 examples/s]"
          }
        },
        "2ce21f692b3944a58b5f703e37ac5431": {
          "model_module": "@jupyter-widgets/controls",
          "model_module_version": "1.5.0",
          "model_name": "DescriptionStyleModel",
          "state": {
            "_model_module": "@jupyter-widgets/controls",
            "_model_module_version": "1.5.0",
            "_model_name": "DescriptionStyleModel",
            "_view_count": null,
            "_view_module": "@jupyter-widgets/base",
            "_view_module_version": "1.2.0",
            "_view_name": "StyleView",
            "description_width": ""
          }
        },
        "2d42d5521f374b7fabdceea3e805c228": {
          "model_module": "@jupyter-widgets/controls",
          "model_module_version": "1.5.0",
          "model_name": "DescriptionStyleModel",
          "state": {
            "_model_module": "@jupyter-widgets/controls",
            "_model_module_version": "1.5.0",
            "_model_name": "DescriptionStyleModel",
            "_view_count": null,
            "_view_module": "@jupyter-widgets/base",
            "_view_module_version": "1.2.0",
            "_view_name": "StyleView",
            "description_width": ""
          }
        },
        "2fbea00d3e754364acb85470390a08e9": {
          "model_module": "@jupyter-widgets/controls",
          "model_module_version": "1.5.0",
          "model_name": "DescriptionStyleModel",
          "state": {
            "_model_module": "@jupyter-widgets/controls",
            "_model_module_version": "1.5.0",
            "_model_name": "DescriptionStyleModel",
            "_view_count": null,
            "_view_module": "@jupyter-widgets/base",
            "_view_module_version": "1.2.0",
            "_view_name": "StyleView",
            "description_width": ""
          }
        },
        "305b1c1160a54f5e8e7262d7a1ed5194": {
          "model_module": "@jupyter-widgets/controls",
          "model_module_version": "1.5.0",
          "model_name": "HTMLModel",
          "state": {
            "_dom_classes": [],
            "_model_module": "@jupyter-widgets/controls",
            "_model_module_version": "1.5.0",
            "_model_name": "HTMLModel",
            "_view_count": null,
            "_view_module": "@jupyter-widgets/controls",
            "_view_module_version": "1.5.0",
            "_view_name": "HTMLView",
            "description": "",
            "description_tooltip": null,
            "layout": "IPY_MODEL_6e9df36c4ffe478682b6056513957b12",
            "placeholder": "​",
            "style": "IPY_MODEL_129d944b4b904c2b93717adfd911e2f1",
            "value": " 570/570 [00:00&lt;00:00, 55.3kB/s]"
          }
        },
        "35d025b8aae5417394cb31303eb13385": {
          "model_module": "@jupyter-widgets/controls",
          "model_module_version": "1.5.0",
          "model_name": "HTMLModel",
          "state": {
            "_dom_classes": [],
            "_model_module": "@jupyter-widgets/controls",
            "_model_module_version": "1.5.0",
            "_model_name": "HTMLModel",
            "_view_count": null,
            "_view_module": "@jupyter-widgets/controls",
            "_view_module_version": "1.5.0",
            "_view_name": "HTMLView",
            "description": "",
            "description_tooltip": null,
            "layout": "IPY_MODEL_b51546c91b624a029400677cedc42de4",
            "placeholder": "​",
            "style": "IPY_MODEL_1bc563c9193f4614807c42b6b557d2cb",
            "value": " 232k/232k [00:00&lt;00:00, 2.19MB/s]"
          }
        },
        "3917ebe72c574783a69007f11300ceb3": {
          "model_module": "@jupyter-widgets/base",
          "model_module_version": "1.2.0",
          "model_name": "LayoutModel",
          "state": {
            "_model_module": "@jupyter-widgets/base",
            "_model_module_version": "1.2.0",
            "_model_name": "LayoutModel",
            "_view_count": null,
            "_view_module": "@jupyter-widgets/base",
            "_view_module_version": "1.2.0",
            "_view_name": "LayoutView",
            "align_content": null,
            "align_items": null,
            "align_self": null,
            "border": null,
            "bottom": null,
            "display": null,
            "flex": null,
            "flex_flow": null,
            "grid_area": null,
            "grid_auto_columns": null,
            "grid_auto_flow": null,
            "grid_auto_rows": null,
            "grid_column": null,
            "grid_gap": null,
            "grid_row": null,
            "grid_template_areas": null,
            "grid_template_columns": null,
            "grid_template_rows": null,
            "height": null,
            "justify_content": null,
            "justify_items": null,
            "left": null,
            "margin": null,
            "max_height": null,
            "max_width": null,
            "min_height": null,
            "min_width": null,
            "object_fit": null,
            "object_position": null,
            "order": null,
            "overflow": null,
            "overflow_x": null,
            "overflow_y": null,
            "padding": null,
            "right": null,
            "top": null,
            "visibility": null,
            "width": null
          }
        },
        "3b4dcd5d29814b4dab392ebdff4d0143": {
          "model_module": "@jupyter-widgets/base",
          "model_module_version": "1.2.0",
          "model_name": "LayoutModel",
          "state": {
            "_model_module": "@jupyter-widgets/base",
            "_model_module_version": "1.2.0",
            "_model_name": "LayoutModel",
            "_view_count": null,
            "_view_module": "@jupyter-widgets/base",
            "_view_module_version": "1.2.0",
            "_view_name": "LayoutView",
            "align_content": null,
            "align_items": null,
            "align_self": null,
            "border": null,
            "bottom": null,
            "display": null,
            "flex": null,
            "flex_flow": null,
            "grid_area": null,
            "grid_auto_columns": null,
            "grid_auto_flow": null,
            "grid_auto_rows": null,
            "grid_column": null,
            "grid_gap": null,
            "grid_row": null,
            "grid_template_areas": null,
            "grid_template_columns": null,
            "grid_template_rows": null,
            "height": null,
            "justify_content": null,
            "justify_items": null,
            "left": null,
            "margin": null,
            "max_height": null,
            "max_width": null,
            "min_height": null,
            "min_width": null,
            "object_fit": null,
            "object_position": null,
            "order": null,
            "overflow": null,
            "overflow_x": null,
            "overflow_y": null,
            "padding": null,
            "right": null,
            "top": null,
            "visibility": null,
            "width": null
          }
        },
        "3d0c49ff495e4beb8052406521b9e952": {
          "model_module": "@jupyter-widgets/controls",
          "model_module_version": "1.5.0",
          "model_name": "HTMLModel",
          "state": {
            "_dom_classes": [],
            "_model_module": "@jupyter-widgets/controls",
            "_model_module_version": "1.5.0",
            "_model_name": "HTMLModel",
            "_view_count": null,
            "_view_module": "@jupyter-widgets/controls",
            "_view_module_version": "1.5.0",
            "_view_name": "HTMLView",
            "description": "",
            "description_tooltip": null,
            "layout": "IPY_MODEL_03358e1db41a495a81d159e50930a897",
            "placeholder": "​",
            "style": "IPY_MODEL_2fbea00d3e754364acb85470390a08e9",
            "value": "model.safetensors: 100%"
          }
        },
        "3d5d7ea1def445b488dbed71d360a446": {
          "model_module": "@jupyter-widgets/controls",
          "model_module_version": "1.5.0",
          "model_name": "DescriptionStyleModel",
          "state": {
            "_model_module": "@jupyter-widgets/controls",
            "_model_module_version": "1.5.0",
            "_model_name": "DescriptionStyleModel",
            "_view_count": null,
            "_view_module": "@jupyter-widgets/base",
            "_view_module_version": "1.2.0",
            "_view_name": "StyleView",
            "description_width": ""
          }
        },
        "3e0b0a0dc4b34f30abfb93cd1413e8cb": {
          "model_module": "@jupyter-widgets/controls",
          "model_module_version": "1.5.0",
          "model_name": "HBoxModel",
          "state": {
            "_dom_classes": [],
            "_model_module": "@jupyter-widgets/controls",
            "_model_module_version": "1.5.0",
            "_model_name": "HBoxModel",
            "_view_count": null,
            "_view_module": "@jupyter-widgets/controls",
            "_view_module_version": "1.5.0",
            "_view_name": "HBoxView",
            "box_style": "",
            "children": [
              "IPY_MODEL_cb424b9524c34cc7bfc0936dea245d5d",
              "IPY_MODEL_146310eeed15458e9d18dbb6f9424fab",
              "IPY_MODEL_6ad69fdb98014af196b0e5eb4258a04d"
            ],
            "layout": "IPY_MODEL_b16aa823e3af4e3ebf6ad19dd9b50b9e"
          }
        },
        "4c5e874bab764ee9bc097e870beeff47": {
          "model_module": "@jupyter-widgets/controls",
          "model_module_version": "1.5.0",
          "model_name": "FloatProgressModel",
          "state": {
            "_dom_classes": [],
            "_model_module": "@jupyter-widgets/controls",
            "_model_module_version": "1.5.0",
            "_model_name": "FloatProgressModel",
            "_view_count": null,
            "_view_module": "@jupyter-widgets/controls",
            "_view_module_version": "1.5.0",
            "_view_name": "ProgressView",
            "bar_style": "success",
            "description": "",
            "description_tooltip": null,
            "layout": "IPY_MODEL_6f58ae9133d94e4ea3ee7482cee72931",
            "max": 231508,
            "min": 0,
            "orientation": "horizontal",
            "style": "IPY_MODEL_d48905115fc845c6ad34691e3998097f",
            "value": 231508
          }
        },
        "51da607c1d7b4c3384fbf14229f99ed3": {
          "model_module": "@jupyter-widgets/controls",
          "model_module_version": "1.5.0",
          "model_name": "HTMLModel",
          "state": {
            "_dom_classes": [],
            "_model_module": "@jupyter-widgets/controls",
            "_model_module_version": "1.5.0",
            "_model_name": "HTMLModel",
            "_view_count": null,
            "_view_module": "@jupyter-widgets/controls",
            "_view_module_version": "1.5.0",
            "_view_name": "HTMLView",
            "description": "",
            "description_tooltip": null,
            "layout": "IPY_MODEL_b7d39c4d72c24737a2d902d4e6f7898d",
            "placeholder": "​",
            "style": "IPY_MODEL_be1726540d2b4b51bae4f64a41b3d782",
            "value": " 466k/466k [00:00&lt;00:00, 5.65MB/s]"
          }
        },
        "52d06c566ab24d0a878273e1b981b839": {
          "model_module": "@jupyter-widgets/controls",
          "model_module_version": "1.5.0",
          "model_name": "ProgressStyleModel",
          "state": {
            "_model_module": "@jupyter-widgets/controls",
            "_model_module_version": "1.5.0",
            "_model_name": "ProgressStyleModel",
            "_view_count": null,
            "_view_module": "@jupyter-widgets/base",
            "_view_module_version": "1.2.0",
            "_view_name": "StyleView",
            "bar_color": null,
            "description_width": ""
          }
        },
        "597054b26b254507be9c9488384bba53": {
          "model_module": "@jupyter-widgets/controls",
          "model_module_version": "1.5.0",
          "model_name": "DescriptionStyleModel",
          "state": {
            "_model_module": "@jupyter-widgets/controls",
            "_model_module_version": "1.5.0",
            "_model_name": "DescriptionStyleModel",
            "_view_count": null,
            "_view_module": "@jupyter-widgets/base",
            "_view_module_version": "1.2.0",
            "_view_name": "StyleView",
            "description_width": ""
          }
        },
        "5dea7bd2fae94a4096dc9682602fe004": {
          "model_module": "@jupyter-widgets/controls",
          "model_module_version": "1.5.0",
          "model_name": "FloatProgressModel",
          "state": {
            "_dom_classes": [],
            "_model_module": "@jupyter-widgets/controls",
            "_model_module_version": "1.5.0",
            "_model_name": "FloatProgressModel",
            "_view_count": null,
            "_view_module": "@jupyter-widgets/controls",
            "_view_module_version": "1.5.0",
            "_view_name": "ProgressView",
            "bar_style": "success",
            "description": "",
            "description_tooltip": null,
            "layout": "IPY_MODEL_e6d27da4d9364f51b9fbabe24ce49cd0",
            "max": 466062,
            "min": 0,
            "orientation": "horizontal",
            "style": "IPY_MODEL_ac4b654267df43309660e5535b0f3758",
            "value": 466062
          }
        },
        "60ef8c50eba9460c931d356d4c2b0740": {
          "model_module": "@jupyter-widgets/controls",
          "model_module_version": "1.5.0",
          "model_name": "HTMLModel",
          "state": {
            "_dom_classes": [],
            "_model_module": "@jupyter-widgets/controls",
            "_model_module_version": "1.5.0",
            "_model_name": "HTMLModel",
            "_view_count": null,
            "_view_module": "@jupyter-widgets/controls",
            "_view_module_version": "1.5.0",
            "_view_name": "HTMLView",
            "description": "",
            "description_tooltip": null,
            "layout": "IPY_MODEL_8b79ee6bb41b467e92885e19f6dcbb37",
            "placeholder": "​",
            "style": "IPY_MODEL_597054b26b254507be9c9488384bba53",
            "value": "vocab.txt: 100%"
          }
        },
        "61529507947a42cf8264fcb28d8b0cc1": {
          "model_module": "@jupyter-widgets/controls",
          "model_module_version": "1.5.0",
          "model_name": "HBoxModel",
          "state": {
            "_dom_classes": [],
            "_model_module": "@jupyter-widgets/controls",
            "_model_module_version": "1.5.0",
            "_model_name": "HBoxModel",
            "_view_count": null,
            "_view_module": "@jupyter-widgets/controls",
            "_view_module_version": "1.5.0",
            "_view_name": "HBoxView",
            "box_style": "",
            "children": [
              "IPY_MODEL_d3ab773a8cc2441d86a987c87f87bb11",
              "IPY_MODEL_09b1dd28c4ed45f2a9f3d64e54e2abde",
              "IPY_MODEL_305b1c1160a54f5e8e7262d7a1ed5194"
            ],
            "layout": "IPY_MODEL_baf234fff9114419915b1d254ceba4af"
          }
        },
        "6ab328b1cbc045e7963a8f6913c46342": {
          "model_module": "@jupyter-widgets/controls",
          "model_module_version": "1.5.0",
          "model_name": "HBoxModel",
          "state": {
            "_dom_classes": [],
            "_model_module": "@jupyter-widgets/controls",
            "_model_module_version": "1.5.0",
            "_model_name": "HBoxModel",
            "_view_count": null,
            "_view_module": "@jupyter-widgets/controls",
            "_view_module_version": "1.5.0",
            "_view_name": "HBoxView",
            "box_style": "",
            "children": [
              "IPY_MODEL_cc9ea2e0702d429a8f96f0fb23ff861e",
              "IPY_MODEL_20e0271016934918b8f8784c7f3392d6",
              "IPY_MODEL_2a88d6943e714409a356d8873de15c3c"
            ],
            "layout": "IPY_MODEL_244806bc1c754757980bed8013140add"
          }
        },
        "6acabaa51b0e4f528f77c4a5bd6acecc": {
          "model_module": "@jupyter-widgets/controls",
          "model_module_version": "1.5.0",
          "model_name": "HBoxModel",
          "state": {
            "_dom_classes": [],
            "_model_module": "@jupyter-widgets/controls",
            "_model_module_version": "1.5.0",
            "_model_name": "HBoxModel",
            "_view_count": null,
            "_view_module": "@jupyter-widgets/controls",
            "_view_module_version": "1.5.0",
            "_view_name": "HBoxView",
            "box_style": "",
            "children": [
              "IPY_MODEL_99fc1ae302e34d9c8adc582df53dbce8",
              "IPY_MODEL_d1b0c96da3934097a054f118e369f5c9",
              "IPY_MODEL_f4f182a3b85140aea2593ea860311e9d"
            ],
            "layout": "IPY_MODEL_3b4dcd5d29814b4dab392ebdff4d0143"
          }
        },
        "6ad69fdb98014af196b0e5eb4258a04d": {
          "model_module": "@jupyter-widgets/controls",
          "model_module_version": "1.5.0",
          "model_name": "HTMLModel",
          "state": {
            "_dom_classes": [],
            "_model_module": "@jupyter-widgets/controls",
            "_model_module_version": "1.5.0",
            "_model_name": "HTMLModel",
            "_view_count": null,
            "_view_module": "@jupyter-widgets/controls",
            "_view_module_version": "1.5.0",
            "_view_name": "HTMLView",
            "description": "",
            "description_tooltip": null,
            "layout": "IPY_MODEL_c507d6da67a84dfab5a71f8e9d98afab",
            "placeholder": "​",
            "style": "IPY_MODEL_84806f034a24408480ddf0cd39a24e2c",
            "value": " 10000/10000 [00:09&lt;00:00, 1075.46 examples/s]"
          }
        },
        "6e9df36c4ffe478682b6056513957b12": {
          "model_module": "@jupyter-widgets/base",
          "model_module_version": "1.2.0",
          "model_name": "LayoutModel",
          "state": {
            "_model_module": "@jupyter-widgets/base",
            "_model_module_version": "1.2.0",
            "_model_name": "LayoutModel",
            "_view_count": null,
            "_view_module": "@jupyter-widgets/base",
            "_view_module_version": "1.2.0",
            "_view_name": "LayoutView",
            "align_content": null,
            "align_items": null,
            "align_self": null,
            "border": null,
            "bottom": null,
            "display": null,
            "flex": null,
            "flex_flow": null,
            "grid_area": null,
            "grid_auto_columns": null,
            "grid_auto_flow": null,
            "grid_auto_rows": null,
            "grid_column": null,
            "grid_gap": null,
            "grid_row": null,
            "grid_template_areas": null,
            "grid_template_columns": null,
            "grid_template_rows": null,
            "height": null,
            "justify_content": null,
            "justify_items": null,
            "left": null,
            "margin": null,
            "max_height": null,
            "max_width": null,
            "min_height": null,
            "min_width": null,
            "object_fit": null,
            "object_position": null,
            "order": null,
            "overflow": null,
            "overflow_x": null,
            "overflow_y": null,
            "padding": null,
            "right": null,
            "top": null,
            "visibility": null,
            "width": null
          }
        },
        "6eb4fd748dd047f8bec587efc09531d8": {
          "model_module": "@jupyter-widgets/base",
          "model_module_version": "1.2.0",
          "model_name": "LayoutModel",
          "state": {
            "_model_module": "@jupyter-widgets/base",
            "_model_module_version": "1.2.0",
            "_model_name": "LayoutModel",
            "_view_count": null,
            "_view_module": "@jupyter-widgets/base",
            "_view_module_version": "1.2.0",
            "_view_name": "LayoutView",
            "align_content": null,
            "align_items": null,
            "align_self": null,
            "border": null,
            "bottom": null,
            "display": null,
            "flex": null,
            "flex_flow": null,
            "grid_area": null,
            "grid_auto_columns": null,
            "grid_auto_flow": null,
            "grid_auto_rows": null,
            "grid_column": null,
            "grid_gap": null,
            "grid_row": null,
            "grid_template_areas": null,
            "grid_template_columns": null,
            "grid_template_rows": null,
            "height": null,
            "justify_content": null,
            "justify_items": null,
            "left": null,
            "margin": null,
            "max_height": null,
            "max_width": null,
            "min_height": null,
            "min_width": null,
            "object_fit": null,
            "object_position": null,
            "order": null,
            "overflow": null,
            "overflow_x": null,
            "overflow_y": null,
            "padding": null,
            "right": null,
            "top": null,
            "visibility": null,
            "width": null
          }
        },
        "6f58ae9133d94e4ea3ee7482cee72931": {
          "model_module": "@jupyter-widgets/base",
          "model_module_version": "1.2.0",
          "model_name": "LayoutModel",
          "state": {
            "_model_module": "@jupyter-widgets/base",
            "_model_module_version": "1.2.0",
            "_model_name": "LayoutModel",
            "_view_count": null,
            "_view_module": "@jupyter-widgets/base",
            "_view_module_version": "1.2.0",
            "_view_name": "LayoutView",
            "align_content": null,
            "align_items": null,
            "align_self": null,
            "border": null,
            "bottom": null,
            "display": null,
            "flex": null,
            "flex_flow": null,
            "grid_area": null,
            "grid_auto_columns": null,
            "grid_auto_flow": null,
            "grid_auto_rows": null,
            "grid_column": null,
            "grid_gap": null,
            "grid_row": null,
            "grid_template_areas": null,
            "grid_template_columns": null,
            "grid_template_rows": null,
            "height": null,
            "justify_content": null,
            "justify_items": null,
            "left": null,
            "margin": null,
            "max_height": null,
            "max_width": null,
            "min_height": null,
            "min_width": null,
            "object_fit": null,
            "object_position": null,
            "order": null,
            "overflow": null,
            "overflow_x": null,
            "overflow_y": null,
            "padding": null,
            "right": null,
            "top": null,
            "visibility": null,
            "width": null
          }
        },
        "7150e14e907f45b5b64769a60880b7dd": {
          "model_module": "@jupyter-widgets/base",
          "model_module_version": "1.2.0",
          "model_name": "LayoutModel",
          "state": {
            "_model_module": "@jupyter-widgets/base",
            "_model_module_version": "1.2.0",
            "_model_name": "LayoutModel",
            "_view_count": null,
            "_view_module": "@jupyter-widgets/base",
            "_view_module_version": "1.2.0",
            "_view_name": "LayoutView",
            "align_content": null,
            "align_items": null,
            "align_self": null,
            "border": null,
            "bottom": null,
            "display": null,
            "flex": null,
            "flex_flow": null,
            "grid_area": null,
            "grid_auto_columns": null,
            "grid_auto_flow": null,
            "grid_auto_rows": null,
            "grid_column": null,
            "grid_gap": null,
            "grid_row": null,
            "grid_template_areas": null,
            "grid_template_columns": null,
            "grid_template_rows": null,
            "height": null,
            "justify_content": null,
            "justify_items": null,
            "left": null,
            "margin": null,
            "max_height": null,
            "max_width": null,
            "min_height": null,
            "min_width": null,
            "object_fit": null,
            "object_position": null,
            "order": null,
            "overflow": null,
            "overflow_x": null,
            "overflow_y": null,
            "padding": null,
            "right": null,
            "top": null,
            "visibility": null,
            "width": null
          }
        },
        "71df7ee2b68d4bd2b1546d54d313b9b8": {
          "model_module": "@jupyter-widgets/controls",
          "model_module_version": "1.5.0",
          "model_name": "DescriptionStyleModel",
          "state": {
            "_model_module": "@jupyter-widgets/controls",
            "_model_module_version": "1.5.0",
            "_model_name": "DescriptionStyleModel",
            "_view_count": null,
            "_view_module": "@jupyter-widgets/base",
            "_view_module_version": "1.2.0",
            "_view_name": "StyleView",
            "description_width": ""
          }
        },
        "72b8bb5685c44b69a67ce8356129fbaa": {
          "model_module": "@jupyter-widgets/base",
          "model_module_version": "1.2.0",
          "model_name": "LayoutModel",
          "state": {
            "_model_module": "@jupyter-widgets/base",
            "_model_module_version": "1.2.0",
            "_model_name": "LayoutModel",
            "_view_count": null,
            "_view_module": "@jupyter-widgets/base",
            "_view_module_version": "1.2.0",
            "_view_name": "LayoutView",
            "align_content": null,
            "align_items": null,
            "align_self": null,
            "border": null,
            "bottom": null,
            "display": null,
            "flex": null,
            "flex_flow": null,
            "grid_area": null,
            "grid_auto_columns": null,
            "grid_auto_flow": null,
            "grid_auto_rows": null,
            "grid_column": null,
            "grid_gap": null,
            "grid_row": null,
            "grid_template_areas": null,
            "grid_template_columns": null,
            "grid_template_rows": null,
            "height": null,
            "justify_content": null,
            "justify_items": null,
            "left": null,
            "margin": null,
            "max_height": null,
            "max_width": null,
            "min_height": null,
            "min_width": null,
            "object_fit": null,
            "object_position": null,
            "order": null,
            "overflow": null,
            "overflow_x": null,
            "overflow_y": null,
            "padding": null,
            "right": null,
            "top": null,
            "visibility": null,
            "width": null
          }
        },
        "756257bddf5c411984abfb4804a23486": {
          "model_module": "@jupyter-widgets/controls",
          "model_module_version": "1.5.0",
          "model_name": "HTMLModel",
          "state": {
            "_dom_classes": [],
            "_model_module": "@jupyter-widgets/controls",
            "_model_module_version": "1.5.0",
            "_model_name": "HTMLModel",
            "_view_count": null,
            "_view_module": "@jupyter-widgets/controls",
            "_view_module_version": "1.5.0",
            "_view_name": "HTMLView",
            "description": "",
            "description_tooltip": null,
            "layout": "IPY_MODEL_8ed4bdf95f7f48abb1f81fcfb6b4559e",
            "placeholder": "​",
            "style": "IPY_MODEL_e01533b028f34d51ae4484e7b854d610",
            "value": " 440M/440M [00:02&lt;00:00, 262MB/s]"
          }
        },
        "7689e1ee00e34f3988a710a12f17a60a": {
          "model_module": "@jupyter-widgets/controls",
          "model_module_version": "1.5.0",
          "model_name": "DescriptionStyleModel",
          "state": {
            "_model_module": "@jupyter-widgets/controls",
            "_model_module_version": "1.5.0",
            "_model_name": "DescriptionStyleModel",
            "_view_count": null,
            "_view_module": "@jupyter-widgets/base",
            "_view_module_version": "1.2.0",
            "_view_name": "StyleView",
            "description_width": ""
          }
        },
        "769e59b2edb243ec900e039913fde1f0": {
          "model_module": "@jupyter-widgets/base",
          "model_module_version": "1.2.0",
          "model_name": "LayoutModel",
          "state": {
            "_model_module": "@jupyter-widgets/base",
            "_model_module_version": "1.2.0",
            "_model_name": "LayoutModel",
            "_view_count": null,
            "_view_module": "@jupyter-widgets/base",
            "_view_module_version": "1.2.0",
            "_view_name": "LayoutView",
            "align_content": null,
            "align_items": null,
            "align_self": null,
            "border": null,
            "bottom": null,
            "display": null,
            "flex": null,
            "flex_flow": null,
            "grid_area": null,
            "grid_auto_columns": null,
            "grid_auto_flow": null,
            "grid_auto_rows": null,
            "grid_column": null,
            "grid_gap": null,
            "grid_row": null,
            "grid_template_areas": null,
            "grid_template_columns": null,
            "grid_template_rows": null,
            "height": null,
            "justify_content": null,
            "justify_items": null,
            "left": null,
            "margin": null,
            "max_height": null,
            "max_width": null,
            "min_height": null,
            "min_width": null,
            "object_fit": null,
            "object_position": null,
            "order": null,
            "overflow": null,
            "overflow_x": null,
            "overflow_y": null,
            "padding": null,
            "right": null,
            "top": null,
            "visibility": null,
            "width": null
          }
        },
        "772c1f8700a144e1aeea69a248c7587a": {
          "model_module": "@jupyter-widgets/base",
          "model_module_version": "1.2.0",
          "model_name": "LayoutModel",
          "state": {
            "_model_module": "@jupyter-widgets/base",
            "_model_module_version": "1.2.0",
            "_model_name": "LayoutModel",
            "_view_count": null,
            "_view_module": "@jupyter-widgets/base",
            "_view_module_version": "1.2.0",
            "_view_name": "LayoutView",
            "align_content": null,
            "align_items": null,
            "align_self": null,
            "border": null,
            "bottom": null,
            "display": null,
            "flex": null,
            "flex_flow": null,
            "grid_area": null,
            "grid_auto_columns": null,
            "grid_auto_flow": null,
            "grid_auto_rows": null,
            "grid_column": null,
            "grid_gap": null,
            "grid_row": null,
            "grid_template_areas": null,
            "grid_template_columns": null,
            "grid_template_rows": null,
            "height": null,
            "justify_content": null,
            "justify_items": null,
            "left": null,
            "margin": null,
            "max_height": null,
            "max_width": null,
            "min_height": null,
            "min_width": null,
            "object_fit": null,
            "object_position": null,
            "order": null,
            "overflow": null,
            "overflow_x": null,
            "overflow_y": null,
            "padding": null,
            "right": null,
            "top": null,
            "visibility": null,
            "width": null
          }
        },
        "7bbcadacc54c4c61a74c7b50d4b6c44b": {
          "model_module": "@jupyter-widgets/controls",
          "model_module_version": "1.5.0",
          "model_name": "HTMLModel",
          "state": {
            "_dom_classes": [],
            "_model_module": "@jupyter-widgets/controls",
            "_model_module_version": "1.5.0",
            "_model_name": "HTMLModel",
            "_view_count": null,
            "_view_module": "@jupyter-widgets/controls",
            "_view_module_version": "1.5.0",
            "_view_name": "HTMLView",
            "description": "",
            "description_tooltip": null,
            "layout": "IPY_MODEL_7150e14e907f45b5b64769a60880b7dd",
            "placeholder": "​",
            "style": "IPY_MODEL_2d42d5521f374b7fabdceea3e805c228",
            "value": " 9/9 [00:14&lt;00:00,  1.51s/it]"
          }
        },
        "7daeda19dca341aabca159fcdd8d591e": {
          "model_module": "@jupyter-widgets/controls",
          "model_module_version": "1.5.0",
          "model_name": "DescriptionStyleModel",
          "state": {
            "_model_module": "@jupyter-widgets/controls",
            "_model_module_version": "1.5.0",
            "_model_name": "DescriptionStyleModel",
            "_view_count": null,
            "_view_module": "@jupyter-widgets/base",
            "_view_module_version": "1.2.0",
            "_view_name": "StyleView",
            "description_width": ""
          }
        },
        "7f1f86d4683f482c99538df94eae1176": {
          "model_module": "@jupyter-widgets/base",
          "model_module_version": "1.2.0",
          "model_name": "LayoutModel",
          "state": {
            "_model_module": "@jupyter-widgets/base",
            "_model_module_version": "1.2.0",
            "_model_name": "LayoutModel",
            "_view_count": null,
            "_view_module": "@jupyter-widgets/base",
            "_view_module_version": "1.2.0",
            "_view_name": "LayoutView",
            "align_content": null,
            "align_items": null,
            "align_self": null,
            "border": null,
            "bottom": null,
            "display": null,
            "flex": null,
            "flex_flow": null,
            "grid_area": null,
            "grid_auto_columns": null,
            "grid_auto_flow": null,
            "grid_auto_rows": null,
            "grid_column": null,
            "grid_gap": null,
            "grid_row": null,
            "grid_template_areas": null,
            "grid_template_columns": null,
            "grid_template_rows": null,
            "height": null,
            "justify_content": null,
            "justify_items": null,
            "left": null,
            "margin": null,
            "max_height": null,
            "max_width": null,
            "min_height": null,
            "min_width": null,
            "object_fit": null,
            "object_position": null,
            "order": null,
            "overflow": null,
            "overflow_x": null,
            "overflow_y": null,
            "padding": null,
            "right": null,
            "top": null,
            "visibility": null,
            "width": null
          }
        },
        "84380cf894fa43b283bf3c26f3fc756c": {
          "model_module": "@jupyter-widgets/controls",
          "model_module_version": "1.5.0",
          "model_name": "HBoxModel",
          "state": {
            "_dom_classes": [],
            "_model_module": "@jupyter-widgets/controls",
            "_model_module_version": "1.5.0",
            "_model_name": "HBoxModel",
            "_view_count": null,
            "_view_module": "@jupyter-widgets/controls",
            "_view_module_version": "1.5.0",
            "_view_name": "HBoxView",
            "box_style": "",
            "children": [
              "IPY_MODEL_88d2df178f124d1a80cda8f12ee088fd",
              "IPY_MODEL_ed729d61879f4ef4a4a26652d0dba72e",
              "IPY_MODEL_7bbcadacc54c4c61a74c7b50d4b6c44b"
            ],
            "layout": "IPY_MODEL_10dfead4f0da4dfaae40ccf765fbcae5"
          }
        },
        "84806f034a24408480ddf0cd39a24e2c": {
          "model_module": "@jupyter-widgets/controls",
          "model_module_version": "1.5.0",
          "model_name": "DescriptionStyleModel",
          "state": {
            "_model_module": "@jupyter-widgets/controls",
            "_model_module_version": "1.5.0",
            "_model_name": "DescriptionStyleModel",
            "_view_count": null,
            "_view_module": "@jupyter-widgets/base",
            "_view_module_version": "1.2.0",
            "_view_name": "StyleView",
            "description_width": ""
          }
        },
        "86c54e514c964e2d9e2114e43404d94a": {
          "model_module": "@jupyter-widgets/controls",
          "model_module_version": "1.5.0",
          "model_name": "HBoxModel",
          "state": {
            "_dom_classes": [],
            "_model_module": "@jupyter-widgets/controls",
            "_model_module_version": "1.5.0",
            "_model_name": "HBoxModel",
            "_view_count": null,
            "_view_module": "@jupyter-widgets/controls",
            "_view_module_version": "1.5.0",
            "_view_name": "HBoxView",
            "box_style": "",
            "children": [
              "IPY_MODEL_60ef8c50eba9460c931d356d4c2b0740",
              "IPY_MODEL_4c5e874bab764ee9bc097e870beeff47",
              "IPY_MODEL_35d025b8aae5417394cb31303eb13385"
            ],
            "layout": "IPY_MODEL_26aca995d4ac4f6ca3247bc93818770c"
          }
        },
        "8872eef83af44d9f85eebdf3567c0adc": {
          "model_module": "@jupyter-widgets/controls",
          "model_module_version": "1.5.0",
          "model_name": "HBoxModel",
          "state": {
            "_dom_classes": [],
            "_model_module": "@jupyter-widgets/controls",
            "_model_module_version": "1.5.0",
            "_model_name": "HBoxModel",
            "_view_count": null,
            "_view_module": "@jupyter-widgets/controls",
            "_view_module_version": "1.5.0",
            "_view_name": "HBoxView",
            "box_style": "",
            "children": [
              "IPY_MODEL_3d0c49ff495e4beb8052406521b9e952",
              "IPY_MODEL_927cf03b9a23420c9041f38b3e04cd43",
              "IPY_MODEL_756257bddf5c411984abfb4804a23486"
            ],
            "layout": "IPY_MODEL_e6accbe6bc344e798dc064c1d4333cce"
          }
        },
        "88a1ef8c4b134da7a7170cacea6b97b0": {
          "model_module": "@jupyter-widgets/controls",
          "model_module_version": "1.5.0",
          "model_name": "DescriptionStyleModel",
          "state": {
            "_model_module": "@jupyter-widgets/controls",
            "_model_module_version": "1.5.0",
            "_model_name": "DescriptionStyleModel",
            "_view_count": null,
            "_view_module": "@jupyter-widgets/base",
            "_view_module_version": "1.2.0",
            "_view_name": "StyleView",
            "description_width": ""
          }
        },
        "88d2df178f124d1a80cda8f12ee088fd": {
          "model_module": "@jupyter-widgets/controls",
          "model_module_version": "1.5.0",
          "model_name": "HTMLModel",
          "state": {
            "_dom_classes": [],
            "_model_module": "@jupyter-widgets/controls",
            "_model_module_version": "1.5.0",
            "_model_name": "HTMLModel",
            "_view_count": null,
            "_view_module": "@jupyter-widgets/controls",
            "_view_module_version": "1.5.0",
            "_view_name": "HTMLView",
            "description": "",
            "description_tooltip": null,
            "layout": "IPY_MODEL_c2540ab25277456cadd3e2e15295fe4f",
            "placeholder": "​",
            "style": "IPY_MODEL_d6ef94ed562d47659ce25c932b50aded",
            "value": "Downloading 9 files: 100%"
          }
        },
        "8b79ee6bb41b467e92885e19f6dcbb37": {
          "model_module": "@jupyter-widgets/base",
          "model_module_version": "1.2.0",
          "model_name": "LayoutModel",
          "state": {
            "_model_module": "@jupyter-widgets/base",
            "_model_module_version": "1.2.0",
            "_model_name": "LayoutModel",
            "_view_count": null,
            "_view_module": "@jupyter-widgets/base",
            "_view_module_version": "1.2.0",
            "_view_name": "LayoutView",
            "align_content": null,
            "align_items": null,
            "align_self": null,
            "border": null,
            "bottom": null,
            "display": null,
            "flex": null,
            "flex_flow": null,
            "grid_area": null,
            "grid_auto_columns": null,
            "grid_auto_flow": null,
            "grid_auto_rows": null,
            "grid_column": null,
            "grid_gap": null,
            "grid_row": null,
            "grid_template_areas": null,
            "grid_template_columns": null,
            "grid_template_rows": null,
            "height": null,
            "justify_content": null,
            "justify_items": null,
            "left": null,
            "margin": null,
            "max_height": null,
            "max_width": null,
            "min_height": null,
            "min_width": null,
            "object_fit": null,
            "object_position": null,
            "order": null,
            "overflow": null,
            "overflow_x": null,
            "overflow_y": null,
            "padding": null,
            "right": null,
            "top": null,
            "visibility": null,
            "width": null
          }
        },
        "8df8816e5d014c3ab82e283dab94ec61": {
          "model_module": "@jupyter-widgets/controls",
          "model_module_version": "1.5.0",
          "model_name": "ProgressStyleModel",
          "state": {
            "_model_module": "@jupyter-widgets/controls",
            "_model_module_version": "1.5.0",
            "_model_name": "ProgressStyleModel",
            "_view_count": null,
            "_view_module": "@jupyter-widgets/base",
            "_view_module_version": "1.2.0",
            "_view_name": "StyleView",
            "bar_color": null,
            "description_width": ""
          }
        },
        "8ed4bdf95f7f48abb1f81fcfb6b4559e": {
          "model_module": "@jupyter-widgets/base",
          "model_module_version": "1.2.0",
          "model_name": "LayoutModel",
          "state": {
            "_model_module": "@jupyter-widgets/base",
            "_model_module_version": "1.2.0",
            "_model_name": "LayoutModel",
            "_view_count": null,
            "_view_module": "@jupyter-widgets/base",
            "_view_module_version": "1.2.0",
            "_view_name": "LayoutView",
            "align_content": null,
            "align_items": null,
            "align_self": null,
            "border": null,
            "bottom": null,
            "display": null,
            "flex": null,
            "flex_flow": null,
            "grid_area": null,
            "grid_auto_columns": null,
            "grid_auto_flow": null,
            "grid_auto_rows": null,
            "grid_column": null,
            "grid_gap": null,
            "grid_row": null,
            "grid_template_areas": null,
            "grid_template_columns": null,
            "grid_template_rows": null,
            "height": null,
            "justify_content": null,
            "justify_items": null,
            "left": null,
            "margin": null,
            "max_height": null,
            "max_width": null,
            "min_height": null,
            "min_width": null,
            "object_fit": null,
            "object_position": null,
            "order": null,
            "overflow": null,
            "overflow_x": null,
            "overflow_y": null,
            "padding": null,
            "right": null,
            "top": null,
            "visibility": null,
            "width": null
          }
        },
        "8faaa84b94584a948cf802d14c73a99b": {
          "model_module": "@jupyter-widgets/controls",
          "model_module_version": "1.5.0",
          "model_name": "FloatProgressModel",
          "state": {
            "_dom_classes": [],
            "_model_module": "@jupyter-widgets/controls",
            "_model_module_version": "1.5.0",
            "_model_name": "FloatProgressModel",
            "_view_count": null,
            "_view_module": "@jupyter-widgets/controls",
            "_view_module_version": "1.5.0",
            "_view_name": "ProgressView",
            "bar_style": "success",
            "description": "",
            "description_tooltip": null,
            "layout": "IPY_MODEL_99d2e63795e14cc6b850a10e07b64609",
            "max": 35000,
            "min": 0,
            "orientation": "horizontal",
            "style": "IPY_MODEL_0f223d50f8414f0f83b8ae102144863a",
            "value": 35000
          }
        },
        "927cf03b9a23420c9041f38b3e04cd43": {
          "model_module": "@jupyter-widgets/controls",
          "model_module_version": "1.5.0",
          "model_name": "FloatProgressModel",
          "state": {
            "_dom_classes": [],
            "_model_module": "@jupyter-widgets/controls",
            "_model_module_version": "1.5.0",
            "_model_name": "FloatProgressModel",
            "_view_count": null,
            "_view_module": "@jupyter-widgets/controls",
            "_view_module_version": "1.5.0",
            "_view_name": "ProgressView",
            "bar_style": "success",
            "description": "",
            "description_tooltip": null,
            "layout": "IPY_MODEL_a5527238ee8647918aba0ee7107485de",
            "max": 440449768,
            "min": 0,
            "orientation": "horizontal",
            "style": "IPY_MODEL_a10ed126cd454795896e4b6b4bded179",
            "value": 440449768
          }
        },
        "97a880243f1445e4846ca92452095012": {
          "model_module": "@jupyter-widgets/base",
          "model_module_version": "1.2.0",
          "model_name": "LayoutModel",
          "state": {
            "_model_module": "@jupyter-widgets/base",
            "_model_module_version": "1.2.0",
            "_model_name": "LayoutModel",
            "_view_count": null,
            "_view_module": "@jupyter-widgets/base",
            "_view_module_version": "1.2.0",
            "_view_name": "LayoutView",
            "align_content": null,
            "align_items": null,
            "align_self": null,
            "border": null,
            "bottom": null,
            "display": null,
            "flex": null,
            "flex_flow": null,
            "grid_area": null,
            "grid_auto_columns": null,
            "grid_auto_flow": null,
            "grid_auto_rows": null,
            "grid_column": null,
            "grid_gap": null,
            "grid_row": null,
            "grid_template_areas": null,
            "grid_template_columns": null,
            "grid_template_rows": null,
            "height": null,
            "justify_content": null,
            "justify_items": null,
            "left": null,
            "margin": null,
            "max_height": null,
            "max_width": null,
            "min_height": null,
            "min_width": null,
            "object_fit": null,
            "object_position": null,
            "order": null,
            "overflow": null,
            "overflow_x": null,
            "overflow_y": null,
            "padding": null,
            "right": null,
            "top": null,
            "visibility": null,
            "width": null
          }
        },
        "99d2e63795e14cc6b850a10e07b64609": {
          "model_module": "@jupyter-widgets/base",
          "model_module_version": "1.2.0",
          "model_name": "LayoutModel",
          "state": {
            "_model_module": "@jupyter-widgets/base",
            "_model_module_version": "1.2.0",
            "_model_name": "LayoutModel",
            "_view_count": null,
            "_view_module": "@jupyter-widgets/base",
            "_view_module_version": "1.2.0",
            "_view_name": "LayoutView",
            "align_content": null,
            "align_items": null,
            "align_self": null,
            "border": null,
            "bottom": null,
            "display": null,
            "flex": null,
            "flex_flow": null,
            "grid_area": null,
            "grid_auto_columns": null,
            "grid_auto_flow": null,
            "grid_auto_rows": null,
            "grid_column": null,
            "grid_gap": null,
            "grid_row": null,
            "grid_template_areas": null,
            "grid_template_columns": null,
            "grid_template_rows": null,
            "height": null,
            "justify_content": null,
            "justify_items": null,
            "left": null,
            "margin": null,
            "max_height": null,
            "max_width": null,
            "min_height": null,
            "min_width": null,
            "object_fit": null,
            "object_position": null,
            "order": null,
            "overflow": null,
            "overflow_x": null,
            "overflow_y": null,
            "padding": null,
            "right": null,
            "top": null,
            "visibility": null,
            "width": null
          }
        },
        "99fc1ae302e34d9c8adc582df53dbce8": {
          "model_module": "@jupyter-widgets/controls",
          "model_module_version": "1.5.0",
          "model_name": "HTMLModel",
          "state": {
            "_dom_classes": [],
            "_model_module": "@jupyter-widgets/controls",
            "_model_module_version": "1.5.0",
            "_model_name": "HTMLModel",
            "_view_count": null,
            "_view_module": "@jupyter-widgets/controls",
            "_view_module_version": "1.5.0",
            "_view_name": "HTMLView",
            "description": "",
            "description_tooltip": null,
            "layout": "IPY_MODEL_f07e1706b8d94b26a668afac599700f4",
            "placeholder": "​",
            "style": "IPY_MODEL_7689e1ee00e34f3988a710a12f17a60a",
            "value": "tokenizer_config.json: 100%"
          }
        },
        "9a99415f7c7349f2b8724926509e49c5": {
          "model_module": "@jupyter-widgets/base",
          "model_module_version": "1.2.0",
          "model_name": "LayoutModel",
          "state": {
            "_model_module": "@jupyter-widgets/base",
            "_model_module_version": "1.2.0",
            "_model_name": "LayoutModel",
            "_view_count": null,
            "_view_module": "@jupyter-widgets/base",
            "_view_module_version": "1.2.0",
            "_view_name": "LayoutView",
            "align_content": null,
            "align_items": null,
            "align_self": null,
            "border": null,
            "bottom": null,
            "display": null,
            "flex": null,
            "flex_flow": null,
            "grid_area": null,
            "grid_auto_columns": null,
            "grid_auto_flow": null,
            "grid_auto_rows": null,
            "grid_column": null,
            "grid_gap": null,
            "grid_row": null,
            "grid_template_areas": null,
            "grid_template_columns": null,
            "grid_template_rows": null,
            "height": null,
            "justify_content": null,
            "justify_items": null,
            "left": null,
            "margin": null,
            "max_height": null,
            "max_width": null,
            "min_height": null,
            "min_width": null,
            "object_fit": null,
            "object_position": null,
            "order": null,
            "overflow": null,
            "overflow_x": null,
            "overflow_y": null,
            "padding": null,
            "right": null,
            "top": null,
            "visibility": null,
            "width": null
          }
        },
        "9fe6033d78e3455dae530d93051deea2": {
          "model_module": "@jupyter-widgets/base",
          "model_module_version": "1.2.0",
          "model_name": "LayoutModel",
          "state": {
            "_model_module": "@jupyter-widgets/base",
            "_model_module_version": "1.2.0",
            "_model_name": "LayoutModel",
            "_view_count": null,
            "_view_module": "@jupyter-widgets/base",
            "_view_module_version": "1.2.0",
            "_view_name": "LayoutView",
            "align_content": null,
            "align_items": null,
            "align_self": null,
            "border": null,
            "bottom": null,
            "display": null,
            "flex": null,
            "flex_flow": null,
            "grid_area": null,
            "grid_auto_columns": null,
            "grid_auto_flow": null,
            "grid_auto_rows": null,
            "grid_column": null,
            "grid_gap": null,
            "grid_row": null,
            "grid_template_areas": null,
            "grid_template_columns": null,
            "grid_template_rows": null,
            "height": null,
            "justify_content": null,
            "justify_items": null,
            "left": null,
            "margin": null,
            "max_height": null,
            "max_width": null,
            "min_height": null,
            "min_width": null,
            "object_fit": null,
            "object_position": null,
            "order": null,
            "overflow": null,
            "overflow_x": null,
            "overflow_y": null,
            "padding": null,
            "right": null,
            "top": null,
            "visibility": null,
            "width": null
          }
        },
        "a10ed126cd454795896e4b6b4bded179": {
          "model_module": "@jupyter-widgets/controls",
          "model_module_version": "1.5.0",
          "model_name": "ProgressStyleModel",
          "state": {
            "_model_module": "@jupyter-widgets/controls",
            "_model_module_version": "1.5.0",
            "_model_name": "ProgressStyleModel",
            "_view_count": null,
            "_view_module": "@jupyter-widgets/base",
            "_view_module_version": "1.2.0",
            "_view_name": "StyleView",
            "bar_color": null,
            "description_width": ""
          }
        },
        "a5527238ee8647918aba0ee7107485de": {
          "model_module": "@jupyter-widgets/base",
          "model_module_version": "1.2.0",
          "model_name": "LayoutModel",
          "state": {
            "_model_module": "@jupyter-widgets/base",
            "_model_module_version": "1.2.0",
            "_model_name": "LayoutModel",
            "_view_count": null,
            "_view_module": "@jupyter-widgets/base",
            "_view_module_version": "1.2.0",
            "_view_name": "LayoutView",
            "align_content": null,
            "align_items": null,
            "align_self": null,
            "border": null,
            "bottom": null,
            "display": null,
            "flex": null,
            "flex_flow": null,
            "grid_area": null,
            "grid_auto_columns": null,
            "grid_auto_flow": null,
            "grid_auto_rows": null,
            "grid_column": null,
            "grid_gap": null,
            "grid_row": null,
            "grid_template_areas": null,
            "grid_template_columns": null,
            "grid_template_rows": null,
            "height": null,
            "justify_content": null,
            "justify_items": null,
            "left": null,
            "margin": null,
            "max_height": null,
            "max_width": null,
            "min_height": null,
            "min_width": null,
            "object_fit": null,
            "object_position": null,
            "order": null,
            "overflow": null,
            "overflow_x": null,
            "overflow_y": null,
            "padding": null,
            "right": null,
            "top": null,
            "visibility": null,
            "width": null
          }
        },
        "ac4b654267df43309660e5535b0f3758": {
          "model_module": "@jupyter-widgets/controls",
          "model_module_version": "1.5.0",
          "model_name": "ProgressStyleModel",
          "state": {
            "_model_module": "@jupyter-widgets/controls",
            "_model_module_version": "1.5.0",
            "_model_name": "ProgressStyleModel",
            "_view_count": null,
            "_view_module": "@jupyter-widgets/base",
            "_view_module_version": "1.2.0",
            "_view_name": "StyleView",
            "bar_color": null,
            "description_width": ""
          }
        },
        "b16aa823e3af4e3ebf6ad19dd9b50b9e": {
          "model_module": "@jupyter-widgets/base",
          "model_module_version": "1.2.0",
          "model_name": "LayoutModel",
          "state": {
            "_model_module": "@jupyter-widgets/base",
            "_model_module_version": "1.2.0",
            "_model_name": "LayoutModel",
            "_view_count": null,
            "_view_module": "@jupyter-widgets/base",
            "_view_module_version": "1.2.0",
            "_view_name": "LayoutView",
            "align_content": null,
            "align_items": null,
            "align_self": null,
            "border": null,
            "bottom": null,
            "display": null,
            "flex": null,
            "flex_flow": null,
            "grid_area": null,
            "grid_auto_columns": null,
            "grid_auto_flow": null,
            "grid_auto_rows": null,
            "grid_column": null,
            "grid_gap": null,
            "grid_row": null,
            "grid_template_areas": null,
            "grid_template_columns": null,
            "grid_template_rows": null,
            "height": null,
            "justify_content": null,
            "justify_items": null,
            "left": null,
            "margin": null,
            "max_height": null,
            "max_width": null,
            "min_height": null,
            "min_width": null,
            "object_fit": null,
            "object_position": null,
            "order": null,
            "overflow": null,
            "overflow_x": null,
            "overflow_y": null,
            "padding": null,
            "right": null,
            "top": null,
            "visibility": null,
            "width": null
          }
        },
        "b51546c91b624a029400677cedc42de4": {
          "model_module": "@jupyter-widgets/base",
          "model_module_version": "1.2.0",
          "model_name": "LayoutModel",
          "state": {
            "_model_module": "@jupyter-widgets/base",
            "_model_module_version": "1.2.0",
            "_model_name": "LayoutModel",
            "_view_count": null,
            "_view_module": "@jupyter-widgets/base",
            "_view_module_version": "1.2.0",
            "_view_name": "LayoutView",
            "align_content": null,
            "align_items": null,
            "align_self": null,
            "border": null,
            "bottom": null,
            "display": null,
            "flex": null,
            "flex_flow": null,
            "grid_area": null,
            "grid_auto_columns": null,
            "grid_auto_flow": null,
            "grid_auto_rows": null,
            "grid_column": null,
            "grid_gap": null,
            "grid_row": null,
            "grid_template_areas": null,
            "grid_template_columns": null,
            "grid_template_rows": null,
            "height": null,
            "justify_content": null,
            "justify_items": null,
            "left": null,
            "margin": null,
            "max_height": null,
            "max_width": null,
            "min_height": null,
            "min_width": null,
            "object_fit": null,
            "object_position": null,
            "order": null,
            "overflow": null,
            "overflow_x": null,
            "overflow_y": null,
            "padding": null,
            "right": null,
            "top": null,
            "visibility": null,
            "width": null
          }
        },
        "b78e467ab8dd40509555c72e58a0faa7": {
          "model_module": "@jupyter-widgets/base",
          "model_module_version": "1.2.0",
          "model_name": "LayoutModel",
          "state": {
            "_model_module": "@jupyter-widgets/base",
            "_model_module_version": "1.2.0",
            "_model_name": "LayoutModel",
            "_view_count": null,
            "_view_module": "@jupyter-widgets/base",
            "_view_module_version": "1.2.0",
            "_view_name": "LayoutView",
            "align_content": null,
            "align_items": null,
            "align_self": null,
            "border": null,
            "bottom": null,
            "display": null,
            "flex": null,
            "flex_flow": null,
            "grid_area": null,
            "grid_auto_columns": null,
            "grid_auto_flow": null,
            "grid_auto_rows": null,
            "grid_column": null,
            "grid_gap": null,
            "grid_row": null,
            "grid_template_areas": null,
            "grid_template_columns": null,
            "grid_template_rows": null,
            "height": null,
            "justify_content": null,
            "justify_items": null,
            "left": null,
            "margin": null,
            "max_height": null,
            "max_width": null,
            "min_height": null,
            "min_width": null,
            "object_fit": null,
            "object_position": null,
            "order": null,
            "overflow": null,
            "overflow_x": null,
            "overflow_y": null,
            "padding": null,
            "right": null,
            "top": null,
            "visibility": null,
            "width": null
          }
        },
        "b7d39c4d72c24737a2d902d4e6f7898d": {
          "model_module": "@jupyter-widgets/base",
          "model_module_version": "1.2.0",
          "model_name": "LayoutModel",
          "state": {
            "_model_module": "@jupyter-widgets/base",
            "_model_module_version": "1.2.0",
            "_model_name": "LayoutModel",
            "_view_count": null,
            "_view_module": "@jupyter-widgets/base",
            "_view_module_version": "1.2.0",
            "_view_name": "LayoutView",
            "align_content": null,
            "align_items": null,
            "align_self": null,
            "border": null,
            "bottom": null,
            "display": null,
            "flex": null,
            "flex_flow": null,
            "grid_area": null,
            "grid_auto_columns": null,
            "grid_auto_flow": null,
            "grid_auto_rows": null,
            "grid_column": null,
            "grid_gap": null,
            "grid_row": null,
            "grid_template_areas": null,
            "grid_template_columns": null,
            "grid_template_rows": null,
            "height": null,
            "justify_content": null,
            "justify_items": null,
            "left": null,
            "margin": null,
            "max_height": null,
            "max_width": null,
            "min_height": null,
            "min_width": null,
            "object_fit": null,
            "object_position": null,
            "order": null,
            "overflow": null,
            "overflow_x": null,
            "overflow_y": null,
            "padding": null,
            "right": null,
            "top": null,
            "visibility": null,
            "width": null
          }
        },
        "baf234fff9114419915b1d254ceba4af": {
          "model_module": "@jupyter-widgets/base",
          "model_module_version": "1.2.0",
          "model_name": "LayoutModel",
          "state": {
            "_model_module": "@jupyter-widgets/base",
            "_model_module_version": "1.2.0",
            "_model_name": "LayoutModel",
            "_view_count": null,
            "_view_module": "@jupyter-widgets/base",
            "_view_module_version": "1.2.0",
            "_view_name": "LayoutView",
            "align_content": null,
            "align_items": null,
            "align_self": null,
            "border": null,
            "bottom": null,
            "display": null,
            "flex": null,
            "flex_flow": null,
            "grid_area": null,
            "grid_auto_columns": null,
            "grid_auto_flow": null,
            "grid_auto_rows": null,
            "grid_column": null,
            "grid_gap": null,
            "grid_row": null,
            "grid_template_areas": null,
            "grid_template_columns": null,
            "grid_template_rows": null,
            "height": null,
            "justify_content": null,
            "justify_items": null,
            "left": null,
            "margin": null,
            "max_height": null,
            "max_width": null,
            "min_height": null,
            "min_width": null,
            "object_fit": null,
            "object_position": null,
            "order": null,
            "overflow": null,
            "overflow_x": null,
            "overflow_y": null,
            "padding": null,
            "right": null,
            "top": null,
            "visibility": null,
            "width": null
          }
        },
        "bc04e7c011bc4feb9d050bbc6619c032": {
          "model_module": "@jupyter-widgets/base",
          "model_module_version": "1.2.0",
          "model_name": "LayoutModel",
          "state": {
            "_model_module": "@jupyter-widgets/base",
            "_model_module_version": "1.2.0",
            "_model_name": "LayoutModel",
            "_view_count": null,
            "_view_module": "@jupyter-widgets/base",
            "_view_module_version": "1.2.0",
            "_view_name": "LayoutView",
            "align_content": null,
            "align_items": null,
            "align_self": null,
            "border": null,
            "bottom": null,
            "display": null,
            "flex": null,
            "flex_flow": null,
            "grid_area": null,
            "grid_auto_columns": null,
            "grid_auto_flow": null,
            "grid_auto_rows": null,
            "grid_column": null,
            "grid_gap": null,
            "grid_row": null,
            "grid_template_areas": null,
            "grid_template_columns": null,
            "grid_template_rows": null,
            "height": null,
            "justify_content": null,
            "justify_items": null,
            "left": null,
            "margin": null,
            "max_height": null,
            "max_width": null,
            "min_height": null,
            "min_width": null,
            "object_fit": null,
            "object_position": null,
            "order": null,
            "overflow": null,
            "overflow_x": null,
            "overflow_y": null,
            "padding": null,
            "right": null,
            "top": null,
            "visibility": null,
            "width": null
          }
        },
        "be1726540d2b4b51bae4f64a41b3d782": {
          "model_module": "@jupyter-widgets/controls",
          "model_module_version": "1.5.0",
          "model_name": "DescriptionStyleModel",
          "state": {
            "_model_module": "@jupyter-widgets/controls",
            "_model_module_version": "1.5.0",
            "_model_name": "DescriptionStyleModel",
            "_view_count": null,
            "_view_module": "@jupyter-widgets/base",
            "_view_module_version": "1.2.0",
            "_view_name": "StyleView",
            "description_width": ""
          }
        },
        "c2540ab25277456cadd3e2e15295fe4f": {
          "model_module": "@jupyter-widgets/base",
          "model_module_version": "1.2.0",
          "model_name": "LayoutModel",
          "state": {
            "_model_module": "@jupyter-widgets/base",
            "_model_module_version": "1.2.0",
            "_model_name": "LayoutModel",
            "_view_count": null,
            "_view_module": "@jupyter-widgets/base",
            "_view_module_version": "1.2.0",
            "_view_name": "LayoutView",
            "align_content": null,
            "align_items": null,
            "align_self": null,
            "border": null,
            "bottom": null,
            "display": null,
            "flex": null,
            "flex_flow": null,
            "grid_area": null,
            "grid_auto_columns": null,
            "grid_auto_flow": null,
            "grid_auto_rows": null,
            "grid_column": null,
            "grid_gap": null,
            "grid_row": null,
            "grid_template_areas": null,
            "grid_template_columns": null,
            "grid_template_rows": null,
            "height": null,
            "justify_content": null,
            "justify_items": null,
            "left": null,
            "margin": null,
            "max_height": null,
            "max_width": null,
            "min_height": null,
            "min_width": null,
            "object_fit": null,
            "object_position": null,
            "order": null,
            "overflow": null,
            "overflow_x": null,
            "overflow_y": null,
            "padding": null,
            "right": null,
            "top": null,
            "visibility": null,
            "width": null
          }
        },
        "c507d6da67a84dfab5a71f8e9d98afab": {
          "model_module": "@jupyter-widgets/base",
          "model_module_version": "1.2.0",
          "model_name": "LayoutModel",
          "state": {
            "_model_module": "@jupyter-widgets/base",
            "_model_module_version": "1.2.0",
            "_model_name": "LayoutModel",
            "_view_count": null,
            "_view_module": "@jupyter-widgets/base",
            "_view_module_version": "1.2.0",
            "_view_name": "LayoutView",
            "align_content": null,
            "align_items": null,
            "align_self": null,
            "border": null,
            "bottom": null,
            "display": null,
            "flex": null,
            "flex_flow": null,
            "grid_area": null,
            "grid_auto_columns": null,
            "grid_auto_flow": null,
            "grid_auto_rows": null,
            "grid_column": null,
            "grid_gap": null,
            "grid_row": null,
            "grid_template_areas": null,
            "grid_template_columns": null,
            "grid_template_rows": null,
            "height": null,
            "justify_content": null,
            "justify_items": null,
            "left": null,
            "margin": null,
            "max_height": null,
            "max_width": null,
            "min_height": null,
            "min_width": null,
            "object_fit": null,
            "object_position": null,
            "order": null,
            "overflow": null,
            "overflow_x": null,
            "overflow_y": null,
            "padding": null,
            "right": null,
            "top": null,
            "visibility": null,
            "width": null
          }
        },
        "c9b1f100b68142c296f7ee3bbde483fc": {
          "model_module": "@jupyter-widgets/controls",
          "model_module_version": "1.5.0",
          "model_name": "HTMLModel",
          "state": {
            "_dom_classes": [],
            "_model_module": "@jupyter-widgets/controls",
            "_model_module_version": "1.5.0",
            "_model_name": "HTMLModel",
            "_view_count": null,
            "_view_module": "@jupyter-widgets/controls",
            "_view_module_version": "1.5.0",
            "_view_name": "HTMLView",
            "description": "",
            "description_tooltip": null,
            "layout": "IPY_MODEL_772c1f8700a144e1aeea69a248c7587a",
            "placeholder": "​",
            "style": "IPY_MODEL_1d5dbfd11e874839824d82af50d5f5fa",
            "value": "Map: 100%"
          }
        },
        "cb424b9524c34cc7bfc0936dea245d5d": {
          "model_module": "@jupyter-widgets/controls",
          "model_module_version": "1.5.0",
          "model_name": "HTMLModel",
          "state": {
            "_dom_classes": [],
            "_model_module": "@jupyter-widgets/controls",
            "_model_module_version": "1.5.0",
            "_model_name": "HTMLModel",
            "_view_count": null,
            "_view_module": "@jupyter-widgets/controls",
            "_view_module_version": "1.5.0",
            "_view_name": "HTMLView",
            "description": "",
            "description_tooltip": null,
            "layout": "IPY_MODEL_9fe6033d78e3455dae530d93051deea2",
            "placeholder": "​",
            "style": "IPY_MODEL_71df7ee2b68d4bd2b1546d54d313b9b8",
            "value": "Map: 100%"
          }
        },
        "cb682c2cb74b4558b29c7960ce3063f3": {
          "model_module": "@jupyter-widgets/base",
          "model_module_version": "1.2.0",
          "model_name": "LayoutModel",
          "state": {
            "_model_module": "@jupyter-widgets/base",
            "_model_module_version": "1.2.0",
            "_model_name": "LayoutModel",
            "_view_count": null,
            "_view_module": "@jupyter-widgets/base",
            "_view_module_version": "1.2.0",
            "_view_name": "LayoutView",
            "align_content": null,
            "align_items": null,
            "align_self": null,
            "border": null,
            "bottom": null,
            "display": null,
            "flex": null,
            "flex_flow": null,
            "grid_area": null,
            "grid_auto_columns": null,
            "grid_auto_flow": null,
            "grid_auto_rows": null,
            "grid_column": null,
            "grid_gap": null,
            "grid_row": null,
            "grid_template_areas": null,
            "grid_template_columns": null,
            "grid_template_rows": null,
            "height": null,
            "justify_content": null,
            "justify_items": null,
            "left": null,
            "margin": null,
            "max_height": null,
            "max_width": null,
            "min_height": null,
            "min_width": null,
            "object_fit": null,
            "object_position": null,
            "order": null,
            "overflow": null,
            "overflow_x": null,
            "overflow_y": null,
            "padding": null,
            "right": null,
            "top": null,
            "visibility": null,
            "width": null
          }
        },
        "cc9ea2e0702d429a8f96f0fb23ff861e": {
          "model_module": "@jupyter-widgets/controls",
          "model_module_version": "1.5.0",
          "model_name": "HTMLModel",
          "state": {
            "_dom_classes": [],
            "_model_module": "@jupyter-widgets/controls",
            "_model_module_version": "1.5.0",
            "_model_name": "HTMLModel",
            "_view_count": null,
            "_view_module": "@jupyter-widgets/controls",
            "_view_module_version": "1.5.0",
            "_view_name": "HTMLView",
            "description": "",
            "description_tooltip": null,
            "layout": "IPY_MODEL_b78e467ab8dd40509555c72e58a0faa7",
            "placeholder": "​",
            "style": "IPY_MODEL_f429d463c2cf46929ee99941f36f60e2",
            "value": "Map: 100%"
          }
        },
        "cd43b3a800fb48ca835e792b7b9de160": {
          "model_module": "@jupyter-widgets/controls",
          "model_module_version": "1.5.0",
          "model_name": "ProgressStyleModel",
          "state": {
            "_model_module": "@jupyter-widgets/controls",
            "_model_module_version": "1.5.0",
            "_model_name": "ProgressStyleModel",
            "_view_count": null,
            "_view_module": "@jupyter-widgets/base",
            "_view_module_version": "1.2.0",
            "_view_name": "StyleView",
            "bar_color": null,
            "description_width": ""
          }
        },
        "d10bb508be7e49fb82abab37a2c28105": {
          "model_module": "@jupyter-widgets/controls",
          "model_module_version": "1.5.0",
          "model_name": "HTMLModel",
          "state": {
            "_dom_classes": [],
            "_model_module": "@jupyter-widgets/controls",
            "_model_module_version": "1.5.0",
            "_model_name": "HTMLModel",
            "_view_count": null,
            "_view_module": "@jupyter-widgets/controls",
            "_view_module_version": "1.5.0",
            "_view_name": "HTMLView",
            "description": "",
            "description_tooltip": null,
            "layout": "IPY_MODEL_769e59b2edb243ec900e039913fde1f0",
            "placeholder": "​",
            "style": "IPY_MODEL_3d5d7ea1def445b488dbed71d360a446",
            "value": "tokenizer.json: 100%"
          }
        },
        "d1b0c96da3934097a054f118e369f5c9": {
          "model_module": "@jupyter-widgets/controls",
          "model_module_version": "1.5.0",
          "model_name": "FloatProgressModel",
          "state": {
            "_dom_classes": [],
            "_model_module": "@jupyter-widgets/controls",
            "_model_module_version": "1.5.0",
            "_model_name": "FloatProgressModel",
            "_view_count": null,
            "_view_module": "@jupyter-widgets/controls",
            "_view_module_version": "1.5.0",
            "_view_name": "ProgressView",
            "bar_style": "success",
            "description": "",
            "description_tooltip": null,
            "layout": "IPY_MODEL_ff49a22fe6164bfaa5963b1a6d8d318d",
            "max": 48,
            "min": 0,
            "orientation": "horizontal",
            "style": "IPY_MODEL_cd43b3a800fb48ca835e792b7b9de160",
            "value": 48
          }
        },
        "d3ab773a8cc2441d86a987c87f87bb11": {
          "model_module": "@jupyter-widgets/controls",
          "model_module_version": "1.5.0",
          "model_name": "HTMLModel",
          "state": {
            "_dom_classes": [],
            "_model_module": "@jupyter-widgets/controls",
            "_model_module_version": "1.5.0",
            "_model_name": "HTMLModel",
            "_view_count": null,
            "_view_module": "@jupyter-widgets/controls",
            "_view_module_version": "1.5.0",
            "_view_name": "HTMLView",
            "description": "",
            "description_tooltip": null,
            "layout": "IPY_MODEL_f88255f781674871ae9cebc7f79f6258",
            "placeholder": "​",
            "style": "IPY_MODEL_2ce21f692b3944a58b5f703e37ac5431",
            "value": "config.json: 100%"
          }
        },
        "d48905115fc845c6ad34691e3998097f": {
          "model_module": "@jupyter-widgets/controls",
          "model_module_version": "1.5.0",
          "model_name": "ProgressStyleModel",
          "state": {
            "_model_module": "@jupyter-widgets/controls",
            "_model_module_version": "1.5.0",
            "_model_name": "ProgressStyleModel",
            "_view_count": null,
            "_view_module": "@jupyter-widgets/base",
            "_view_module_version": "1.2.0",
            "_view_name": "StyleView",
            "bar_color": null,
            "description_width": ""
          }
        },
        "d6ef94ed562d47659ce25c932b50aded": {
          "model_module": "@jupyter-widgets/controls",
          "model_module_version": "1.5.0",
          "model_name": "DescriptionStyleModel",
          "state": {
            "_model_module": "@jupyter-widgets/controls",
            "_model_module_version": "1.5.0",
            "_model_name": "DescriptionStyleModel",
            "_view_count": null,
            "_view_module": "@jupyter-widgets/base",
            "_view_module_version": "1.2.0",
            "_view_name": "StyleView",
            "description_width": ""
          }
        },
        "da594a31cc9142b78dbddf2288c69487": {
          "model_module": "@jupyter-widgets/controls",
          "model_module_version": "1.5.0",
          "model_name": "HBoxModel",
          "state": {
            "_dom_classes": [],
            "_model_module": "@jupyter-widgets/controls",
            "_model_module_version": "1.5.0",
            "_model_name": "HBoxModel",
            "_view_count": null,
            "_view_module": "@jupyter-widgets/controls",
            "_view_module_version": "1.5.0",
            "_view_name": "HBoxView",
            "box_style": "",
            "children": [
              "IPY_MODEL_c9b1f100b68142c296f7ee3bbde483fc",
              "IPY_MODEL_8faaa84b94584a948cf802d14c73a99b",
              "IPY_MODEL_1393e755f7d0455ba02c1dc00bb72d24"
            ],
            "layout": "IPY_MODEL_97a880243f1445e4846ca92452095012"
          }
        },
        "de96627841d84c7d8c29145902a55a04": {
          "model_module": "@jupyter-widgets/base",
          "model_module_version": "1.2.0",
          "model_name": "LayoutModel",
          "state": {
            "_model_module": "@jupyter-widgets/base",
            "_model_module_version": "1.2.0",
            "_model_name": "LayoutModel",
            "_view_count": null,
            "_view_module": "@jupyter-widgets/base",
            "_view_module_version": "1.2.0",
            "_view_name": "LayoutView",
            "align_content": null,
            "align_items": null,
            "align_self": null,
            "border": null,
            "bottom": null,
            "display": null,
            "flex": null,
            "flex_flow": null,
            "grid_area": null,
            "grid_auto_columns": null,
            "grid_auto_flow": null,
            "grid_auto_rows": null,
            "grid_column": null,
            "grid_gap": null,
            "grid_row": null,
            "grid_template_areas": null,
            "grid_template_columns": null,
            "grid_template_rows": null,
            "height": null,
            "justify_content": null,
            "justify_items": null,
            "left": null,
            "margin": null,
            "max_height": null,
            "max_width": null,
            "min_height": null,
            "min_width": null,
            "object_fit": null,
            "object_position": null,
            "order": null,
            "overflow": null,
            "overflow_x": null,
            "overflow_y": null,
            "padding": null,
            "right": null,
            "top": null,
            "visibility": null,
            "width": null
          }
        },
        "df08a00ea9504e3fb8d01c1e83b7fb43": {
          "model_module": "@jupyter-widgets/controls",
          "model_module_version": "1.5.0",
          "model_name": "DescriptionStyleModel",
          "state": {
            "_model_module": "@jupyter-widgets/controls",
            "_model_module_version": "1.5.0",
            "_model_name": "DescriptionStyleModel",
            "_view_count": null,
            "_view_module": "@jupyter-widgets/base",
            "_view_module_version": "1.2.0",
            "_view_name": "StyleView",
            "description_width": ""
          }
        },
        "e01533b028f34d51ae4484e7b854d610": {
          "model_module": "@jupyter-widgets/controls",
          "model_module_version": "1.5.0",
          "model_name": "DescriptionStyleModel",
          "state": {
            "_model_module": "@jupyter-widgets/controls",
            "_model_module_version": "1.5.0",
            "_model_name": "DescriptionStyleModel",
            "_view_count": null,
            "_view_module": "@jupyter-widgets/base",
            "_view_module_version": "1.2.0",
            "_view_name": "StyleView",
            "description_width": ""
          }
        },
        "e6accbe6bc344e798dc064c1d4333cce": {
          "model_module": "@jupyter-widgets/base",
          "model_module_version": "1.2.0",
          "model_name": "LayoutModel",
          "state": {
            "_model_module": "@jupyter-widgets/base",
            "_model_module_version": "1.2.0",
            "_model_name": "LayoutModel",
            "_view_count": null,
            "_view_module": "@jupyter-widgets/base",
            "_view_module_version": "1.2.0",
            "_view_name": "LayoutView",
            "align_content": null,
            "align_items": null,
            "align_self": null,
            "border": null,
            "bottom": null,
            "display": null,
            "flex": null,
            "flex_flow": null,
            "grid_area": null,
            "grid_auto_columns": null,
            "grid_auto_flow": null,
            "grid_auto_rows": null,
            "grid_column": null,
            "grid_gap": null,
            "grid_row": null,
            "grid_template_areas": null,
            "grid_template_columns": null,
            "grid_template_rows": null,
            "height": null,
            "justify_content": null,
            "justify_items": null,
            "left": null,
            "margin": null,
            "max_height": null,
            "max_width": null,
            "min_height": null,
            "min_width": null,
            "object_fit": null,
            "object_position": null,
            "order": null,
            "overflow": null,
            "overflow_x": null,
            "overflow_y": null,
            "padding": null,
            "right": null,
            "top": null,
            "visibility": null,
            "width": null
          }
        },
        "e6d27da4d9364f51b9fbabe24ce49cd0": {
          "model_module": "@jupyter-widgets/base",
          "model_module_version": "1.2.0",
          "model_name": "LayoutModel",
          "state": {
            "_model_module": "@jupyter-widgets/base",
            "_model_module_version": "1.2.0",
            "_model_name": "LayoutModel",
            "_view_count": null,
            "_view_module": "@jupyter-widgets/base",
            "_view_module_version": "1.2.0",
            "_view_name": "LayoutView",
            "align_content": null,
            "align_items": null,
            "align_self": null,
            "border": null,
            "bottom": null,
            "display": null,
            "flex": null,
            "flex_flow": null,
            "grid_area": null,
            "grid_auto_columns": null,
            "grid_auto_flow": null,
            "grid_auto_rows": null,
            "grid_column": null,
            "grid_gap": null,
            "grid_row": null,
            "grid_template_areas": null,
            "grid_template_columns": null,
            "grid_template_rows": null,
            "height": null,
            "justify_content": null,
            "justify_items": null,
            "left": null,
            "margin": null,
            "max_height": null,
            "max_width": null,
            "min_height": null,
            "min_width": null,
            "object_fit": null,
            "object_position": null,
            "order": null,
            "overflow": null,
            "overflow_x": null,
            "overflow_y": null,
            "padding": null,
            "right": null,
            "top": null,
            "visibility": null,
            "width": null
          }
        },
        "ed729d61879f4ef4a4a26652d0dba72e": {
          "model_module": "@jupyter-widgets/controls",
          "model_module_version": "1.5.0",
          "model_name": "FloatProgressModel",
          "state": {
            "_dom_classes": [],
            "_model_module": "@jupyter-widgets/controls",
            "_model_module_version": "1.5.0",
            "_model_name": "FloatProgressModel",
            "_view_count": null,
            "_view_module": "@jupyter-widgets/controls",
            "_view_module_version": "1.5.0",
            "_view_name": "ProgressView",
            "bar_style": "success",
            "description": "",
            "description_tooltip": null,
            "layout": "IPY_MODEL_3917ebe72c574783a69007f11300ceb3",
            "max": 9,
            "min": 0,
            "orientation": "horizontal",
            "style": "IPY_MODEL_262947e10fb2421d84a960bd72a7982b",
            "value": 9
          }
        },
        "f07e1706b8d94b26a668afac599700f4": {
          "model_module": "@jupyter-widgets/base",
          "model_module_version": "1.2.0",
          "model_name": "LayoutModel",
          "state": {
            "_model_module": "@jupyter-widgets/base",
            "_model_module_version": "1.2.0",
            "_model_name": "LayoutModel",
            "_view_count": null,
            "_view_module": "@jupyter-widgets/base",
            "_view_module_version": "1.2.0",
            "_view_name": "LayoutView",
            "align_content": null,
            "align_items": null,
            "align_self": null,
            "border": null,
            "bottom": null,
            "display": null,
            "flex": null,
            "flex_flow": null,
            "grid_area": null,
            "grid_auto_columns": null,
            "grid_auto_flow": null,
            "grid_auto_rows": null,
            "grid_column": null,
            "grid_gap": null,
            "grid_row": null,
            "grid_template_areas": null,
            "grid_template_columns": null,
            "grid_template_rows": null,
            "height": null,
            "justify_content": null,
            "justify_items": null,
            "left": null,
            "margin": null,
            "max_height": null,
            "max_width": null,
            "min_height": null,
            "min_width": null,
            "object_fit": null,
            "object_position": null,
            "order": null,
            "overflow": null,
            "overflow_x": null,
            "overflow_y": null,
            "padding": null,
            "right": null,
            "top": null,
            "visibility": null,
            "width": null
          }
        },
        "f429d463c2cf46929ee99941f36f60e2": {
          "model_module": "@jupyter-widgets/controls",
          "model_module_version": "1.5.0",
          "model_name": "DescriptionStyleModel",
          "state": {
            "_model_module": "@jupyter-widgets/controls",
            "_model_module_version": "1.5.0",
            "_model_name": "DescriptionStyleModel",
            "_view_count": null,
            "_view_module": "@jupyter-widgets/base",
            "_view_module_version": "1.2.0",
            "_view_name": "StyleView",
            "description_width": ""
          }
        },
        "f4f182a3b85140aea2593ea860311e9d": {
          "model_module": "@jupyter-widgets/controls",
          "model_module_version": "1.5.0",
          "model_name": "HTMLModel",
          "state": {
            "_dom_classes": [],
            "_model_module": "@jupyter-widgets/controls",
            "_model_module_version": "1.5.0",
            "_model_name": "HTMLModel",
            "_view_count": null,
            "_view_module": "@jupyter-widgets/controls",
            "_view_module_version": "1.5.0",
            "_view_name": "HTMLView",
            "description": "",
            "description_tooltip": null,
            "layout": "IPY_MODEL_de96627841d84c7d8c29145902a55a04",
            "placeholder": "​",
            "style": "IPY_MODEL_df08a00ea9504e3fb8d01c1e83b7fb43",
            "value": " 48.0/48.0 [00:00&lt;00:00, 3.01kB/s]"
          }
        },
        "f88255f781674871ae9cebc7f79f6258": {
          "model_module": "@jupyter-widgets/base",
          "model_module_version": "1.2.0",
          "model_name": "LayoutModel",
          "state": {
            "_model_module": "@jupyter-widgets/base",
            "_model_module_version": "1.2.0",
            "_model_name": "LayoutModel",
            "_view_count": null,
            "_view_module": "@jupyter-widgets/base",
            "_view_module_version": "1.2.0",
            "_view_name": "LayoutView",
            "align_content": null,
            "align_items": null,
            "align_self": null,
            "border": null,
            "bottom": null,
            "display": null,
            "flex": null,
            "flex_flow": null,
            "grid_area": null,
            "grid_auto_columns": null,
            "grid_auto_flow": null,
            "grid_auto_rows": null,
            "grid_column": null,
            "grid_gap": null,
            "grid_row": null,
            "grid_template_areas": null,
            "grid_template_columns": null,
            "grid_template_rows": null,
            "height": null,
            "justify_content": null,
            "justify_items": null,
            "left": null,
            "margin": null,
            "max_height": null,
            "max_width": null,
            "min_height": null,
            "min_width": null,
            "object_fit": null,
            "object_position": null,
            "order": null,
            "overflow": null,
            "overflow_x": null,
            "overflow_y": null,
            "padding": null,
            "right": null,
            "top": null,
            "visibility": null,
            "width": null
          }
        },
        "ff49a22fe6164bfaa5963b1a6d8d318d": {
          "model_module": "@jupyter-widgets/base",
          "model_module_version": "1.2.0",
          "model_name": "LayoutModel",
          "state": {
            "_model_module": "@jupyter-widgets/base",
            "_model_module_version": "1.2.0",
            "_model_name": "LayoutModel",
            "_view_count": null,
            "_view_module": "@jupyter-widgets/base",
            "_view_module_version": "1.2.0",
            "_view_name": "LayoutView",
            "align_content": null,
            "align_items": null,
            "align_self": null,
            "border": null,
            "bottom": null,
            "display": null,
            "flex": null,
            "flex_flow": null,
            "grid_area": null,
            "grid_auto_columns": null,
            "grid_auto_flow": null,
            "grid_auto_rows": null,
            "grid_column": null,
            "grid_gap": null,
            "grid_row": null,
            "grid_template_areas": null,
            "grid_template_columns": null,
            "grid_template_rows": null,
            "height": null,
            "justify_content": null,
            "justify_items": null,
            "left": null,
            "margin": null,
            "max_height": null,
            "max_width": null,
            "min_height": null,
            "min_width": null,
            "object_fit": null,
            "object_position": null,
            "order": null,
            "overflow": null,
            "overflow_x": null,
            "overflow_y": null,
            "padding": null,
            "right": null,
            "top": null,
            "visibility": null,
            "width": null
          }
        }
      }
    }
  },
  "nbformat": 4,
  "nbformat_minor": 5
}
